{
 "cells": [
  {
   "cell_type": "code",
   "execution_count": 15,
   "id": "transparent-pulse",
   "metadata": {},
   "outputs": [],
   "source": [
    "from pipeline.training import SCORING, STRONG_CV\n",
    "from pipeline.training import fit_pipeline, cross_validate_pipeline\n",
    "from utils.feature_generation import get_data_with_feature\n",
    "%config IPCompleter.use_jedi = False"
   ]
  },
  {
   "cell_type": "code",
   "execution_count": 16,
   "id": "fitted-western",
   "metadata": {},
   "outputs": [],
   "source": [
    "import joblib"
   ]
  },
  {
   "cell_type": "code",
   "execution_count": 17,
   "id": "formal-senegal",
   "metadata": {},
   "outputs": [
    {
     "name": "stderr",
     "output_type": "stream",
     "text": [
      "/home/nizhikebinesi/online-store-redirects/venv/lib/python3.8/site-packages/sklearn/base.py:310: UserWarning: Trying to unpickle estimator DecisionTreeClassifier from version 0.23.2 when using version 0.24.1. This might lead to breaking code or invalid results. Use at your own risk.\n",
      "  warnings.warn(\n",
      "/home/nizhikebinesi/online-store-redirects/venv/lib/python3.8/site-packages/sklearn/base.py:310: UserWarning: Trying to unpickle estimator RandomForestClassifier from version 0.23.2 when using version 0.24.1. This might lead to breaking code or invalid results. Use at your own risk.\n",
      "  warnings.warn(\n"
     ]
    }
   ],
   "source": [
    "forest = joblib.load('./data/redir/best_rf.pkl')"
   ]
  },
  {
   "cell_type": "code",
   "execution_count": 27,
   "id": "filled-reaction",
   "metadata": {},
   "outputs": [],
   "source": [
    "import pandas as pd\n",
    "from pipeline.training import load_pipeline, score_pipeline\n",
    "%config IPCompleter.use_jedi = False\n",
    "\n",
    "pipe = load_pipeline(\"./models/tfidf_baseline1\")\n",
    "data = pd.read_csv(\"validation_data.csv\")"
   ]
  },
  {
   "cell_type": "code",
   "execution_count": 18,
   "id": "formal-swimming",
   "metadata": {},
   "outputs": [],
   "source": [
    "import pandas as pd\n",
    "validate = pd.read_csv(\"validation_data.csv\")\n",
    "validate = get_data_with_feature(validate, './data/redir')\n",
    "validate['cosine_dist'] = validate['cosine_dist'].fillna(validate['cosine_dist'].mean())\n",
    "\n",
    "X_validate = validate.drop(columns=['is_redirect'])\n",
    "y_validate = validate['is_redirect']"
   ]
  },
  {
   "cell_type": "code",
   "execution_count": 167,
   "id": "ongoing-housing",
   "metadata": {},
   "outputs": [],
   "source": [
    "import numpy as np\n",
    "pred = (forest.predict_proba(X_validate)[:, 1] * 1/4 + pipe.predict_proba(data)[:, 1] *  3/4)\n",
    "pred = (pred > 0.505).astype(np.int64)"
   ]
  },
  {
   "cell_type": "code",
   "execution_count": 168,
   "id": "integrated-jonathan",
   "metadata": {},
   "outputs": [
    {
     "name": "stdout",
     "output_type": "stream",
     "text": [
      "\n",
      "Metrics for validate:\n",
      "f1_score 0.6289\n",
      "accuracy_score 0.6949\n",
      "Confusion matrix for validate:\n",
      "[[103  37]\n",
      " [ 35  61]]\n"
     ]
    }
   ],
   "source": [
    "from sklearn.metrics import roc_auc_score, f1_score, accuracy_score, confusion_matrix\n",
    "\n",
    "print(\"\\nMetrics for validate:\")\n",
    "for metric in [f1_score, accuracy_score]:\n",
    "    print(metric.__name__, round(metric(y_validate, pred), 4))\n",
    "    \n",
    "print('Confusion matrix for validate:')\n",
    "print(confusion_matrix(y_validate, pred))"
   ]
  },
  {
   "cell_type": "code",
   "execution_count": 172,
   "id": "tutorial-integration",
   "metadata": {},
   "outputs": [
    {
     "data": {
      "text/plain": [
       "199"
      ]
     },
     "execution_count": 172,
     "metadata": {},
     "output_type": "execute_result"
    }
   ],
   "source": [
    "pipe.predict_proba(data)[:, 1].argmax()"
   ]
  },
  {
   "cell_type": "code",
   "execution_count": null,
   "id": "equipped-marks",
   "metadata": {},
   "outputs": [],
   "source": []
  },
  {
   "cell_type": "code",
   "execution_count": null,
   "id": "loved-sequence",
   "metadata": {},
   "outputs": [],
   "source": []
  },
  {
   "cell_type": "code",
   "execution_count": 178,
   "id": "textile-briefing",
   "metadata": {},
   "outputs": [],
   "source": [
    "categories = pd.read_csv(\"./data/redir/categories.csv\")\n",
    "df = pd.read_csv(\"./data/redir/420_redirects.csv\")"
   ]
  },
  {
   "cell_type": "code",
   "execution_count": 230,
   "id": "understanding-philip",
   "metadata": {},
   "outputs": [],
   "source": [
    "\"\"\"\n",
    "Full Pipeline: A-B-C\n",
    "Development Pipeline: B-C\n",
    "\n",
    "A) Making negative examples\n",
    "\n",
    "B) Offering categories for redirect(Filter)\n",
    "\n",
    "C) Predict probability for (query, category) (redirects)\n",
    "\"\"\"\n",
    "import pandas as pd\n",
    "\n",
    "\n",
    "class Preprocessor:\n",
    "    pass\n",
    "\n",
    "\n",
    "class Predictor:\n",
    "    def __init__(self, model, categories):\n",
    "        \"\"\"\n",
    "\n",
    "        :param model: sklearn-like model\n",
    "        \"\"\"\n",
    "        self.model = model\n",
    "        self.categories = categories\n",
    "\n",
    "    def preprocess(self):\n",
    "        # TODO\n",
    "        pass\n",
    "\n",
    "    def prepare_data(self, data):\n",
    "        print(data)\n",
    "        cats = pd.DataFrame()\n",
    "        cats['id'] = data['categories_ids']\n",
    "\n",
    "        df = pd.DataFrame()\n",
    "        df['category_id'] = cats['id']\n",
    "        df['category_name'] = cats.merge(self.categories)['name']\n",
    "        df['query'] = [data['query']] * len(df)\n",
    "        return df\n",
    "\n",
    "\n",
    "    def predict_for_one_category(self, atom):\n",
    "        \"\"\"\n",
    "\n",
    "        :param atom: [query: str, category_id: int]\n",
    "        :return: float score\n",
    "        \"\"\"\n",
    "        pass\n",
    "\n",
    "    def predict_scores(self, data):\n",
    "        \"\"\"\n",
    "        Метод для получения скоров для каждой категории\n",
    "        (т.е. список скоров соответствует списку категорий)\n",
    "\n",
    "\n",
    "        :param data: list/pd.DataFrame of query + category_id\n",
    "        :return: list of float\n",
    "        \"\"\"\n",
    "        pass\n",
    "\n",
    "    def predict(self, data):\n",
    "        \"\"\"\n",
    "\n",
    "        :param data:\n",
    "        :return:\n",
    "\n",
    "        Example of data:\n",
    "        [{\"query\": \"айфон X\", \"categories_ids\": [1, 42, 142]}]\n",
    "\n",
    "        Пример возвращаемого значения:\n",
    "        [{\"query\": \"айфон X\", \"category_id\": 42, \"category_name\": \"Техника Apple\", \"categories_preds\": [0.99]}]\n",
    "        \"\"\"\n",
    "        result = []\n",
    "        for d in data:\n",
    "            tmp = self.prepare_data(d)\n",
    "            print(tmp)\n",
    "            pred_old = self.model.predict_proba(tmp)[:, 1]\n",
    "            pred = tmp.iloc[pred_old.argmax()]\n",
    "            res = {\n",
    "                'query': d['query'],\n",
    "                'category_id': pred['category_id'],\n",
    "                'category_name': pred['category_name'],\n",
    "                'categories_preds': list(pred_old)\n",
    "            }\n",
    "            result.append(res)\n",
    "        return result\n"
   ]
  },
  {
   "cell_type": "code",
   "execution_count": 231,
   "id": "piano-maker",
   "metadata": {},
   "outputs": [],
   "source": [
    "p = Predictor(pipe, categories)"
   ]
  },
  {
   "cell_type": "code",
   "execution_count": 232,
   "id": "pediatric-linux",
   "metadata": {},
   "outputs": [
    {
     "data": {
      "text/html": [
       "<div>\n",
       "<style scoped>\n",
       "    .dataframe tbody tr th:only-of-type {\n",
       "        vertical-align: middle;\n",
       "    }\n",
       "\n",
       "    .dataframe tbody tr th {\n",
       "        vertical-align: top;\n",
       "    }\n",
       "\n",
       "    .dataframe thead th {\n",
       "        text-align: right;\n",
       "    }\n",
       "</style>\n",
       "<table border=\"1\" class=\"dataframe\">\n",
       "  <thead>\n",
       "    <tr style=\"text-align: right;\">\n",
       "      <th></th>\n",
       "      <th>Unnamed: 0</th>\n",
       "      <th>redir_id</th>\n",
       "      <th>rule_id</th>\n",
       "      <th>start_date</th>\n",
       "      <th>query</th>\n",
       "      <th>category_id</th>\n",
       "      <th>parent_id</th>\n",
       "      <th>category</th>\n",
       "    </tr>\n",
       "  </thead>\n",
       "  <tbody>\n",
       "    <tr>\n",
       "      <th>0</th>\n",
       "      <td>0</td>\n",
       "      <td>10303</td>\n",
       "      <td>23358</td>\n",
       "      <td>2020-08-19</td>\n",
       "      <td>dior хайлайтер</td>\n",
       "      <td>3327621</td>\n",
       "      <td>3327595.0</td>\n",
       "      <td>Хайлайтеры</td>\n",
       "    </tr>\n",
       "    <tr>\n",
       "      <th>1</th>\n",
       "      <td>1</td>\n",
       "      <td>10304</td>\n",
       "      <td>23359</td>\n",
       "      <td>2020-08-19</td>\n",
       "      <td>dior хайлатер</td>\n",
       "      <td>3327621</td>\n",
       "      <td>3327595.0</td>\n",
       "      <td>Хайлайтеры</td>\n",
       "    </tr>\n",
       "  </tbody>\n",
       "</table>\n",
       "</div>"
      ],
      "text/plain": [
       "   Unnamed: 0  redir_id  rule_id  start_date           query  category_id  \\\n",
       "0           0     10303    23358  2020-08-19  dior хайлайтер      3327621   \n",
       "1           1     10304    23359  2020-08-19   dior хайлатер      3327621   \n",
       "\n",
       "   parent_id    category  \n",
       "0  3327595.0  Хайлайтеры  \n",
       "1  3327595.0  Хайлайтеры  "
      ]
     },
     "execution_count": 232,
     "metadata": {},
     "output_type": "execute_result"
    }
   ],
   "source": [
    "df.head(2)"
   ]
  },
  {
   "cell_type": "code",
   "execution_count": 233,
   "id": "ranging-pittsburgh",
   "metadata": {},
   "outputs": [],
   "source": [
    "# df['category_id'].unique()"
   ]
  },
  {
   "cell_type": "code",
   "execution_count": 234,
   "id": "verbal-nashville",
   "metadata": {},
   "outputs": [],
   "source": [
    "d = [{\"query\": \"dior хайлайтер\", \"categories_ids\": [3327621, 3327622, 3327619, 3327959, 3328775, 3329045]}]"
   ]
  },
  {
   "cell_type": "code",
   "execution_count": 235,
   "id": "noble-table",
   "metadata": {},
   "outputs": [
    {
     "name": "stdout",
     "output_type": "stream",
     "text": [
      "{'query': 'dior хайлайтер', 'categories_ids': [3327621, 3327622, 3327619, 3327959, 3328775, 3329045]}\n",
      "   category_id    category_name           query\n",
      "0      3327621       Хайлайтеры  dior хайлайтер\n",
      "1      3327622  Туши для ресниц  dior хайлайтер\n",
      "2      3327619             Губы  dior хайлайтер\n",
      "3      3327959        Binturong  dior хайлайтер\n",
      "4      3328775       BlendSMART  dior хайлайтер\n",
      "5      3329045        BIO World  dior хайлайтер\n"
     ]
    },
    {
     "data": {
      "text/plain": [
       "[{'query': 'dior хайлайтер',\n",
       "  'category_id': 3327622,\n",
       "  'category_name': 'Туши для ресниц',\n",
       "  'categories_preds': [0.9438322449500943,\n",
       "   0.9859640181629619,\n",
       "   0.9648794970354365,\n",
       "   0.8428305945512996,\n",
       "   0.8514966224563965,\n",
       "   0.8847087510204606]}]"
      ]
     },
     "execution_count": 235,
     "metadata": {},
     "output_type": "execute_result"
    }
   ],
   "source": [
    "p.predict(d)"
   ]
  },
  {
   "cell_type": "code",
   "execution_count": null,
   "id": "higher-banner",
   "metadata": {},
   "outputs": [],
   "source": []
  },
  {
   "cell_type": "code",
   "execution_count": null,
   "id": "authorized-conspiracy",
   "metadata": {},
   "outputs": [],
   "source": []
  }
 ],
 "metadata": {
  "kernelspec": {
   "display_name": "comptech",
   "language": "python",
   "name": "comptech"
  },
  "language_info": {
   "codemirror_mode": {
    "name": "ipython",
    "version": 3
   },
   "file_extension": ".py",
   "mimetype": "text/x-python",
   "name": "python",
   "nbconvert_exporter": "python",
   "pygments_lexer": "ipython3",
   "version": "3.8.7"
  },
  "toc": {
   "nav_menu": {},
   "number_sections": true,
   "sideBar": true,
   "skip_h1_title": false,
   "title_cell": "Table of Contents",
   "title_sidebar": "Contents",
   "toc_cell": false,
   "toc_position": {},
   "toc_section_display": true,
   "toc_window_display": false
  }
 },
 "nbformat": 4,
 "nbformat_minor": 5
}
