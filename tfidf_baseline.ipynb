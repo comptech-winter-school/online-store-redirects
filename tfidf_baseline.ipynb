{
 "cells": [
  {
   "cell_type": "markdown",
   "metadata": {},
   "source": [
    "**Эту тетрадку можно запускать начиная с 2-ого пункта!**"
   ]
  },
  {
   "cell_type": "code",
   "execution_count": 1,
   "metadata": {},
   "outputs": [],
   "source": [
    "# ! pip install python-Levenshtein"
   ]
  },
  {
   "cell_type": "code",
   "execution_count": 2,
   "metadata": {},
   "outputs": [],
   "source": [
    "# from utils.make_sample import make_sample\n",
    "# import Levenshtein\n",
    "import pandas as pd\n",
    "import numpy as np\n",
    "%config IPCompleter.use_jedi = False"
   ]
  },
  {
   "cell_type": "code",
   "execution_count": 6,
   "metadata": {},
   "outputs": [],
   "source": [
    "path_to_file = \"./data/redir\"\n",
    "data = make_sample(path_to_file)"
   ]
  },
  {
   "cell_type": "code",
   "execution_count": 15,
   "metadata": {},
   "outputs": [
    {
     "data": {
      "text/plain": [
       "(3003, 4)"
      ]
     },
     "execution_count": 15,
     "metadata": {},
     "output_type": "execute_result"
    }
   ],
   "source": [
    "data.shape"
   ]
  },
  {
   "cell_type": "code",
   "execution_count": 16,
   "metadata": {},
   "outputs": [
    {
     "data": {
      "text/html": [
       "<div>\n",
       "<style scoped>\n",
       "    .dataframe tbody tr th:only-of-type {\n",
       "        vertical-align: middle;\n",
       "    }\n",
       "\n",
       "    .dataframe tbody tr th {\n",
       "        vertical-align: top;\n",
       "    }\n",
       "\n",
       "    .dataframe thead th {\n",
       "        text-align: right;\n",
       "    }\n",
       "</style>\n",
       "<table border=\"1\" class=\"dataframe\">\n",
       "  <thead>\n",
       "    <tr style=\"text-align: right;\">\n",
       "      <th></th>\n",
       "      <th>query</th>\n",
       "      <th>category_id</th>\n",
       "      <th>category_name</th>\n",
       "      <th>is_redirect</th>\n",
       "    </tr>\n",
       "  </thead>\n",
       "  <tbody>\n",
       "    <tr>\n",
       "      <th>0</th>\n",
       "      <td>dior хайлайтер</td>\n",
       "      <td>3327621</td>\n",
       "      <td>Хайлайтеры</td>\n",
       "      <td>1</td>\n",
       "    </tr>\n",
       "    <tr>\n",
       "      <th>1</th>\n",
       "      <td>dior хайлатер</td>\n",
       "      <td>3327621</td>\n",
       "      <td>Хайлайтеры</td>\n",
       "      <td>1</td>\n",
       "    </tr>\n",
       "    <tr>\n",
       "      <th>2</th>\n",
       "      <td>diorskin mineral nude luminizer</td>\n",
       "      <td>3327621</td>\n",
       "      <td>Хайлайтеры</td>\n",
       "      <td>1</td>\n",
       "    </tr>\n",
       "    <tr>\n",
       "      <th>3</th>\n",
       "      <td>хайдайтер dior</td>\n",
       "      <td>3327621</td>\n",
       "      <td>Хайлайтеры</td>\n",
       "      <td>1</td>\n",
       "    </tr>\n",
       "    <tr>\n",
       "      <th>4</th>\n",
       "      <td>хайлайтер dior</td>\n",
       "      <td>3327621</td>\n",
       "      <td>Хайлайтеры</td>\n",
       "      <td>1</td>\n",
       "    </tr>\n",
       "  </tbody>\n",
       "</table>\n",
       "</div>"
      ],
      "text/plain": [
       "                             query  category_id category_name  is_redirect\n",
       "0                   dior хайлайтер      3327621    Хайлайтеры            1\n",
       "1                    dior хайлатер      3327621    Хайлайтеры            1\n",
       "2  diorskin mineral nude luminizer      3327621    Хайлайтеры            1\n",
       "3                   хайдайтер dior      3327621    Хайлайтеры            1\n",
       "4                   хайлайтер dior      3327621    Хайлайтеры            1"
      ]
     },
     "execution_count": 16,
     "metadata": {},
     "output_type": "execute_result"
    }
   ],
   "source": [
    "data.head()"
   ]
  },
  {
   "cell_type": "code",
   "execution_count": 23,
   "metadata": {},
   "outputs": [
    {
     "data": {
      "text/plain": [
       "'для глаз'"
      ]
     },
     "execution_count": 23,
     "metadata": {},
     "output_type": "execute_result"
    }
   ],
   "source": [
    "data['category_name'].iloc[-2]"
   ]
  },
  {
   "cell_type": "markdown",
   "metadata": {},
   "source": [
    "## Подготовка train/test"
   ]
  },
  {
   "cell_type": "code",
   "execution_count": 27,
   "metadata": {},
   "outputs": [],
   "source": [
    "from sklearn.model_selection import train_test_split\n",
    "train, test = train_test_split(\n",
    "    data,\n",
    "    stratify=data['is_redirect'],\n",
    "    random_state=0,\n",
    "    shuffle=True,\n",
    "    test_size=0.2\n",
    ")"
   ]
  },
  {
   "cell_type": "code",
   "execution_count": 28,
   "metadata": {},
   "outputs": [
    {
     "data": {
      "text/plain": [
       "(2402, 4)"
      ]
     },
     "execution_count": 28,
     "metadata": {},
     "output_type": "execute_result"
    }
   ],
   "source": [
    "train.shape"
   ]
  },
  {
   "cell_type": "code",
   "execution_count": 29,
   "metadata": {},
   "outputs": [
    {
     "data": {
      "text/plain": [
       "(601, 4)"
      ]
     },
     "execution_count": 29,
     "metadata": {},
     "output_type": "execute_result"
    }
   ],
   "source": [
    "test.shape"
   ]
  },
  {
   "cell_type": "code",
   "execution_count": 30,
   "metadata": {},
   "outputs": [],
   "source": [
    "train.to_csv(\"train.csv\", index=False)\n",
    "test.to_csv(\"test.csv\", index=False)"
   ]
  },
  {
   "cell_type": "code",
   "execution_count": 35,
   "metadata": {},
   "outputs": [
    {
     "data": {
      "text/html": [
       "<div>\n",
       "<style scoped>\n",
       "    .dataframe tbody tr th:only-of-type {\n",
       "        vertical-align: middle;\n",
       "    }\n",
       "\n",
       "    .dataframe tbody tr th {\n",
       "        vertical-align: top;\n",
       "    }\n",
       "\n",
       "    .dataframe thead th {\n",
       "        text-align: right;\n",
       "    }\n",
       "</style>\n",
       "<table border=\"1\" class=\"dataframe\">\n",
       "  <thead>\n",
       "    <tr style=\"text-align: right;\">\n",
       "      <th></th>\n",
       "      <th>query</th>\n",
       "      <th>category_id</th>\n",
       "      <th>category_name</th>\n",
       "      <th>is_redirect</th>\n",
       "    </tr>\n",
       "  </thead>\n",
       "  <tbody>\n",
       "    <tr>\n",
       "      <th>2733</th>\n",
       "      <td>revolution makeup ultra</td>\n",
       "      <td>873895</td>\n",
       "      <td>для глаз</td>\n",
       "      <td>0</td>\n",
       "    </tr>\n",
       "    <tr>\n",
       "      <th>1715</th>\n",
       "      <td>secret skin mimi hydrogel eye patch</td>\n",
       "      <td>873917</td>\n",
       "      <td>уход для губ</td>\n",
       "      <td>0</td>\n",
       "    </tr>\n",
       "    <tr>\n",
       "      <th>947</th>\n",
       "      <td>Huksamsoo</td>\n",
       "      <td>3329198</td>\n",
       "      <td>Huksamsoo</td>\n",
       "      <td>1</td>\n",
       "    </tr>\n",
       "    <tr>\n",
       "      <th>1410</th>\n",
       "      <td>зилински</td>\n",
       "      <td>3327781</td>\n",
       "      <td>Zielinski &amp; Rozen</td>\n",
       "      <td>1</td>\n",
       "    </tr>\n",
       "    <tr>\n",
       "      <th>2957</th>\n",
       "      <td>туалетная вода bvlgari omnia coral</td>\n",
       "      <td>873894</td>\n",
       "      <td>мужские ароматы</td>\n",
       "      <td>0</td>\n",
       "    </tr>\n",
       "  </tbody>\n",
       "</table>\n",
       "</div>"
      ],
      "text/plain": [
       "                                    query  category_id      category_name  \\\n",
       "2733              revolution makeup ultra       873895           для глаз   \n",
       "1715  secret skin mimi hydrogel eye patch       873917       уход для губ   \n",
       "947                             Huksamsoo      3329198          Huksamsoo   \n",
       "1410                             зилински      3327781  Zielinski & Rozen   \n",
       "2957   туалетная вода bvlgari omnia coral       873894    мужские ароматы   \n",
       "\n",
       "      is_redirect  \n",
       "2733            0  \n",
       "1715            0  \n",
       "947             1  \n",
       "1410            1  \n",
       "2957            0  "
      ]
     },
     "execution_count": 35,
     "metadata": {},
     "output_type": "execute_result"
    }
   ],
   "source": [
    "train.head()"
   ]
  },
  {
   "cell_type": "markdown",
   "metadata": {},
   "source": [
    "## Бейзлайн"
   ]
  },
  {
   "cell_type": "code",
   "execution_count": 1,
   "metadata": {
    "scrolled": true
   },
   "outputs": [
    {
     "data": {
      "text/html": [
       "<div>\n",
       "<style scoped>\n",
       "    .dataframe tbody tr th:only-of-type {\n",
       "        vertical-align: middle;\n",
       "    }\n",
       "\n",
       "    .dataframe tbody tr th {\n",
       "        vertical-align: top;\n",
       "    }\n",
       "\n",
       "    .dataframe thead th {\n",
       "        text-align: right;\n",
       "    }\n",
       "</style>\n",
       "<table border=\"1\" class=\"dataframe\">\n",
       "  <thead>\n",
       "    <tr style=\"text-align: right;\">\n",
       "      <th></th>\n",
       "      <th>query</th>\n",
       "      <th>category_id</th>\n",
       "      <th>category_name</th>\n",
       "      <th>is_redirect</th>\n",
       "    </tr>\n",
       "  </thead>\n",
       "  <tbody>\n",
       "    <tr>\n",
       "      <th>0</th>\n",
       "      <td>revolution makeup ultra</td>\n",
       "      <td>873895</td>\n",
       "      <td>для глаз</td>\n",
       "      <td>0</td>\n",
       "    </tr>\n",
       "    <tr>\n",
       "      <th>1</th>\n",
       "      <td>secret skin mimi hydrogel eye patch</td>\n",
       "      <td>873917</td>\n",
       "      <td>уход для губ</td>\n",
       "      <td>0</td>\n",
       "    </tr>\n",
       "  </tbody>\n",
       "</table>\n",
       "</div>"
      ],
      "text/plain": [
       "                                 query  category_id category_name  is_redirect\n",
       "0              revolution makeup ultra       873895      для глаз            0\n",
       "1  secret skin mimi hydrogel eye patch       873917  уход для губ            0"
      ]
     },
     "execution_count": 1,
     "metadata": {},
     "output_type": "execute_result"
    }
   ],
   "source": [
    "import numpy as np\n",
    "import pandas as pd\n",
    "import matplotlib.pyplot as plt\n",
    "%config IPCompleter.use_jedi = False\n",
    "%matplotlib inline\n",
    "\n",
    "train = pd.read_csv(\"train.csv\")\n",
    "train.head(2)"
   ]
  },
  {
   "cell_type": "code",
   "execution_count": 2,
   "metadata": {},
   "outputs": [],
   "source": [
    "from pipeline.training import SCORING, STRONG_CV\n",
    "from pipeline.training import save_pipeline, load_pipeline, fit_pipeline\n",
    "from pipeline.training import make_tfidf_baseline, cross_validate_pipeline\n",
    "from utils.learning_tools import plot_learning_curve"
   ]
  },
  {
   "cell_type": "code",
   "execution_count": 3,
   "metadata": {},
   "outputs": [
    {
     "name": "stderr",
     "output_type": "stream",
     "text": [
      "[Parallel(n_jobs=4)]: Using backend LokyBackend with 4 concurrent workers.\n",
      "[Parallel(n_jobs=4)]: Done  42 tasks      | elapsed:    5.0s\n",
      "[Parallel(n_jobs=4)]: Done  50 out of  50 | elapsed:    5.7s finished\n"
     ]
    }
   ],
   "source": [
    "N_JOBS = 1\n",
    "N_JOBS_CV = 4\n",
    "pipeline = make_tfidf_baseline(N_JOBS)\n",
    "\n",
    "result = cross_validate_pipeline(\n",
    "    pipeline,\n",
    "    train,\n",
    "    train['is_redirect'],\n",
    "    cv=STRONG_CV,\n",
    "    scoring=SCORING,\n",
    "    n_jobs=N_JOBS_CV,\n",
    "    verbose=1,\n",
    ")"
   ]
  },
  {
   "cell_type": "code",
   "execution_count": 5,
   "metadata": {},
   "outputs": [
    {
     "data": {
      "text/plain": [
       "{'fit_time': array([0.26448202, 0.30593371, 0.3443408 , 0.31953216, 0.26740861,\n",
       "        0.24873376, 0.27444386, 0.25198507, 0.22937965, 0.24636555,\n",
       "        0.25215816, 0.26847124, 0.24492407, 0.22564793, 0.26036167,\n",
       "        0.25333095, 0.23522186, 0.23678374, 0.24574065, 0.23255801,\n",
       "        0.22499228, 0.22433734, 0.24496865, 0.2552855 , 0.22397828,\n",
       "        0.22647214, 0.22779059, 0.22251916, 0.22342181, 0.23282933,\n",
       "        0.23576593, 0.25252533, 0.25078344, 0.21540904, 0.23876905,\n",
       "        0.25650668, 0.24983478, 0.21879721, 0.21732044, 0.22140479,\n",
       "        0.23761129, 0.23163056, 0.2377708 , 0.24715996, 0.25368094,\n",
       "        0.22422671, 0.23913097, 0.23822212, 0.23163629, 0.23127079]),\n",
       " 'score_time': array([0.11987019, 0.12513804, 0.09527993, 0.11110973, 0.09469056,\n",
       "        0.09578562, 0.09277129, 0.08888268, 0.08953714, 0.08653235,\n",
       "        0.08004141, 0.07790256, 0.0989027 , 0.09833193, 0.08236051,\n",
       "        0.12480831, 0.08648705, 0.08778143, 0.08498192, 0.07873273,\n",
       "        0.11462808, 0.09402251, 0.08098531, 0.07575917, 0.08176565,\n",
       "        0.08490682, 0.07782984, 0.08049393, 0.0841136 , 0.08947325,\n",
       "        0.10243821, 0.08141136, 0.08491039, 0.08296537, 0.09945154,\n",
       "        0.07535696, 0.07737327, 0.07801557, 0.07843733, 0.07622457,\n",
       "        0.08251381, 0.11406469, 0.09784794, 0.09153652, 0.087291  ,\n",
       "        0.08204651, 0.07838225, 0.07900453, 0.09350252, 0.08354139]),\n",
       " 'test_accuracy': array([0.98544699, 0.97505198, 0.97083333, 0.96041667, 0.9625    ,\n",
       "        0.97505198, 0.95841996, 0.96875   , 0.97083333, 0.98333333,\n",
       "        0.97505198, 0.96257796, 0.96666667, 0.97916667, 0.9625    ,\n",
       "        0.97089397, 0.98336798, 0.95833333, 0.97291667, 0.96458333,\n",
       "        0.96673597, 0.96049896, 0.98541667, 0.94583333, 0.97916667,\n",
       "        0.96257796, 0.97505198, 0.98333333, 0.96458333, 0.97083333,\n",
       "        0.96881497, 0.96257796, 0.97083333, 0.96666667, 0.975     ,\n",
       "        0.97920998, 0.97089397, 0.97708333, 0.97291667, 0.95      ,\n",
       "        0.97505198, 0.98336798, 0.95208333, 0.96875   , 0.96875   ,\n",
       "        0.96257796, 0.97920998, 0.96875   , 0.96458333, 0.9625    ]),\n",
       " 'test_roc_auc': array([0.99828214, 0.991671  , 0.99423094, 0.99230019, 0.98519267,\n",
       "        0.99210481, 0.99010932, 0.99123312, 0.9947042 , 0.99449516,\n",
       "        0.98686448, 0.99026549, 0.99381264, 0.9953836 , 0.99383318,\n",
       "        0.99569669, 0.99253861, 0.99304575, 0.99045363, 0.99005296,\n",
       "        0.99600902, 0.98918966, 0.99816993, 0.98712633, 0.99125496,\n",
       "        0.98571924, 0.99423911, 0.99618301, 0.99128981, 0.99621978,\n",
       "        0.99267742, 0.9945688 , 0.9891939 , 0.9936764 , 0.99343251,\n",
       "        0.99508936, 0.99260802, 0.99447495, 0.99371124, 0.98662114,\n",
       "        0.99753601, 0.99883741, 0.99311547, 0.98745732, 0.98329385,\n",
       "        0.98792296, 0.99344092, 0.99292375, 0.99472162, 0.99186468]),\n",
       " 'test_f1': array([0.9844098 , 0.97379913, 0.96860987, 0.95768374, 0.96086957,\n",
       "        0.97345133, 0.95633188, 0.96659243, 0.96860987, 0.98237885,\n",
       "        0.97321429, 0.96035242, 0.96475771, 0.97787611, 0.96017699,\n",
       "        0.96875   , 0.98230088, 0.95614035, 0.97117517, 0.96247241,\n",
       "        0.96396396, 0.95824176, 0.9844098 , 0.94298246, 0.97787611,\n",
       "        0.96069869, 0.97356828, 0.98222222, 0.96213808, 0.96888889,\n",
       "        0.96688742, 0.96086957, 0.96888889, 0.96428571, 0.97333333,\n",
       "        0.97757848, 0.96956522, 0.9751693 , 0.97130243, 0.94759825,\n",
       "        0.97345133, 0.98222222, 0.94877506, 0.96674058, 0.96674058,\n",
       "        0.96035242, 0.97777778, 0.96629213, 0.96230599, 0.96035242]),\n",
       " 'test_precision': array([0.99103139, 0.9612069 , 0.97737557, 0.96412556, 0.94444444,\n",
       "        0.97345133, 0.94396552, 0.96875   , 0.98181818, 0.97807018,\n",
       "        0.98198198, 0.95614035, 0.95633188, 0.97787611, 0.96017699,\n",
       "        0.97747748, 0.98230088, 0.94372294, 0.97333333, 0.96035242,\n",
       "        0.98165138, 0.95196507, 0.98660714, 0.93478261, 0.97787611,\n",
       "        0.94827586, 0.96929825, 0.98222222, 0.96860987, 0.97321429,\n",
       "        0.96475771, 0.94444444, 0.96888889, 0.97297297, 0.97767857,\n",
       "        0.99090909, 0.95299145, 0.99082569, 0.969163  , 0.93534483,\n",
       "        0.97345133, 0.98660714, 0.95089286, 0.96888889, 0.96888889,\n",
       "        0.95614035, 0.98214286, 0.97727273, 0.96444444, 0.95614035]),\n",
       " 'test_recall': array([0.97787611, 0.98672566, 0.96      , 0.95132743, 0.97787611,\n",
       "        0.97345133, 0.96902655, 0.96444444, 0.95575221, 0.98672566,\n",
       "        0.96460177, 0.96460177, 0.97333333, 0.97787611, 0.96017699,\n",
       "        0.96017699, 0.98230088, 0.96888889, 0.96902655, 0.96460177,\n",
       "        0.94690265, 0.96460177, 0.98222222, 0.95132743, 0.97787611,\n",
       "        0.97345133, 0.97787611, 0.98222222, 0.95575221, 0.96460177,\n",
       "        0.96902655, 0.97787611, 0.96888889, 0.95575221, 0.96902655,\n",
       "        0.96460177, 0.98672566, 0.96      , 0.97345133, 0.96017699,\n",
       "        0.97345133, 0.97787611, 0.94666667, 0.96460177, 0.96460177,\n",
       "        0.96460177, 0.97345133, 0.95555556, 0.96017699, 0.96460177])}"
      ]
     },
     "execution_count": 5,
     "metadata": {},
     "output_type": "execute_result"
    }
   ],
   "source": [
    "result"
   ]
  },
  {
   "cell_type": "markdown",
   "metadata": {},
   "source": [
    "### Зависимость качества от размера выборки"
   ]
  },
  {
   "cell_type": "code",
   "execution_count": 4,
   "metadata": {
    "scrolled": true
   },
   "outputs": [
    {
     "name": "stderr",
     "output_type": "stream",
     "text": [
      "\r",
      "  0%|          | 0/5 [00:00<?, ?it/s]"
     ]
    },
    {
     "data": {
      "image/png": "[encoded data removed]",
      "text/plain": [
       "<Figure size 432x288 with 1 Axes>"
      ]
     },
     "metadata": {
      "needs_background": "light"
     },
     "output_type": "display_data"
    },
    {
     "name": "stderr",
     "output_type": "stream",
     "text": [
      "\r",
      " 20%|██        | 1/5 [00:39<02:38, 39.52s/it]"
     ]
    },
    {
     "data": {
      "image/png": "[encoded data removed]",
      "text/plain": [
       "<Figure size 432x288 with 1 Axes>"
      ]
     },
     "metadata": {
      "needs_background": "light"
     },
     "output_type": "display_data"
    },
    {
     "name": "stderr",
     "output_type": "stream",
     "text": [
      "\r",
      " 40%|████      | 2/5 [01:17<01:56, 38.70s/it]"
     ]
    },
    {
     "data": {
      "image/png": "[encoded data removed]",
      "text/plain": [
       "<Figure size 432x288 with 1 Axes>"
      ]
     },
     "metadata": {
      "needs_background": "light"
     },
     "output_type": "display_data"
    },
    {
     "name": "stderr",
     "output_type": "stream",
     "text": [
      "\r",
      " 60%|██████    | 3/5 [01:57<01:18, 39.34s/it]"
     ]
    },
    {
     "data": {
      "image/png": "[encoded data removed]",
      "text/plain": [
       "<Figure size 432x288 with 1 Axes>"
      ]
     },
     "metadata": {
      "needs_background": "light"
     },
     "output_type": "display_data"
    },
    {
     "name": "stderr",
     "output_type": "stream",
     "text": [
      "\r",
      " 80%|████████  | 4/5 [02:38<00:40, 40.07s/it]"
     ]
    },
    {
     "data": {
      "image/png": "[encoded data removed]",
      "text/plain": [
       "<Figure size 432x288 with 1 Axes>"
      ]
     },
     "metadata": {
      "needs_background": "light"
     },
     "output_type": "display_data"
    },
    {
     "name": "stderr",
     "output_type": "stream",
     "text": [
      "100%|██████████| 5/5 [03:22<00:00, 40.53s/it]\n"
     ]
    }
   ],
   "source": [
    "from tqdm import tqdm\n",
    "\n",
    "\n",
    "for s in tqdm(['accuracy', 'roc_auc', 'f1', 'precision', 'recall']):\n",
    "    plot = plot_learning_curve(\n",
    "        pipeline,\n",
    "        s,\n",
    "        train,\n",
    "        train['is_redirect'],\n",
    "        scoring=s,\n",
    "        cv=STRONG_CV,\n",
    "        n_jobs=N_JOBS_CV,\n",
    "    )\n",
    "    plot.show()\n"
   ]
  },
  {
   "cell_type": "code",
   "execution_count": 6,
   "metadata": {},
   "outputs": [
    {
     "data": {
      "text/plain": [
       "Pipeline(steps=[('features',\n",
       "                 FeatureUnion(transformer_list=[('query_feats',\n",
       "                                                 Pipeline(steps=[('query',\n",
       "                                                                  ColumnSelector(col='query')),\n",
       "                                                                 ('tfidf',\n",
       "                                                                  TfidfVectorizer(analyzer='char_wb',\n",
       "                                                                                  ngram_range=(2,\n",
       "                                                                                               3)))])),\n",
       "                                                ('category_name',\n",
       "                                                 Pipeline(steps=[('category_name',\n",
       "                                                                  ColumnSelector(col='category_name')),\n",
       "                                                                 ('tfidf',\n",
       "                                                                  TfidfVectorizer(analyzer='char_wb',\n",
       "                                                                                  ngram_range=(2,\n",
       "                                                                                               3)))]))])),\n",
       "                ('clf', LogisticRegression(n_jobs=1, random_state=1))])"
      ]
     },
     "execution_count": 6,
     "metadata": {},
     "output_type": "execute_result"
    }
   ],
   "source": [
    "pipeline.fit(train, train['is_redirect'])"
   ]
  },
  {
   "cell_type": "code",
   "execution_count": 8,
   "metadata": {},
   "outputs": [],
   "source": [
    "pred = pipeline.predict(train)"
   ]
  },
  {
   "cell_type": "code",
   "execution_count": 10,
   "metadata": {},
   "outputs": [
    {
     "name": "stdout",
     "output_type": "stream",
     "text": [
      "0.9903209426560196\n",
      "0.9898275099513489\n",
      "0.9904246461282264\n"
     ]
    }
   ],
   "source": [
    "from sklearn.metrics import roc_auc_score, f1_score, accuracy_score\n",
    "for s in [roc_auc_score, f1_score, accuracy_score]:\n",
    "    print(s(pred, train['is_redirect']))"
   ]
  },
  {
   "cell_type": "code",
   "execution_count": 12,
   "metadata": {},
   "outputs": [],
   "source": [
    "MODEL_PATH = './models/tfidf_baseline'\n",
    "save_pipeline(pipeline, MODEL_PATH)"
   ]
  },
  {
   "cell_type": "code",
   "execution_count": 13,
   "metadata": {
    "scrolled": true
   },
   "outputs": [
    {
     "data": {
      "text/plain": [
       "Pipeline(steps=[('features',\n",
       "                 FeatureUnion(transformer_list=[('query_feats',\n",
       "                                                 Pipeline(steps=[('query',\n",
       "                                                                  ColumnSelector(col='query')),\n",
       "                                                                 ('tfidf',\n",
       "                                                                  TfidfVectorizer(analyzer='char_wb',\n",
       "                                                                                  ngram_range=(2,\n",
       "                                                                                               3)))])),\n",
       "                                                ('category_name',\n",
       "                                                 Pipeline(steps=[('category_name',\n",
       "                                                                  ColumnSelector(col='category_name')),\n",
       "                                                                 ('tfidf',\n",
       "                                                                  TfidfVectorizer(analyzer='char_wb',\n",
       "                                                                                  ngram_range=(2,\n",
       "                                                                                               3)))]))])),\n",
       "                ('clf', LogisticRegression(n_jobs=1, random_state=1))])"
      ]
     },
     "execution_count": 13,
     "metadata": {},
     "output_type": "execute_result"
    }
   ],
   "source": [
    "MODEL_PATH = './models/tfidf_baseline'\n",
    "pipeline = load_pipeline(MODEL_PATH)\n",
    "pipeline"
   ]
  },
  {
   "cell_type": "code",
   "execution_count": 14,
   "metadata": {},
   "outputs": [
    {
     "name": "stdout",
     "output_type": "stream",
     "text": [
      "0.9903209426560196\n",
      "0.9898275099513489\n",
      "0.9904246461282264\n"
     ]
    }
   ],
   "source": [
    "from sklearn.metrics import roc_auc_score, f1_score, accuracy_score\n",
    "for s in [roc_auc_score, f1_score, accuracy_score]:\n",
    "    print(s(pred, train['is_redirect']))"
   ]
  }
 ],
 "metadata": {
  "kernelspec": {
   "display_name": "Python 3",
   "language": "python",
   "name": "python3"
  },
  "language_info": {
   "codemirror_mode": {
    "name": "ipython",
    "version": 3
   },
   "file_extension": ".py",
   "mimetype": "text/x-python",
   "name": "python",
   "nbconvert_exporter": "python",
   "pygments_lexer": "ipython3",
   "version": "3.8.7"
  },
  "toc": {
   "nav_menu": {},
   "number_sections": true,
   "sideBar": true,
   "skip_h1_title": false,
   "title_cell": "Table of Contents",
   "title_sidebar": "Contents",
   "toc_cell": false,
   "toc_position": {},
   "toc_section_display": true,
   "toc_window_display": false
  }
 },
 "nbformat": 4,
 "nbformat_minor": 4
}
