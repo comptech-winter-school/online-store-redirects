{
 "cells": [
  {
   "cell_type": "markdown",
   "metadata": {},
   "source": [
    "**Эту тетрадку можно запускать начиная с 2-ого пункта!**\n",
    "## Подготовка данных"
   ]
  },
  {
   "cell_type": "code",
   "execution_count": 1,
   "metadata": {},
   "outputs": [],
   "source": [
    "# ! pip install python-Levenshtein"
   ]
  },
  {
   "cell_type": "code",
   "execution_count": 2,
   "metadata": {},
   "outputs": [],
   "source": [
    "from utils.make_sample import make_sample\n",
    "import Levenshtein\n",
    "import pandas as pd\n",
    "import numpy as np\n",
    "%config IPCompleter.use_jedi = False"
   ]
  },
  {
   "cell_type": "code",
   "execution_count": 3,
   "metadata": {},
   "outputs": [],
   "source": [
    "import random\n",
    "import pandas as pd\n",
    "from json import load\n",
    "random.seed(0)\n",
    "\n",
    "\n",
    "def get_queries_from_sessions(json_path):\n",
    "    with open(json_path) as ff:\n",
    "        data = load(ff)\n",
    "    queries = set()\n",
    "    for x in data:\n",
    "        queries.add(x['query'])\n",
    "    queries = list(queries)\n",
    "    return queries\n",
    "\n",
    "\n",
    "def make_positive_examples(path, columns=['query', 'category_id', 'category'], to_columns=['query', 'category_id', 'category_name']):\n",
    "    df = pd.read_csv(path)\n",
    "    df = df[columns]\n",
    "    df.columns = to_columns\n",
    "    df['is_redirect'] = 1\n",
    "    return df\n",
    "\n",
    "def make_negative_examples(queries, positive_categories):\n",
    "    df = pd.DataFrame()\n",
    "    df['query'] = queries\n",
    "    \n",
    "    tmp = []\n",
    "    for _ in range(len(queries)):\n",
    "        tmp.append(random.choice(positive_categories))\n",
    "    df['category_id'] = [x[0] for x in tmp]\n",
    "    df['category_name'] = [x[1] for x in tmp]\n",
    "    return df\n",
    "\n",
    "def make_dataset(positive_path, sessions_path, neg_fract=1., neg_size=None):\n",
    "    positive = make_positive_examples(positive_path)\n",
    "    queries = get_queries_from_sessions(sessions_path)\n",
    "    positive_categories = list(set(zip(positive['category_id'].tolist(), positive['category_name'].tolist())))\n",
    "    negative = make_negative_examples(queries, positive_categories)\n",
    "    negative = negative.sample(frac=1).reset_index(drop=True)\n",
    "    negative['is_redirect'] = 0\n",
    "    if neg_size:\n",
    "        negative_tmp = negative.iloc[:neg_size]\n",
    "    else:\n",
    "        negative_tmp = negative.iloc[:int(neg_fract * len(positive))]\n",
    "    data = pd.concat([positive, negative_tmp], ignore_index=True)\n",
    "    data = data.sample(frac=1).reset_index(drop=True)\n",
    "    return data, positive, negative"
   ]
  },
  {
   "cell_type": "code",
   "execution_count": 4,
   "metadata": {},
   "outputs": [],
   "source": [
    "data, positive, negative = make_dataset('./data/redir/420_redirects.csv', './data/420_searches.json', neg_size=2000)"
   ]
  },
  {
   "cell_type": "code",
   "execution_count": 5,
   "metadata": {},
   "outputs": [
    {
     "data": {
      "text/plain": [
       "(3412, 4)"
      ]
     },
     "execution_count": 5,
     "metadata": {},
     "output_type": "execute_result"
    }
   ],
   "source": [
    "data.shape"
   ]
  },
  {
   "cell_type": "code",
   "execution_count": 6,
   "metadata": {},
   "outputs": [
    {
     "data": {
      "text/plain": [
       "1412"
      ]
     },
     "execution_count": 6,
     "metadata": {},
     "output_type": "execute_result"
    }
   ],
   "source": [
    "len(positive)"
   ]
  },
  {
   "cell_type": "code",
   "execution_count": 7,
   "metadata": {
    "scrolled": true
   },
   "outputs": [
    {
     "data": {
      "text/plain": [
       "0    2000\n",
       "1    1412\n",
       "Name: is_redirect, dtype: int64"
      ]
     },
     "execution_count": 7,
     "metadata": {},
     "output_type": "execute_result"
    }
   ],
   "source": [
    "data['is_redirect'].value_counts()"
   ]
  },
  {
   "cell_type": "code",
   "execution_count": 8,
   "metadata": {},
   "outputs": [],
   "source": [
    "data.to_csv(\"data1.csv\", index=False)\n",
    "positive.to_csv(\"positive1.csv\", index=False)\n",
    "negative.to_csv(\"negative1.csv\", index=False)"
   ]
  },
  {
   "cell_type": "code",
   "execution_count": 9,
   "metadata": {},
   "outputs": [],
   "source": [
    "t = pd.concat(\n",
    "    [\n",
    "        negative['category_name'].drop_duplicates(),\n",
    "        positive['category_name'].drop_duplicates()\n",
    "    ], ignore_index=True\n",
    ")"
   ]
  },
  {
   "cell_type": "code",
   "execution_count": 10,
   "metadata": {},
   "outputs": [
    {
     "data": {
      "text/plain": [
       "820"
      ]
     },
     "execution_count": 10,
     "metadata": {},
     "output_type": "execute_result"
    }
   ],
   "source": [
    "t.duplicated().sum()"
   ]
  },
  {
   "cell_type": "code",
   "execution_count": 11,
   "metadata": {
    "scrolled": true
   },
   "outputs": [
    {
     "data": {
      "text/html": [
       "<div>\n",
       "<style scoped>\n",
       "    .dataframe tbody tr th:only-of-type {\n",
       "        vertical-align: middle;\n",
       "    }\n",
       "\n",
       "    .dataframe tbody tr th {\n",
       "        vertical-align: top;\n",
       "    }\n",
       "\n",
       "    .dataframe thead th {\n",
       "        text-align: right;\n",
       "    }\n",
       "</style>\n",
       "<table border=\"1\" class=\"dataframe\">\n",
       "  <thead>\n",
       "    <tr style=\"text-align: right;\">\n",
       "      <th></th>\n",
       "      <th>query</th>\n",
       "      <th>category_id</th>\n",
       "      <th>category_name</th>\n",
       "      <th>is_redirect</th>\n",
       "    </tr>\n",
       "  </thead>\n",
       "  <tbody>\n",
       "    <tr>\n",
       "      <th>0</th>\n",
       "      <td>лаковый тинт для губ</td>\n",
       "      <td>3328459</td>\n",
       "      <td>Jo Malone London</td>\n",
       "      <td>0</td>\n",
       "    </tr>\n",
       "    <tr>\n",
       "      <th>1</th>\n",
       "      <td>L:A BRUKET</td>\n",
       "      <td>3328292</td>\n",
       "      <td>L:A BRUKET</td>\n",
       "      <td>1</td>\n",
       "    </tr>\n",
       "    <tr>\n",
       "      <th>2</th>\n",
       "      <td>выпрямляющий кондиционер</td>\n",
       "      <td>3327985</td>\n",
       "      <td>Sergey Naumov</td>\n",
       "      <td>0</td>\n",
       "    </tr>\n",
       "    <tr>\n",
       "      <th>3</th>\n",
       "      <td>маска с древесным углем</td>\n",
       "      <td>3328323</td>\n",
       "      <td>DS</td>\n",
       "      <td>0</td>\n",
       "    </tr>\n",
       "    <tr>\n",
       "      <th>4</th>\n",
       "      <td>шампунь эко</td>\n",
       "      <td>3328797</td>\n",
       "      <td>HURRAW!</td>\n",
       "      <td>0</td>\n",
       "    </tr>\n",
       "  </tbody>\n",
       "</table>\n",
       "</div>"
      ],
      "text/plain": [
       "                      query  category_id     category_name  is_redirect\n",
       "0      лаковый тинт для губ      3328459  Jo Malone London            0\n",
       "1                L:A BRUKET      3328292        L:A BRUKET            1\n",
       "2  выпрямляющий кондиционер      3327985     Sergey Naumov            0\n",
       "3   маска с древесным углем      3328323                DS            0\n",
       "4               шампунь эко      3328797          HURRAW!             0"
      ]
     },
     "execution_count": 11,
     "metadata": {},
     "output_type": "execute_result"
    }
   ],
   "source": [
    "data.head()"
   ]
  },
  {
   "cell_type": "markdown",
   "metadata": {},
   "source": [
    "## Бейзлайн"
   ]
  },
  {
   "cell_type": "code",
   "execution_count": 12,
   "metadata": {
    "scrolled": false
   },
   "outputs": [],
   "source": [
    "import numpy as np\n",
    "import pandas as pd\n",
    "import matplotlib.pyplot as plt\n",
    "%config IPCompleter.use_jedi = False\n",
    "%matplotlib inline\n",
    "\n",
    "train = pd.read_csv(\"data1.csv\")\n",
    "# train.head(2)"
   ]
  },
  {
   "cell_type": "code",
   "execution_count": 13,
   "metadata": {},
   "outputs": [
    {
     "data": {
      "text/plain": [
       "0"
      ]
     },
     "execution_count": 13,
     "metadata": {},
     "output_type": "execute_result"
    }
   ],
   "source": [
    "train['category_name'].apply(lambda x: ',' in x).sum()"
   ]
  },
  {
   "cell_type": "code",
   "execution_count": 14,
   "metadata": {},
   "outputs": [],
   "source": [
    "from pipeline.training import SCORING, STRONG_CV\n",
    "from sklearn.model_selection import KFold\n",
    "from pipeline.training import save_pipeline, load_pipeline, fit_pipeline\n",
    "from pipeline.training import make_tfidf_baseline, cross_validate_pipeline\n",
    "from utils.learning_tools import plot_learning_curve"
   ]
  },
  {
   "cell_type": "code",
   "execution_count": 15,
   "metadata": {
    "scrolled": true
   },
   "outputs": [
    {
     "name": "stderr",
     "output_type": "stream",
     "text": [
      "[Parallel(n_jobs=4)]: Using backend LokyBackend with 4 concurrent workers.\n",
      "[Parallel(n_jobs=4)]: Done  42 tasks      | elapsed:    5.3s\n",
      "[Parallel(n_jobs=4)]: Done  50 out of  50 | elapsed:    6.0s finished\n"
     ]
    }
   ],
   "source": [
    "N_JOBS = 1\n",
    "N_JOBS_CV = 4\n",
    "pipeline = make_tfidf_baseline(N_JOBS)\n",
    "cv = KFold(shuffle=True, random_state=0)\n",
    "\n",
    "result = cross_validate_pipeline(\n",
    "    pipeline,\n",
    "    train,\n",
    "    train['is_redirect'],\n",
    "    cv=STRONG_CV,\n",
    "    scoring=SCORING,\n",
    "    n_jobs=N_JOBS_CV,\n",
    "    verbose=1,\n",
    ")"
   ]
  },
  {
   "cell_type": "code",
   "execution_count": 16,
   "metadata": {
    "scrolled": true
   },
   "outputs": [
    {
     "data": {
      "text/plain": [
       "{'fit_time': array([0.28085423, 0.28097939, 0.28012443, 0.28354621, 0.24384618,\n",
       "        0.24490309, 0.23948431, 0.23684931, 0.2591691 , 0.26594329,\n",
       "        0.26210761, 0.26173782, 0.27541947, 0.28440022, 0.28447318,\n",
       "        0.28568435, 0.23516393, 0.24037576, 0.2356987 , 0.24270391,\n",
       "        0.25396752, 0.23740315, 0.24720764, 0.24553227, 0.24303269,\n",
       "        0.24454379, 0.23926878, 0.2423048 , 0.23633504, 0.24046946,\n",
       "        0.23877263, 0.24452162, 0.2356205 , 0.23857737, 0.23868871,\n",
       "        0.24008894, 0.25348878, 0.25527096, 0.25256014, 0.25237632,\n",
       "        0.23999047, 0.24015832, 0.24754691, 0.24504709, 0.24051714,\n",
       "        0.24817276, 0.25677228, 0.24965715, 0.22944069, 0.22771645]),\n",
       " 'score_time': array([0.09661174, 0.10539627, 0.09670496, 0.09690857, 0.09713221,\n",
       "        0.09522223, 0.09612393, 0.10216045, 0.10044956, 0.09916353,\n",
       "        0.09580922, 0.10376906, 0.10518026, 0.10347843, 0.09840703,\n",
       "        0.09965777, 0.09947467, 0.105546  , 0.10119891, 0.10403347,\n",
       "        0.09676862, 0.09979582, 0.10093665, 0.10229063, 0.0985496 ,\n",
       "        0.10323405, 0.0973146 , 0.09852242, 0.10221767, 0.10652685,\n",
       "        0.10391092, 0.09681225, 0.10047579, 0.10589194, 0.1028955 ,\n",
       "        0.10335636, 0.10123038, 0.10357046, 0.09873652, 0.09623384,\n",
       "        0.09990788, 0.09774327, 0.09861469, 0.09712458, 0.11032224,\n",
       "        0.09986258, 0.09541297, 0.09734225, 0.09574175, 0.11095309]),\n",
       " 'test_accuracy': array([0.7715959 , 0.7818448 , 0.77859238, 0.80498534, 0.78152493,\n",
       "        0.7818448 , 0.76720351, 0.76832845, 0.78005865, 0.77565982,\n",
       "        0.75256223, 0.78770132, 0.79912023, 0.78445748, 0.76979472,\n",
       "        0.75841874, 0.77598829, 0.7888563 , 0.78592375, 0.76979472,\n",
       "        0.77452416, 0.79941435, 0.7888563 , 0.77565982, 0.74486804,\n",
       "        0.80673499, 0.74670571, 0.74486804, 0.7888563 , 0.771261  ,\n",
       "        0.78623719, 0.79062958, 0.7829912 , 0.7829912 , 0.75659824,\n",
       "        0.77891654, 0.78916545, 0.77859238, 0.80205279, 0.7771261 ,\n",
       "        0.75256223, 0.77745242, 0.80351906, 0.7829912 , 0.77565982,\n",
       "        0.79502196, 0.74963397, 0.77859238, 0.76392962, 0.79912023]),\n",
       " 'test_roc_auc': array([0.8629417 , 0.87592756, 0.87687943, 0.89657801, 0.8866578 ,\n",
       "        0.88348057, 0.86590989, 0.86388298, 0.87968085, 0.86434397,\n",
       "        0.84541519, 0.89060954, 0.87989362, 0.88212766, 0.86066489,\n",
       "        0.86787102, 0.87932862, 0.8756117 , 0.87841312, 0.8647961 ,\n",
       "        0.86485866, 0.89199647, 0.87776596, 0.87266844, 0.85030142,\n",
       "        0.89286219, 0.85801237, 0.87309397, 0.87180851, 0.86904255,\n",
       "        0.88735866, 0.87813604, 0.8685727 , 0.8783422 , 0.86281915,\n",
       "        0.87071555, 0.88540636, 0.86691489, 0.89712766, 0.87409574,\n",
       "        0.85212014, 0.87893993, 0.88672872, 0.86726064, 0.87529255,\n",
       "        0.89165194, 0.85117491, 0.87537234, 0.86964539, 0.8901773 ]),\n",
       " 'test_f1': array([0.72438163, 0.73628319, 0.73462214, 0.7694974 , 0.73249551,\n",
       "        0.7372134 , 0.71351351, 0.72569444, 0.73498233, 0.73391304,\n",
       "        0.70811744, 0.73684211, 0.76500858, 0.73703041, 0.72407733,\n",
       "        0.71502591, 0.72824156, 0.74736842, 0.74475524, 0.7201426 ,\n",
       "        0.72982456, 0.75666075, 0.74558304, 0.73204904, 0.69257951,\n",
       "        0.76760563, 0.7092437 , 0.69473684, 0.74377224, 0.71841155,\n",
       "        0.74475524, 0.7432675 , 0.73943662, 0.74394464, 0.71768707,\n",
       "        0.73179396, 0.75      , 0.72987478, 0.76106195, 0.73426573,\n",
       "        0.70194004, 0.73239437, 0.75985663, 0.74482759, 0.72920354,\n",
       "        0.74358974, 0.70363951, 0.72890485, 0.72289157, 0.75752212]),\n",
       " 'test_precision': array([0.72438163, 0.73758865, 0.728223  , 0.75254237, 0.74181818,\n",
       "        0.73591549, 0.72794118, 0.71088435, 0.73239437, 0.72013652,\n",
       "        0.69256757, 0.75746269, 0.74086379, 0.74368231, 0.71777003,\n",
       "        0.69932432, 0.73214286, 0.73958333, 0.73448276, 0.72401434,\n",
       "        0.72473868, 0.76071429, 0.74295775, 0.72318339, 0.69014085,\n",
       "        0.76491228, 0.67628205, 0.6875    , 0.74642857, 0.73161765,\n",
       "        0.73702422, 0.75547445, 0.73426573, 0.72635135, 0.68954248,\n",
       "        0.73571429, 0.73720137, 0.73646209, 0.75971731, 0.72413793,\n",
       "        0.70070423, 0.72982456, 0.76811594, 0.72483221, 0.72791519,\n",
       "        0.77186312, 0.69047619, 0.73818182, 0.70234114, 0.75618375]),\n",
       " 'test_recall': array([0.72438163, 0.73498233, 0.74113475, 0.78723404, 0.72340426,\n",
       "        0.7385159 , 0.69964664, 0.74113475, 0.73758865, 0.74822695,\n",
       "        0.72438163, 0.71731449, 0.79078014, 0.73049645, 0.73049645,\n",
       "        0.73144876, 0.72438163, 0.75531915, 0.75531915, 0.71631206,\n",
       "        0.73498233, 0.75265018, 0.74822695, 0.74113475, 0.69503546,\n",
       "        0.77031802, 0.74558304, 0.70212766, 0.74113475, 0.70567376,\n",
       "        0.75265018, 0.73144876, 0.74468085, 0.76241135, 0.74822695,\n",
       "        0.72791519, 0.76325088, 0.72340426, 0.76241135, 0.74468085,\n",
       "        0.70318021, 0.73498233, 0.75177305, 0.76595745, 0.73049645,\n",
       "        0.71731449, 0.71731449, 0.71985816, 0.74468085, 0.75886525])}"
      ]
     },
     "execution_count": 16,
     "metadata": {},
     "output_type": "execute_result"
    }
   ],
   "source": [
    "result"
   ]
  },
  {
   "cell_type": "markdown",
   "metadata": {},
   "source": [
    "### Зависимость качества от размера выборки"
   ]
  },
  {
   "cell_type": "code",
   "execution_count": 17,
   "metadata": {
    "scrolled": true
   },
   "outputs": [
    {
     "name": "stderr",
     "output_type": "stream",
     "text": [
      "\r",
      "  0%|          | 0/5 [00:00<?, ?it/s]"
     ]
    },
    {
     "data": {
      "image/png": "[encoded data removed]",
      "text/plain": [
       "<Figure size 432x288 with 1 Axes>"
      ]
     },
     "metadata": {
      "needs_background": "light"
     },
     "output_type": "display_data"
    },
    {
     "name": "stderr",
     "output_type": "stream",
     "text": [
      "\r",
      " 20%|██        | 1/5 [00:42<02:49, 42.30s/it]"
     ]
    },
    {
     "data": {
      "image/png": "[encoded data removed]",
      "text/plain": [
       "<Figure size 432x288 with 1 Axes>"
      ]
     },
     "metadata": {
      "needs_background": "light"
     },
     "output_type": "display_data"
    },
    {
     "name": "stderr",
     "output_type": "stream",
     "text": [
      "\r",
      " 40%|████      | 2/5 [01:27<02:11, 43.84s/it]"
     ]
    },
    {
     "data": {
      "image/png": "[encoded data removed]",
      "text/plain": [
       "<Figure size 432x288 with 1 Axes>"
      ]
     },
     "metadata": {
      "needs_background": "light"
     },
     "output_type": "display_data"
    },
    {
     "name": "stderr",
     "output_type": "stream",
     "text": [
      "\r",
      " 60%|██████    | 3/5 [02:15<01:31, 45.70s/it]"
     ]
    },
    {
     "data": {
      "image/png": "[encoded data removed]",
      "text/plain": [
       "<Figure size 432x288 with 1 Axes>"
      ]
     },
     "metadata": {
      "needs_background": "light"
     },
     "output_type": "display_data"
    },
    {
     "name": "stderr",
     "output_type": "stream",
     "text": [
      "\r",
      " 80%|████████  | 4/5 [02:59<00:45, 45.22s/it]"
     ]
    },
    {
     "data": {
      "image/png": "[encoded data removed]",
      "text/plain": [
       "<Figure size 432x288 with 1 Axes>"
      ]
     },
     "metadata": {
      "needs_background": "light"
     },
     "output_type": "display_data"
    },
    {
     "name": "stderr",
     "output_type": "stream",
     "text": [
      "100%|██████████| 5/5 [03:45<00:00, 45.10s/it]\n"
     ]
    }
   ],
   "source": [
    "from tqdm import tqdm\n",
    "\n",
    "\n",
    "for s in tqdm(['accuracy', 'roc_auc', 'f1', 'precision', 'recall']):\n",
    "    plot = plot_learning_curve(\n",
    "        pipeline,\n",
    "        s,\n",
    "        train,\n",
    "        train['is_redirect'],\n",
    "        scoring=s,\n",
    "        cv=STRONG_CV,\n",
    "        n_jobs=N_JOBS_CV,\n",
    "    )\n",
    "    plot.show()\n"
   ]
  },
  {
   "cell_type": "code",
   "execution_count": 18,
   "metadata": {},
   "outputs": [],
   "source": [
    "pipeline.fit(train, train['is_redirect'])\n",
    "pred = pipeline.predict(train)"
   ]
  },
  {
   "cell_type": "code",
   "execution_count": 19,
   "metadata": {
    "scrolled": true
   },
   "outputs": [
    {
     "data": {
      "text/plain": [
       "0.9513553657630895"
      ]
     },
     "execution_count": 19,
     "metadata": {},
     "output_type": "execute_result"
    }
   ],
   "source": [
    "from sklearn.metrics import roc_auc_score, f1_score\n",
    "f1_score(train['is_redirect'][train['is_redirect'] == 1], np.array(pred)[train['is_redirect'] == 1])"
   ]
  },
  {
   "cell_type": "code",
   "execution_count": 20,
   "metadata": {},
   "outputs": [
    {
     "data": {
      "text/plain": [
       "0.8971118980169972"
      ]
     },
     "execution_count": 20,
     "metadata": {},
     "output_type": "execute_result"
    }
   ],
   "source": [
    "roc_auc_score(train['is_redirect'], pred)"
   ]
  },
  {
   "cell_type": "code",
   "execution_count": 21,
   "metadata": {
    "scrolled": true
   },
   "outputs": [
    {
     "name": "stdout",
     "output_type": "stream",
     "text": [
      "0.8906333871504283\n",
      "0.8776978417266188\n",
      "0.895369284876905\n"
     ]
    }
   ],
   "source": [
    "from sklearn.metrics import roc_auc_score, f1_score, accuracy_score\n",
    "for s in [roc_auc_score, f1_score, accuracy_score]:\n",
    "    print(s(pred, train['is_redirect']))"
   ]
  },
  {
   "cell_type": "code",
   "execution_count": 22,
   "metadata": {},
   "outputs": [],
   "source": [
    "MODEL_PATH = './models/tfidf_baseline1'\n",
    "save_pipeline(pipeline, MODEL_PATH)"
   ]
  },
  {
   "cell_type": "code",
   "execution_count": 23,
   "metadata": {
    "scrolled": false
   },
   "outputs": [
    {
     "data": {
      "text/plain": [
       "Pipeline(steps=[('features',\n",
       "                 FeatureUnion(transformer_list=[('query_feats',\n",
       "                                                 Pipeline(steps=[('query',\n",
       "                                                                  ColumnSelector(col='query')),\n",
       "                                                                 ('tfidf',\n",
       "                                                                  TfidfVectorizer(analyzer='char_wb',\n",
       "                                                                                  max_features=1000,\n",
       "                                                                                  ngram_range=(2,\n",
       "                                                                                               3)))])),\n",
       "                                                ('category_name',\n",
       "                                                 Pipeline(steps=[('category_name',\n",
       "                                                                  ColumnSelector(col='category_name')),\n",
       "                                                                 ('tfidf',\n",
       "                                                                  TfidfVectorizer(analyzer='char_wb',\n",
       "                                                                                  max_features=1000,\n",
       "                                                                                  ngram_range=(2,\n",
       "                                                                                               3)))]))])),\n",
       "                ('clf',\n",
       "                 LogisticRegression(class_weight='balanced', n_jobs=1,\n",
       "                                    random_state=1))])"
      ]
     },
     "execution_count": 23,
     "metadata": {},
     "output_type": "execute_result"
    }
   ],
   "source": [
    "MODEL_PATH = './models/tfidf_baseline1'\n",
    "pipeline = load_pipeline(MODEL_PATH)\n",
    "pipeline"
   ]
  },
  {
   "cell_type": "code",
   "execution_count": 24,
   "metadata": {},
   "outputs": [
    {
     "name": "stdout",
     "output_type": "stream",
     "text": [
      "0.8906333871504283\n",
      "0.8776978417266188\n",
      "0.895369284876905\n"
     ]
    }
   ],
   "source": [
    "from sklearn.metrics import roc_auc_score, f1_score, accuracy_score\n",
    "for s in [roc_auc_score, f1_score, accuracy_score]:\n",
    "    print(s(pred, train['is_redirect']))"
   ]
  },
  {
   "cell_type": "code",
   "execution_count": null,
   "metadata": {},
   "outputs": [],
   "source": []
  }
 ],
 "metadata": {
  "kernelspec": {
   "display_name": "Python 3",
   "language": "python",
   "name": "python3"
  },
  "language_info": {
   "codemirror_mode": {
    "name": "ipython",
    "version": 3
   },
   "file_extension": ".py",
   "mimetype": "text/x-python",
   "name": "python",
   "nbconvert_exporter": "python",
   "pygments_lexer": "ipython3",
   "version": "3.8.7"
  },
  "toc": {
   "nav_menu": {},
   "number_sections": true,
   "sideBar": true,
   "skip_h1_title": false,
   "title_cell": "Table of Contents",
   "title_sidebar": "Contents",
   "toc_cell": false,
   "toc_position": {},
   "toc_section_display": true,
   "toc_window_display": false
  }
 },
 "nbformat": 4,
 "nbformat_minor": 4
}
