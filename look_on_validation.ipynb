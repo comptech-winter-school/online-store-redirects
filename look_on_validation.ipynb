{
 "cells": [
  {
   "cell_type": "code",
   "execution_count": 1,
   "id": "tight-solution",
   "metadata": {},
   "outputs": [],
   "source": [
    "import numpy as np\n",
    "import pandas as pd\n",
    "%config IPCompleter.use_jedi = False"
   ]
  },
  {
   "cell_type": "code",
   "execution_count": 2,
   "id": "solved-cooler",
   "metadata": {},
   "outputs": [
    {
     "data": {
      "text/html": [
       "<div>\n",
       "<style scoped>\n",
       "    .dataframe tbody tr th:only-of-type {\n",
       "        vertical-align: middle;\n",
       "    }\n",
       "\n",
       "    .dataframe tbody tr th {\n",
       "        vertical-align: top;\n",
       "    }\n",
       "\n",
       "    .dataframe thead th {\n",
       "        text-align: right;\n",
       "    }\n",
       "</style>\n",
       "<table border=\"1\" class=\"dataframe\">\n",
       "  <thead>\n",
       "    <tr style=\"text-align: right;\">\n",
       "      <th></th>\n",
       "      <th>query</th>\n",
       "      <th>first_category</th>\n",
       "      <th>cat_id</th>\n",
       "      <th>redirect</th>\n",
       "    </tr>\n",
       "  </thead>\n",
       "  <tbody>\n",
       "    <tr>\n",
       "      <th>0</th>\n",
       "      <td>колготки</td>\n",
       "      <td>колготки и носки</td>\n",
       "      <td>3245756.0</td>\n",
       "      <td>1</td>\n",
       "    </tr>\n",
       "    <tr>\n",
       "      <th>1</th>\n",
       "      <td>40</td>\n",
       "      <td>киберпонедельник</td>\n",
       "      <td>3672618.0</td>\n",
       "      <td>-</td>\n",
       "    </tr>\n",
       "    <tr>\n",
       "      <th>2</th>\n",
       "      <td>бады</td>\n",
       "      <td>БАДы</td>\n",
       "      <td>3390215.0</td>\n",
       "      <td>1</td>\n",
       "    </tr>\n",
       "    <tr>\n",
       "      <th>3</th>\n",
       "      <td>бад</td>\n",
       "      <td>БАДы</td>\n",
       "      <td>3390215.0</td>\n",
       "      <td>1</td>\n",
       "    </tr>\n",
       "    <tr>\n",
       "      <th>4</th>\n",
       "      <td>для машины</td>\n",
       "      <td>для посудомоечной машины</td>\n",
       "      <td>3245766.0</td>\n",
       "      <td>1</td>\n",
       "    </tr>\n",
       "  </tbody>\n",
       "</table>\n",
       "</div>"
      ],
      "text/plain": [
       "        query            first_category     cat_id redirect\n",
       "0    колготки          колготки и носки  3245756.0        1\n",
       "1          40          киберпонедельник  3672618.0        -\n",
       "2        бады                      БАДы  3390215.0        1\n",
       "3         бад                      БАДы  3390215.0        1\n",
       "4  для машины  для посудомоечной машины  3245766.0        1"
      ]
     },
     "execution_count": 2,
     "metadata": {},
     "output_type": "execute_result"
    }
   ],
   "source": [
    "data = pd.read_csv(\"./data/420_validation.csv\", index_col=0)\n",
    "data.head()"
   ]
  },
  {
   "cell_type": "code",
   "execution_count": 3,
   "id": "subjective-process",
   "metadata": {},
   "outputs": [
    {
     "data": {
      "text/plain": [
       "array(['1', '-', '0'], dtype=object)"
      ]
     },
     "execution_count": 3,
     "metadata": {},
     "output_type": "execute_result"
    }
   ],
   "source": [
    "data['redirect'].unique()"
   ]
  },
  {
   "cell_type": "code",
   "execution_count": 6,
   "id": "residential-worse",
   "metadata": {},
   "outputs": [],
   "source": [
    "d = {'0': 0, '1': 1}\n",
    "data = data[data['redirect'] != '-']\n",
    "data['redirect'] = data['redirect'].map(d)"
   ]
  },
  {
   "cell_type": "code",
   "execution_count": 7,
   "id": "enabling-empty",
   "metadata": {
    "scrolled": true
   },
   "outputs": [
    {
     "data": {
      "text/plain": [
       "array([1, 0])"
      ]
     },
     "execution_count": 7,
     "metadata": {},
     "output_type": "execute_result"
    }
   ],
   "source": [
    "data['redirect'].unique()"
   ]
  },
  {
   "cell_type": "code",
   "execution_count": 8,
   "id": "southern-narrative",
   "metadata": {},
   "outputs": [
    {
     "data": {
      "text/plain": [
       "7"
      ]
     },
     "execution_count": 8,
     "metadata": {},
     "output_type": "execute_result"
    }
   ],
   "source": [
    "data['cat_id'].isna().sum()"
   ]
  },
  {
   "cell_type": "code",
   "execution_count": 9,
   "id": "prerequisite-military",
   "metadata": {},
   "outputs": [
    {
     "data": {
      "text/html": [
       "<div>\n",
       "<style scoped>\n",
       "    .dataframe tbody tr th:only-of-type {\n",
       "        vertical-align: middle;\n",
       "    }\n",
       "\n",
       "    .dataframe tbody tr th {\n",
       "        vertical-align: top;\n",
       "    }\n",
       "\n",
       "    .dataframe thead th {\n",
       "        text-align: right;\n",
       "    }\n",
       "</style>\n",
       "<table border=\"1\" class=\"dataframe\">\n",
       "  <thead>\n",
       "    <tr style=\"text-align: right;\">\n",
       "      <th></th>\n",
       "      <th>query</th>\n",
       "      <th>first_category</th>\n",
       "      <th>cat_id</th>\n",
       "      <th>redirect</th>\n",
       "    </tr>\n",
       "  </thead>\n",
       "  <tbody>\n",
       "    <tr>\n",
       "      <th>5</th>\n",
       "      <td>basi</td>\n",
       "      <td>Armand Basi, Angel Schlesser</td>\n",
       "      <td>NaN</td>\n",
       "      <td>1</td>\n",
       "    </tr>\n",
       "    <tr>\n",
       "      <th>33</th>\n",
       "      <td>viktor</td>\n",
       "      <td>Viktor &amp; Rolf, Atelier Cologne, MAISON MARGIELA</td>\n",
       "      <td>NaN</td>\n",
       "      <td>1</td>\n",
       "    </tr>\n",
       "    <tr>\n",
       "      <th>36</th>\n",
       "      <td>для женщин</td>\n",
       "      <td>для женщин</td>\n",
       "      <td>NaN</td>\n",
       "      <td>1</td>\n",
       "    </tr>\n",
       "    <tr>\n",
       "      <th>55</th>\n",
       "      <td>rolf</td>\n",
       "      <td>Viktor &amp; Rolf, Atelier Cologne, MAISON MARGIELA</td>\n",
       "      <td>NaN</td>\n",
       "      <td>1</td>\n",
       "    </tr>\n",
       "    <tr>\n",
       "      <th>79</th>\n",
       "      <td>rabanne</td>\n",
       "      <td>Carolina Herrera, Paco Rabanne</td>\n",
       "      <td>NaN</td>\n",
       "      <td>1</td>\n",
       "    </tr>\n",
       "    <tr>\n",
       "      <th>139</th>\n",
       "      <td>calvin klein calvin klein</td>\n",
       "      <td>Hugo Boss, Gucci, Calvin Klein</td>\n",
       "      <td>NaN</td>\n",
       "      <td>1</td>\n",
       "    </tr>\n",
       "    <tr>\n",
       "      <th>145</th>\n",
       "      <td>sebastian</td>\n",
       "      <td>Sebastian и Seb man</td>\n",
       "      <td>NaN</td>\n",
       "      <td>1</td>\n",
       "    </tr>\n",
       "  </tbody>\n",
       "</table>\n",
       "</div>"
      ],
      "text/plain": [
       "                         query  \\\n",
       "5                         basi   \n",
       "33                      viktor   \n",
       "36                  для женщин   \n",
       "55                        rolf   \n",
       "79                     rabanne   \n",
       "139  calvin klein calvin klein   \n",
       "145                  sebastian   \n",
       "\n",
       "                                      first_category  cat_id  redirect  \n",
       "5                       Armand Basi, Angel Schlesser     NaN         1  \n",
       "33   Viktor & Rolf, Atelier Cologne, MAISON MARGIELA     NaN         1  \n",
       "36                                        для женщин     NaN         1  \n",
       "55   Viktor & Rolf, Atelier Cologne, MAISON MARGIELA     NaN         1  \n",
       "79                    Carolina Herrera, Paco Rabanne     NaN         1  \n",
       "139                   Hugo Boss, Gucci, Calvin Klein     NaN         1  \n",
       "145                              Sebastian и Seb man     NaN         1  "
      ]
     },
     "execution_count": 9,
     "metadata": {},
     "output_type": "execute_result"
    }
   ],
   "source": [
    "data[data['cat_id'].isna()]"
   ]
  },
  {
   "cell_type": "code",
   "execution_count": 10,
   "id": "boring-sewing",
   "metadata": {},
   "outputs": [
    {
     "data": {
      "text/html": [
       "<div>\n",
       "<style scoped>\n",
       "    .dataframe tbody tr th:only-of-type {\n",
       "        vertical-align: middle;\n",
       "    }\n",
       "\n",
       "    .dataframe tbody tr th {\n",
       "        vertical-align: top;\n",
       "    }\n",
       "\n",
       "    .dataframe thead th {\n",
       "        text-align: right;\n",
       "    }\n",
       "</style>\n",
       "<table border=\"1\" class=\"dataframe\">\n",
       "  <thead>\n",
       "    <tr style=\"text-align: right;\">\n",
       "      <th></th>\n",
       "      <th>query</th>\n",
       "      <th>first_category</th>\n",
       "      <th>cat_id</th>\n",
       "      <th>redirect</th>\n",
       "    </tr>\n",
       "  </thead>\n",
       "  <tbody>\n",
       "    <tr>\n",
       "      <th>0</th>\n",
       "      <td>колготки</td>\n",
       "      <td>колготки и носки</td>\n",
       "      <td>3245756.0</td>\n",
       "      <td>1</td>\n",
       "    </tr>\n",
       "    <tr>\n",
       "      <th>2</th>\n",
       "      <td>бады</td>\n",
       "      <td>БАДы</td>\n",
       "      <td>3390215.0</td>\n",
       "      <td>1</td>\n",
       "    </tr>\n",
       "    <tr>\n",
       "      <th>3</th>\n",
       "      <td>бад</td>\n",
       "      <td>БАДы</td>\n",
       "      <td>3390215.0</td>\n",
       "      <td>1</td>\n",
       "    </tr>\n",
       "    <tr>\n",
       "      <th>4</th>\n",
       "      <td>для машины</td>\n",
       "      <td>для посудомоечной машины</td>\n",
       "      <td>3245766.0</td>\n",
       "      <td>1</td>\n",
       "    </tr>\n",
       "    <tr>\n",
       "      <th>5</th>\n",
       "      <td>basi</td>\n",
       "      <td>Armand Basi, Angel Schlesser</td>\n",
       "      <td>NaN</td>\n",
       "      <td>1</td>\n",
       "    </tr>\n",
       "    <tr>\n",
       "      <th>...</th>\n",
       "      <td>...</td>\n",
       "      <td>...</td>\n",
       "      <td>...</td>\n",
       "      <td>...</td>\n",
       "    </tr>\n",
       "    <tr>\n",
       "      <th>243</th>\n",
       "      <td>колготки 20 den</td>\n",
       "      <td>колготки и носки</td>\n",
       "      <td>3245756.0</td>\n",
       "      <td>0</td>\n",
       "    </tr>\n",
       "    <tr>\n",
       "      <th>244</th>\n",
       "      <td>маска для лица mixit</td>\n",
       "      <td>маски</td>\n",
       "      <td>873249.0</td>\n",
       "      <td>0</td>\n",
       "    </tr>\n",
       "    <tr>\n",
       "      <th>245</th>\n",
       "      <td>маска для лица aha</td>\n",
       "      <td>маски</td>\n",
       "      <td>873249.0</td>\n",
       "      <td>0</td>\n",
       "    </tr>\n",
       "    <tr>\n",
       "      <th>246</th>\n",
       "      <td>тушь для ресниц кабаре</td>\n",
       "      <td>тушь для ресниц</td>\n",
       "      <td>873823.0</td>\n",
       "      <td>0</td>\n",
       "    </tr>\n",
       "    <tr>\n",
       "      <th>247</th>\n",
       "      <td>essence для бровей</td>\n",
       "      <td>тени для бровей</td>\n",
       "      <td>873843.0</td>\n",
       "      <td>0</td>\n",
       "    </tr>\n",
       "  </tbody>\n",
       "</table>\n",
       "<p>243 rows × 4 columns</p>\n",
       "</div>"
      ],
      "text/plain": [
       "                      query                first_category     cat_id  redirect\n",
       "0                  колготки              колготки и носки  3245756.0         1\n",
       "2                      бады                          БАДы  3390215.0         1\n",
       "3                       бад                          БАДы  3390215.0         1\n",
       "4                для машины      для посудомоечной машины  3245766.0         1\n",
       "5                      basi  Armand Basi, Angel Schlesser        NaN         1\n",
       "..                      ...                           ...        ...       ...\n",
       "243         колготки 20 den              колготки и носки  3245756.0         0\n",
       "244    маска для лица mixit                         маски   873249.0         0\n",
       "245      маска для лица aha                         маски   873249.0         0\n",
       "246  тушь для ресниц кабаре               тушь для ресниц   873823.0         0\n",
       "247      essence для бровей               тени для бровей   873843.0         0\n",
       "\n",
       "[243 rows x 4 columns]"
      ]
     },
     "execution_count": 10,
     "metadata": {},
     "output_type": "execute_result"
    }
   ],
   "source": [
    "data"
   ]
  },
  {
   "cell_type": "code",
   "execution_count": 11,
   "id": "moved-singing",
   "metadata": {},
   "outputs": [],
   "source": [
    "data.columns = ['query', 'category_name', 'category_id', 'is_redirect']\n",
    "data = data[~data['category_id'].isna()]"
   ]
  },
  {
   "cell_type": "code",
   "execution_count": 12,
   "id": "southeast-skating",
   "metadata": {},
   "outputs": [
    {
     "data": {
      "text/plain": [
       "query            0\n",
       "category_name    0\n",
       "category_id      0\n",
       "is_redirect      0\n",
       "dtype: int64"
      ]
     },
     "execution_count": 12,
     "metadata": {},
     "output_type": "execute_result"
    }
   ],
   "source": [
    "data.isna().sum()"
   ]
  },
  {
   "cell_type": "code",
   "execution_count": 13,
   "id": "behavioral-dressing",
   "metadata": {},
   "outputs": [],
   "source": [
    "data.to_csv(\"validation_data.csv\", index=False)"
   ]
  },
  {
   "cell_type": "markdown",
   "id": "overhead-bidder",
   "metadata": {},
   "source": [
    "### Проверка tfidf-бейзлайна"
   ]
  },
  {
   "cell_type": "code",
   "execution_count": 6,
   "id": "national-avatar",
   "metadata": {
    "scrolled": true
   },
   "outputs": [],
   "source": [
    "import pandas as pd\n",
    "from pipeline.training import load_pipeline, score_pipeline\n",
    "%config IPCompleter.use_jedi = False\n",
    "\n",
    "pipe = load_pipeline(\"./models/tfidf_baseline1\")\n",
    "data = pd.read_csv(\"validation_data.csv\")"
   ]
  },
  {
   "cell_type": "code",
   "execution_count": 7,
   "id": "statutory-single",
   "metadata": {
    "scrolled": true
   },
   "outputs": [
    {
     "data": {
      "text/plain": [
       "0.731845238095238"
      ]
     },
     "execution_count": 7,
     "metadata": {},
     "output_type": "execute_result"
    }
   ],
   "source": [
    "res = score_pipeline(pipe, data, data['is_redirect'])\n",
    "res"
   ]
  },
  {
   "cell_type": "code",
   "execution_count": 8,
   "id": "controlling-retail",
   "metadata": {
    "scrolled": true
   },
   "outputs": [
    {
     "data": {
      "text/plain": [
       "0.5540540540540541"
      ]
     },
     "execution_count": 8,
     "metadata": {},
     "output_type": "execute_result"
    }
   ],
   "source": [
    "from sklearn.metrics import f1_score\n",
    "pred = pipe.predict(data)\n",
    "res = f1_score(pred, data['is_redirect'])\n",
    "res"
   ]
  },
  {
   "cell_type": "code",
   "execution_count": 9,
   "id": "subjective-cyprus",
   "metadata": {
    "scrolled": false
   },
   "outputs": [
    {
     "data": {
      "text/plain": [
       "Counter({0: 184, 1: 52})"
      ]
     },
     "execution_count": 9,
     "metadata": {},
     "output_type": "execute_result"
    }
   ],
   "source": [
    "from collections import Counter\n",
    "Counter(pred)"
   ]
  },
  {
   "cell_type": "code",
   "execution_count": 10,
   "id": "running-siemens",
   "metadata": {},
   "outputs": [
    {
     "data": {
      "image/png": "[encoded data removed]",
      "text/plain": [
       "<Figure size 432x288 with 1 Axes>"
      ]
     },
     "metadata": {
      "needs_background": "light"
     },
     "output_type": "display_data"
    }
   ],
   "source": [
    "import matplotlib.pyplot as plt\n",
    "from sklearn.metrics import plot_roc_curve\n",
    "%matplotlib inline\n",
    "\n",
    "p = plot_roc_curve(pipe, data, data['is_redirect'])\n",
    "plt.show()"
   ]
  },
  {
   "cell_type": "code",
   "execution_count": null,
   "id": "fleet-person",
   "metadata": {},
   "outputs": [],
   "source": []
  }
 ],
 "metadata": {
  "kernelspec": {
   "display_name": "comptech",
   "language": "python",
   "name": "comptech"
  },
  "language_info": {
   "codemirror_mode": {
    "name": "ipython",
    "version": 3
   },
   "file_extension": ".py",
   "mimetype": "text/x-python",
   "name": "python",
   "nbconvert_exporter": "python",
   "pygments_lexer": "ipython3",
   "version": "3.8.7"
  },
  "toc": {
   "nav_menu": {},
   "number_sections": true,
   "sideBar": true,
   "skip_h1_title": false,
   "title_cell": "Table of Contents",
   "title_sidebar": "Contents",
   "toc_cell": false,
   "toc_position": {},
   "toc_section_display": true,
   "toc_window_display": false
  }
 },
 "nbformat": 4,
 "nbformat_minor": 5
}
