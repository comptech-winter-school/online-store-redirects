{
 "cells": [
  {
   "cell_type": "code",
   "execution_count": 1,
   "metadata": {},
   "outputs": [],
   "source": [
    "import numpy as np \n",
    "import matplotlib.pyplot as plt \n",
    "%matplotlib inline \n",
    "import pandas as pd \n",
    "import json"
   ]
  },
  {
   "cell_type": "code",
   "execution_count": 4,
   "metadata": {},
   "outputs": [],
   "source": [
    "import pprint"
   ]
  },
  {
   "cell_type": "code",
   "execution_count": 245,
   "metadata": {},
   "outputs": [],
   "source": [
    "import seaborn as sns\n",
    "sns.set(rc = {'figure.figsize' : (9,6)})"
   ]
  },
  {
   "cell_type": "markdown",
   "metadata": {},
   "source": [
    "# 31.01 \n",
    "### Задача: \n",
    "Выбрасываем часть категорий, которые не связаны с продуктами(json)\n",
    "### Описание:\n",
    "Частота встречаемости продуктов в сессии; EDA продуктов и взаимодействия продуктов и сессии из json"
   ]
  },
  {
   "cell_type": "code",
   "execution_count": 2,
   "metadata": {},
   "outputs": [],
   "source": [
    "with open ('sessions_420.json') as f:\n",
    "    session_420 = json.load(f)"
   ]
  },
  {
   "cell_type": "code",
   "execution_count": 268,
   "metadata": {},
   "outputs": [],
   "source": [
    "#pprint.pprint(session_420[:10], indent=2)"
   ]
  },
  {
   "cell_type": "code",
   "execution_count": 39,
   "metadata": {},
   "outputs": [
    {
     "data": {
      "text/plain": [
       "[{'query': 'гель алое',\n",
       "  'search_results': ['99730300002', None, '99720100024', '99730300080'],\n",
       "  'views': [],\n",
       "  'purchases': []},\n",
       " {'query': 'бьюти бокс flacon',\n",
       "  'search_results': [None,\n",
       "   None,\n",
       "   None,\n",
       "   None,\n",
       "   '19760303130',\n",
       "   None,\n",
       "   '19760304573',\n",
       "   '18480300014',\n",
       "   None,\n",
       "   '19760305063',\n",
       "   '19760305487',\n",
       "   None],\n",
       "  'views': [],\n",
       "  'purchases': []}]"
      ]
     },
     "execution_count": 39,
     "metadata": {},
     "output_type": "execute_result"
    }
   ],
   "source": [
    "session_420[:2]"
   ]
  },
  {
   "cell_type": "code",
   "execution_count": 17,
   "metadata": {},
   "outputs": [],
   "source": [
    "df = pd.read_json('sessions_420.json', orient='records')"
   ]
  },
  {
   "cell_type": "code",
   "execution_count": 19,
   "metadata": {},
   "outputs": [
    {
     "data": {
      "text/html": [
       "<div>\n",
       "<style scoped>\n",
       "    .dataframe tbody tr th:only-of-type {\n",
       "        vertical-align: middle;\n",
       "    }\n",
       "\n",
       "    .dataframe tbody tr th {\n",
       "        vertical-align: top;\n",
       "    }\n",
       "\n",
       "    .dataframe thead th {\n",
       "        text-align: right;\n",
       "    }\n",
       "</style>\n",
       "<table border=\"1\" class=\"dataframe\">\n",
       "  <thead>\n",
       "    <tr style=\"text-align: right;\">\n",
       "      <th></th>\n",
       "      <th>query</th>\n",
       "      <th>search_results</th>\n",
       "      <th>views</th>\n",
       "      <th>purchases</th>\n",
       "    </tr>\n",
       "  </thead>\n",
       "  <tbody>\n",
       "    <tr>\n",
       "      <th>0</th>\n",
       "      <td>гель алое</td>\n",
       "      <td>[99730300002, None, 99720100024, 99730300080]</td>\n",
       "      <td>[]</td>\n",
       "      <td>[]</td>\n",
       "    </tr>\n",
       "    <tr>\n",
       "      <th>1</th>\n",
       "      <td>бьюти бокс flacon</td>\n",
       "      <td>[None, None, None, None, 19760303130, None, 19...</td>\n",
       "      <td>[]</td>\n",
       "      <td>[]</td>\n",
       "    </tr>\n",
       "    <tr>\n",
       "      <th>2</th>\n",
       "      <td>колготки</td>\n",
       "      <td>[22082900011, 22082900010, 22082900009, 220829...</td>\n",
       "      <td>[]</td>\n",
       "      <td>[]</td>\n",
       "    </tr>\n",
       "    <tr>\n",
       "      <th>3</th>\n",
       "      <td>помада гигиеническая</td>\n",
       "      <td>[3885700001, 89230500006, 89230600011, 8941650...</td>\n",
       "      <td>[]</td>\n",
       "      <td>[]</td>\n",
       "    </tr>\n",
       "    <tr>\n",
       "      <th>4</th>\n",
       "      <td>ножницы</td>\n",
       "      <td>[70130100027, 8410400003, 8380100002, 70130100...</td>\n",
       "      <td>[]</td>\n",
       "      <td>[]</td>\n",
       "    </tr>\n",
       "    <tr>\n",
       "      <th>5</th>\n",
       "      <td>кабуки</td>\n",
       "      <td>[None, None, None, 14085100015, 24461400028, 6...</td>\n",
       "      <td>[]</td>\n",
       "      <td>[]</td>\n",
       "    </tr>\n",
       "    <tr>\n",
       "      <th>6</th>\n",
       "      <td>японская мочалка для тела</td>\n",
       "      <td>[None, None, 28222900004, None, None, None, No...</td>\n",
       "      <td>[]</td>\n",
       "      <td>[]</td>\n",
       "    </tr>\n",
       "    <tr>\n",
       "      <th>7</th>\n",
       "      <td>косметички flacon</td>\n",
       "      <td>[19760303130, None, None, None, None, 19760305...</td>\n",
       "      <td>[]</td>\n",
       "      <td>[]</td>\n",
       "    </tr>\n",
       "    <tr>\n",
       "      <th>8</th>\n",
       "      <td>туалетная вода dior</td>\n",
       "      <td>[7132700003, 7191500004, 7193800001, 197603028...</td>\n",
       "      <td>[]</td>\n",
       "      <td>[]</td>\n",
       "    </tr>\n",
       "    <tr>\n",
       "      <th>9</th>\n",
       "      <td>салфетки матирующие</td>\n",
       "      <td>[6670300001, 15110800054, 97610600002, 6997110...</td>\n",
       "      <td>[]</td>\n",
       "      <td>[]</td>\n",
       "    </tr>\n",
       "  </tbody>\n",
       "</table>\n",
       "</div>"
      ],
      "text/plain": [
       "                       query  \\\n",
       "0                  гель алое   \n",
       "1          бьюти бокс flacon   \n",
       "2                   колготки   \n",
       "3       помада гигиеническая   \n",
       "4                    ножницы   \n",
       "5                     кабуки   \n",
       "6  японская мочалка для тела   \n",
       "7          косметички flacon   \n",
       "8        туалетная вода dior   \n",
       "9        салфетки матирующие   \n",
       "\n",
       "                                      search_results views purchases  \n",
       "0      [99730300002, None, 99720100024, 99730300080]    []        []  \n",
       "1  [None, None, None, None, 19760303130, None, 19...    []        []  \n",
       "2  [22082900011, 22082900010, 22082900009, 220829...    []        []  \n",
       "3  [3885700001, 89230500006, 89230600011, 8941650...    []        []  \n",
       "4  [70130100027, 8410400003, 8380100002, 70130100...    []        []  \n",
       "5  [None, None, None, 14085100015, 24461400028, 6...    []        []  \n",
       "6  [None, None, 28222900004, None, None, None, No...    []        []  \n",
       "7  [19760303130, None, None, None, None, 19760305...    []        []  \n",
       "8  [7132700003, 7191500004, 7193800001, 197603028...    []        []  \n",
       "9  [6670300001, 15110800054, 97610600002, 6997110...    []        []  "
      ]
     },
     "execution_count": 19,
     "metadata": {},
     "output_type": "execute_result"
    }
   ],
   "source": [
    "df.head(10)"
   ]
  },
  {
   "cell_type": "code",
   "execution_count": 33,
   "metadata": {},
   "outputs": [
    {
     "data": {
      "text/plain": [
       "(2416570, 4)"
      ]
     },
     "execution_count": 33,
     "metadata": {},
     "output_type": "execute_result"
    }
   ],
   "source": [
    "df.shape"
   ]
  },
  {
   "cell_type": "code",
   "execution_count": 36,
   "metadata": {},
   "outputs": [
    {
     "name": "stdout",
     "output_type": "stream",
     "text": [
      "16 8\n"
     ]
    }
   ],
   "source": [
    "# определение максимальной длины списка в колонке views\n",
    "max_len = 0\n",
    "count = 0\n",
    "for j in range(0, df.shape[0]):\n",
    "    if len(df.views[j]) > max_len:\n",
    "        max_len = len(df.views[j])\n",
    "        count += 1\n",
    "print(max_len, count)"
   ]
  },
  {
   "cell_type": "code",
   "execution_count": 38,
   "metadata": {},
   "outputs": [
    {
     "name": "stdout",
     "output_type": "stream",
     "text": [
      "45 10\n"
     ]
    }
   ],
   "source": [
    "# определение максимальной длины списка в колонке purchases\n",
    "max_len_purchases = 0\n",
    "count_purchases = 0\n",
    "for j in range(0, df.shape[0]):\n",
    "    if len(df.purchases[j]) > max_len_purchases:\n",
    "        max_len_purchases = len(df.purchases[j])\n",
    "        count_purchases += 1\n",
    "print(max_len_purchases, count_purchases)"
   ]
  },
  {
   "cell_type": "markdown",
   "metadata": {},
   "source": [
    "**Вывод**: фичи views и purchases неинформативны, поскольку практически все из них - это пустые списки"
   ]
  },
  {
   "cell_type": "code",
   "execution_count": 65,
   "metadata": {},
   "outputs": [
    {
     "data": {
      "text/plain": [
       "0              [99730300002, 99720100024, 99730300080]\n",
       "1    [19760303130, 19760304573, 18480300014, 197603...\n",
       "2    [22082900011, 22082900010, 22082900009, 220829...\n",
       "3    [3885700001, 89230500006, 89230600011, 8941650...\n",
       "4    [70130100027, 8410400003, 8380100002, 70130100...\n",
       "Name: search_results, dtype: object"
      ]
     },
     "execution_count": 65,
     "metadata": {},
     "output_type": "execute_result"
    }
   ],
   "source": [
    "df.search_results.head()"
   ]
  },
  {
   "cell_type": "code",
   "execution_count": 102,
   "metadata": {},
   "outputs": [
    {
     "data": {
      "text/html": [
       "<div>\n",
       "<style scoped>\n",
       "    .dataframe tbody tr th:only-of-type {\n",
       "        vertical-align: middle;\n",
       "    }\n",
       "\n",
       "    .dataframe tbody tr th {\n",
       "        vertical-align: top;\n",
       "    }\n",
       "\n",
       "    .dataframe thead th {\n",
       "        text-align: right;\n",
       "    }\n",
       "</style>\n",
       "<table border=\"1\" class=\"dataframe\">\n",
       "  <thead>\n",
       "    <tr style=\"text-align: right;\">\n",
       "      <th></th>\n",
       "      <th>query</th>\n",
       "      <th>search_results</th>\n",
       "    </tr>\n",
       "  </thead>\n",
       "  <tbody>\n",
       "    <tr>\n",
       "      <th>0</th>\n",
       "      <td>гель алое</td>\n",
       "      <td>99730300002</td>\n",
       "    </tr>\n",
       "    <tr>\n",
       "      <th>0</th>\n",
       "      <td>гель алое</td>\n",
       "      <td>99720100024</td>\n",
       "    </tr>\n",
       "    <tr>\n",
       "      <th>0</th>\n",
       "      <td>гель алое</td>\n",
       "      <td>99730300080</td>\n",
       "    </tr>\n",
       "    <tr>\n",
       "      <th>1</th>\n",
       "      <td>бьюти бокс flacon</td>\n",
       "      <td>19760303130</td>\n",
       "    </tr>\n",
       "    <tr>\n",
       "      <th>1</th>\n",
       "      <td>бьюти бокс flacon</td>\n",
       "      <td>19760304573</td>\n",
       "    </tr>\n",
       "    <tr>\n",
       "      <th>...</th>\n",
       "      <td>...</td>\n",
       "      <td>...</td>\n",
       "    </tr>\n",
       "    <tr>\n",
       "      <th>9</th>\n",
       "      <td>салфетки матирующие</td>\n",
       "      <td>3570600009</td>\n",
       "    </tr>\n",
       "    <tr>\n",
       "      <th>9</th>\n",
       "      <td>салфетки матирующие</td>\n",
       "      <td>3272100001</td>\n",
       "    </tr>\n",
       "    <tr>\n",
       "      <th>9</th>\n",
       "      <td>салфетки матирующие</td>\n",
       "      <td>6580100009</td>\n",
       "    </tr>\n",
       "    <tr>\n",
       "      <th>9</th>\n",
       "      <td>салфетки матирующие</td>\n",
       "      <td>36980600003</td>\n",
       "    </tr>\n",
       "    <tr>\n",
       "      <th>9</th>\n",
       "      <td>салфетки матирующие</td>\n",
       "      <td>21080700086</td>\n",
       "    </tr>\n",
       "  </tbody>\n",
       "</table>\n",
       "<p>297 rows × 2 columns</p>\n",
       "</div>"
      ],
      "text/plain": [
       "                  query search_results\n",
       "0             гель алое    99730300002\n",
       "0             гель алое    99720100024\n",
       "0             гель алое    99730300080\n",
       "1     бьюти бокс flacon    19760303130\n",
       "1     бьюти бокс flacon    19760304573\n",
       "..                  ...            ...\n",
       "9   салфетки матирующие     3570600009\n",
       "9   салфетки матирующие     3272100001\n",
       "9   салфетки матирующие     6580100009\n",
       "9   салфетки матирующие    36980600003\n",
       "9   салфетки матирующие    21080700086\n",
       "\n",
       "[297 rows x 2 columns]"
      ]
     },
     "execution_count": 102,
     "metadata": {},
     "output_type": "execute_result"
    }
   ],
   "source": [
    "# посмотрела, как работает explode\n",
    "piece_2 = df[['query', 'search_results']][:10]\n",
    "piece_2 = piece_2.explode('search_results', ignore_index=False)\n",
    "piece_2"
   ]
  },
  {
   "cell_type": "code",
   "execution_count": 119,
   "metadata": {},
   "outputs": [],
   "source": [
    "df_1 = df[['query', 'search_results']].explode('search_results', ignore_index=False)"
   ]
  },
  {
   "cell_type": "code",
   "execution_count": 120,
   "metadata": {},
   "outputs": [
    {
     "data": {
      "text/html": [
       "<div>\n",
       "<style scoped>\n",
       "    .dataframe tbody tr th:only-of-type {\n",
       "        vertical-align: middle;\n",
       "    }\n",
       "\n",
       "    .dataframe tbody tr th {\n",
       "        vertical-align: top;\n",
       "    }\n",
       "\n",
       "    .dataframe thead th {\n",
       "        text-align: right;\n",
       "    }\n",
       "</style>\n",
       "<table border=\"1\" class=\"dataframe\">\n",
       "  <thead>\n",
       "    <tr style=\"text-align: right;\">\n",
       "      <th></th>\n",
       "      <th>query</th>\n",
       "      <th>search_results</th>\n",
       "    </tr>\n",
       "  </thead>\n",
       "  <tbody>\n",
       "    <tr>\n",
       "      <th>0</th>\n",
       "      <td>гель алое</td>\n",
       "      <td>99730300002</td>\n",
       "    </tr>\n",
       "    <tr>\n",
       "      <th>0</th>\n",
       "      <td>гель алое</td>\n",
       "      <td>99720100024</td>\n",
       "    </tr>\n",
       "    <tr>\n",
       "      <th>0</th>\n",
       "      <td>гель алое</td>\n",
       "      <td>99730300080</td>\n",
       "    </tr>\n",
       "    <tr>\n",
       "      <th>1</th>\n",
       "      <td>бьюти бокс flacon</td>\n",
       "      <td>19760303130</td>\n",
       "    </tr>\n",
       "    <tr>\n",
       "      <th>1</th>\n",
       "      <td>бьюти бокс flacon</td>\n",
       "      <td>19760304573</td>\n",
       "    </tr>\n",
       "    <tr>\n",
       "      <th>1</th>\n",
       "      <td>бьюти бокс flacon</td>\n",
       "      <td>18480300014</td>\n",
       "    </tr>\n",
       "    <tr>\n",
       "      <th>1</th>\n",
       "      <td>бьюти бокс flacon</td>\n",
       "      <td>19760305063</td>\n",
       "    </tr>\n",
       "    <tr>\n",
       "      <th>1</th>\n",
       "      <td>бьюти бокс flacon</td>\n",
       "      <td>19760305487</td>\n",
       "    </tr>\n",
       "    <tr>\n",
       "      <th>2</th>\n",
       "      <td>колготки</td>\n",
       "      <td>22082900011</td>\n",
       "    </tr>\n",
       "    <tr>\n",
       "      <th>2</th>\n",
       "      <td>колготки</td>\n",
       "      <td>22082900010</td>\n",
       "    </tr>\n",
       "  </tbody>\n",
       "</table>\n",
       "</div>"
      ],
      "text/plain": [
       "               query search_results\n",
       "0          гель алое    99730300002\n",
       "0          гель алое    99720100024\n",
       "0          гель алое    99730300080\n",
       "1  бьюти бокс flacon    19760303130\n",
       "1  бьюти бокс flacon    19760304573\n",
       "1  бьюти бокс flacon    18480300014\n",
       "1  бьюти бокс flacon    19760305063\n",
       "1  бьюти бокс flacon    19760305487\n",
       "2           колготки    22082900011\n",
       "2           колготки    22082900010"
      ]
     },
     "execution_count": 120,
     "metadata": {},
     "output_type": "execute_result"
    }
   ],
   "source": [
    "df_1.head(10)"
   ]
  },
  {
   "cell_type": "code",
   "execution_count": 105,
   "metadata": {},
   "outputs": [
    {
     "name": "stdout",
     "output_type": "stream",
     "text": [
      "79546345 8349747\n"
     ]
    }
   ],
   "source": [
    "print(len(df_1), len(df_1.drop_duplicates()))"
   ]
  },
  {
   "cell_type": "code",
   "execution_count": 121,
   "metadata": {},
   "outputs": [
    {
     "data": {
      "text/plain": [
       "query                   0\n",
       "search_results    9787219\n",
       "dtype: int64"
      ]
     },
     "execution_count": 121,
     "metadata": {},
     "output_type": "execute_result"
    }
   ],
   "source": [
    "df_1.isna().sum()"
   ]
  },
  {
   "cell_type": "code",
   "execution_count": 124,
   "metadata": {},
   "outputs": [],
   "source": [
    "df_1 = df_1.dropna(inplace=False)"
   ]
  },
  {
   "cell_type": "code",
   "execution_count": 125,
   "metadata": {},
   "outputs": [
    {
     "data": {
      "text/plain": [
       "(69759126, 2)"
      ]
     },
     "execution_count": 125,
     "metadata": {},
     "output_type": "execute_result"
    }
   ],
   "source": [
    "df_1.shape"
   ]
  },
  {
   "cell_type": "code",
   "execution_count": 128,
   "metadata": {},
   "outputs": [
    {
     "name": "stdout",
     "output_type": "stream",
     "text": [
      "Число дубликатов равно: 61409379\n"
     ]
    }
   ],
   "source": [
    "print('Число дубликатов равно:', 69759126-8349747)"
   ]
  },
  {
   "cell_type": "code",
   "execution_count": 129,
   "metadata": {},
   "outputs": [],
   "source": [
    "df_1 = df_1.drop_duplicates()"
   ]
  },
  {
   "cell_type": "code",
   "execution_count": 130,
   "metadata": {},
   "outputs": [
    {
     "data": {
      "text/plain": [
       "(8172186, 2)"
      ]
     },
     "execution_count": 130,
     "metadata": {},
     "output_type": "execute_result"
    }
   ],
   "source": [
    "df_1.shape"
   ]
  },
  {
   "cell_type": "code",
   "execution_count": 131,
   "metadata": {},
   "outputs": [
    {
     "data": {
      "text/html": [
       "<div>\n",
       "<style scoped>\n",
       "    .dataframe tbody tr th:only-of-type {\n",
       "        vertical-align: middle;\n",
       "    }\n",
       "\n",
       "    .dataframe tbody tr th {\n",
       "        vertical-align: top;\n",
       "    }\n",
       "\n",
       "    .dataframe thead th {\n",
       "        text-align: right;\n",
       "    }\n",
       "</style>\n",
       "<table border=\"1\" class=\"dataframe\">\n",
       "  <thead>\n",
       "    <tr style=\"text-align: right;\">\n",
       "      <th></th>\n",
       "      <th>query</th>\n",
       "      <th>search_results</th>\n",
       "    </tr>\n",
       "  </thead>\n",
       "  <tbody>\n",
       "    <tr>\n",
       "      <th>0</th>\n",
       "      <td>гель алое</td>\n",
       "      <td>99730300002</td>\n",
       "    </tr>\n",
       "    <tr>\n",
       "      <th>0</th>\n",
       "      <td>гель алое</td>\n",
       "      <td>99720100024</td>\n",
       "    </tr>\n",
       "    <tr>\n",
       "      <th>0</th>\n",
       "      <td>гель алое</td>\n",
       "      <td>99730300080</td>\n",
       "    </tr>\n",
       "    <tr>\n",
       "      <th>1</th>\n",
       "      <td>бьюти бокс flacon</td>\n",
       "      <td>19760303130</td>\n",
       "    </tr>\n",
       "    <tr>\n",
       "      <th>1</th>\n",
       "      <td>бьюти бокс flacon</td>\n",
       "      <td>19760304573</td>\n",
       "    </tr>\n",
       "  </tbody>\n",
       "</table>\n",
       "</div>"
      ],
      "text/plain": [
       "               query search_results\n",
       "0          гель алое    99730300002\n",
       "0          гель алое    99720100024\n",
       "0          гель алое    99730300080\n",
       "1  бьюти бокс flacon    19760303130\n",
       "1  бьюти бокс flacon    19760304573"
      ]
     },
     "execution_count": 131,
     "metadata": {},
     "output_type": "execute_result"
    }
   ],
   "source": [
    "df_1.head()"
   ]
  },
  {
   "cell_type": "code",
   "execution_count": 132,
   "metadata": {},
   "outputs": [
    {
     "data": {
      "text/plain": [
       "47064"
      ]
     },
     "execution_count": 132,
     "metadata": {},
     "output_type": "execute_result"
    }
   ],
   "source": [
    "df_1.search_results.nunique()"
   ]
  },
  {
   "cell_type": "markdown",
   "metadata": {},
   "source": [
    "*Предположение:* \n",
    "порядок величины уникальных значений в search_results совпадает с порядком числа различных продуктов (57925), поэтому можно предположить, что **в search_results указаны product_id**"
   ]
  },
  {
   "cell_type": "markdown",
   "metadata": {},
   "source": [
    "На самом деле: в search_results указан **external_id**"
   ]
  },
  {
   "cell_type": "markdown",
   "metadata": {},
   "source": [
    "**Лирическое отступление** на работу с табличками с продуктами. Отсюда нужно будет вытащить категории продуктов."
   ]
  },
  {
   "cell_type": "code",
   "execution_count": 150,
   "metadata": {},
   "outputs": [],
   "source": [
    "products = pd.read_csv('~/comptech/products.csv', index_col=0)"
   ]
  },
  {
   "cell_type": "code",
   "execution_count": 287,
   "metadata": {},
   "outputs": [],
   "source": [
    "products_categories = pd.read_csv('~/comptech/products_categories.csv', index_col=0)"
   ]
  },
  {
   "cell_type": "code",
   "execution_count": 152,
   "metadata": {},
   "outputs": [
    {
     "data": {
      "text/html": [
       "<div>\n",
       "<style scoped>\n",
       "    .dataframe tbody tr th:only-of-type {\n",
       "        vertical-align: middle;\n",
       "    }\n",
       "\n",
       "    .dataframe tbody tr th {\n",
       "        vertical-align: top;\n",
       "    }\n",
       "\n",
       "    .dataframe thead th {\n",
       "        text-align: right;\n",
       "    }\n",
       "</style>\n",
       "<table border=\"1\" class=\"dataframe\">\n",
       "  <thead>\n",
       "    <tr style=\"text-align: right;\">\n",
       "      <th></th>\n",
       "      <th>id</th>\n",
       "      <th>site_id</th>\n",
       "      <th>external_id</th>\n",
       "      <th>name</th>\n",
       "      <th>brand</th>\n",
       "      <th>description</th>\n",
       "      <th>last_existed</th>\n",
       "      <th>group_id</th>\n",
       "    </tr>\n",
       "  </thead>\n",
       "  <tbody>\n",
       "    <tr>\n",
       "      <th>0</th>\n",
       "      <td>2573904266</td>\n",
       "      <td>420</td>\n",
       "      <td>24944900083</td>\n",
       "      <td>Губная помада  | URBAN DECAY | VICE LIPSTICK M...</td>\n",
       "      <td>URBAN DECAY</td>\n",
       "      <td>Губная помада Urban Decay Vice Lipstick незаме...</td>\n",
       "      <td>2021-01-28</td>\n",
       "      <td>111948</td>\n",
       "    </tr>\n",
       "    <tr>\n",
       "      <th>1</th>\n",
       "      <td>2573904322</td>\n",
       "      <td>420</td>\n",
       "      <td>24944900078</td>\n",
       "      <td>Губная помада  | URBAN DECAY | VICE LIPSTICK M...</td>\n",
       "      <td>URBAN DECAY</td>\n",
       "      <td>Губная помада Urban Decay Vice Lipstick - это ...</td>\n",
       "      <td>2021-01-28</td>\n",
       "      <td>111946</td>\n",
       "    </tr>\n",
       "    <tr>\n",
       "      <th>2</th>\n",
       "      <td>2573904375</td>\n",
       "      <td>420</td>\n",
       "      <td>7005200014</td>\n",
       "      <td>Губная помада | BOURJOIS | Rouge Edition Velvet</td>\n",
       "      <td>BOURJOIS</td>\n",
       "      <td>Бархатный флюид для губ Bourjois Rouge edition...</td>\n",
       "      <td>2021-01-28</td>\n",
       "      <td>113391</td>\n",
       "    </tr>\n",
       "    <tr>\n",
       "      <th>3</th>\n",
       "      <td>2573904490</td>\n",
       "      <td>420</td>\n",
       "      <td>24944900057</td>\n",
       "      <td>Губная помада  | URBAN DECAY | VICE LIPSTICK C...</td>\n",
       "      <td>URBAN DECAY</td>\n",
       "      <td>Губная помада Urban Decay Vice Lipstick рассчи...</td>\n",
       "      <td>2021-01-28</td>\n",
       "      <td>123428</td>\n",
       "    </tr>\n",
       "    <tr>\n",
       "      <th>4</th>\n",
       "      <td>2573905005</td>\n",
       "      <td>420</td>\n",
       "      <td>17059600013</td>\n",
       "      <td>Блеск для губ  | GA DE | VELVETEEN ULTRA SHINE</td>\n",
       "      <td>GA DE</td>\n",
       "      <td>Оригинальная формула объединяет комплекс пигме...</td>\n",
       "      <td>2021-01-28</td>\n",
       "      <td>93766</td>\n",
       "    </tr>\n",
       "  </tbody>\n",
       "</table>\n",
       "</div>"
      ],
      "text/plain": [
       "           id  site_id  external_id  \\\n",
       "0  2573904266      420  24944900083   \n",
       "1  2573904322      420  24944900078   \n",
       "2  2573904375      420   7005200014   \n",
       "3  2573904490      420  24944900057   \n",
       "4  2573905005      420  17059600013   \n",
       "\n",
       "                                                name        brand  \\\n",
       "0  Губная помада  | URBAN DECAY | VICE LIPSTICK M...  URBAN DECAY   \n",
       "1  Губная помада  | URBAN DECAY | VICE LIPSTICK M...  URBAN DECAY   \n",
       "2    Губная помада | BOURJOIS | Rouge Edition Velvet     BOURJOIS   \n",
       "3  Губная помада  | URBAN DECAY | VICE LIPSTICK C...  URBAN DECAY   \n",
       "4     Блеск для губ  | GA DE | VELVETEEN ULTRA SHINE        GA DE   \n",
       "\n",
       "                                         description last_existed  group_id  \n",
       "0  Губная помада Urban Decay Vice Lipstick незаме...   2021-01-28    111948  \n",
       "1  Губная помада Urban Decay Vice Lipstick - это ...   2021-01-28    111946  \n",
       "2  Бархатный флюид для губ Bourjois Rouge edition...   2021-01-28    113391  \n",
       "3  Губная помада Urban Decay Vice Lipstick рассчи...   2021-01-28    123428  \n",
       "4  Оригинальная формула объединяет комплекс пигме...   2021-01-28     93766  "
      ]
     },
     "execution_count": 152,
     "metadata": {},
     "output_type": "execute_result"
    }
   ],
   "source": [
    "products.head()"
   ]
  },
  {
   "cell_type": "code",
   "execution_count": 283,
   "metadata": {},
   "outputs": [
    {
     "data": {
      "text/html": [
       "<div>\n",
       "<style scoped>\n",
       "    .dataframe tbody tr th:only-of-type {\n",
       "        vertical-align: middle;\n",
       "    }\n",
       "\n",
       "    .dataframe tbody tr th {\n",
       "        vertical-align: top;\n",
       "    }\n",
       "\n",
       "    .dataframe thead th {\n",
       "        text-align: right;\n",
       "    }\n",
       "</style>\n",
       "<table border=\"1\" class=\"dataframe\">\n",
       "  <thead>\n",
       "    <tr style=\"text-align: right;\">\n",
       "      <th></th>\n",
       "      <th>product_id</th>\n",
       "      <th>category_id</th>\n",
       "    </tr>\n",
       "  </thead>\n",
       "  <tbody>\n",
       "    <tr>\n",
       "      <th>0</th>\n",
       "      <td>2573916522</td>\n",
       "      <td>873202</td>\n",
       "    </tr>\n",
       "    <tr>\n",
       "      <th>1</th>\n",
       "      <td>2574226585</td>\n",
       "      <td>873224</td>\n",
       "    </tr>\n",
       "    <tr>\n",
       "      <th>2</th>\n",
       "      <td>2585316813</td>\n",
       "      <td>873244</td>\n",
       "    </tr>\n",
       "    <tr>\n",
       "      <th>3</th>\n",
       "      <td>2573916527</td>\n",
       "      <td>873202</td>\n",
       "    </tr>\n",
       "    <tr>\n",
       "      <th>4</th>\n",
       "      <td>2612144294</td>\n",
       "      <td>3115485</td>\n",
       "    </tr>\n",
       "  </tbody>\n",
       "</table>\n",
       "</div>"
      ],
      "text/plain": [
       "   product_id  category_id\n",
       "0  2573916522       873202\n",
       "1  2574226585       873224\n",
       "2  2585316813       873244\n",
       "3  2573916527       873202\n",
       "4  2612144294      3115485"
      ]
     },
     "execution_count": 283,
     "metadata": {},
     "output_type": "execute_result"
    }
   ],
   "source": [
    "products_categories.head()"
   ]
  },
  {
   "cell_type": "code",
   "execution_count": 164,
   "metadata": {},
   "outputs": [
    {
     "name": "stdout",
     "output_type": "stream",
     "text": [
      "0, 0\n"
     ]
    }
   ],
   "source": [
    "print(products.id.isna().sum(), products_categories.product_id.isna().sum(), sep=', ')"
   ]
  },
  {
   "cell_type": "code",
   "execution_count": 165,
   "metadata": {},
   "outputs": [
    {
     "name": "stdout",
     "output_type": "stream",
     "text": [
      "60291, 57925\n"
     ]
    }
   ],
   "source": [
    "print(products.id.nunique(), products_categories.product_id.nunique(), sep=', ')"
   ]
  },
  {
   "cell_type": "markdown",
   "metadata": {},
   "source": [
    "Для начала все-таки проведем **количественный анализ**. "
   ]
  },
  {
   "cell_type": "code",
   "execution_count": 198,
   "metadata": {},
   "outputs": [
    {
     "data": {
      "text/html": [
       "<div>\n",
       "<style scoped>\n",
       "    .dataframe tbody tr th:only-of-type {\n",
       "        vertical-align: middle;\n",
       "    }\n",
       "\n",
       "    .dataframe tbody tr th {\n",
       "        vertical-align: top;\n",
       "    }\n",
       "\n",
       "    .dataframe thead th {\n",
       "        text-align: right;\n",
       "    }\n",
       "</style>\n",
       "<table border=\"1\" class=\"dataframe\">\n",
       "  <thead>\n",
       "    <tr style=\"text-align: right;\">\n",
       "      <th></th>\n",
       "      <th>query</th>\n",
       "      <th>search_results</th>\n",
       "    </tr>\n",
       "  </thead>\n",
       "  <tbody>\n",
       "    <tr>\n",
       "      <th>0</th>\n",
       "      <td>гель алое</td>\n",
       "      <td>99730300002</td>\n",
       "    </tr>\n",
       "    <tr>\n",
       "      <th>0</th>\n",
       "      <td>гель алое</td>\n",
       "      <td>99720100024</td>\n",
       "    </tr>\n",
       "    <tr>\n",
       "      <th>0</th>\n",
       "      <td>гель алое</td>\n",
       "      <td>99730300080</td>\n",
       "    </tr>\n",
       "    <tr>\n",
       "      <th>1</th>\n",
       "      <td>бьюти бокс flacon</td>\n",
       "      <td>19760303130</td>\n",
       "    </tr>\n",
       "    <tr>\n",
       "      <th>1</th>\n",
       "      <td>бьюти бокс flacon</td>\n",
       "      <td>19760304573</td>\n",
       "    </tr>\n",
       "  </tbody>\n",
       "</table>\n",
       "</div>"
      ],
      "text/plain": [
       "               query search_results\n",
       "0          гель алое    99730300002\n",
       "0          гель алое    99720100024\n",
       "0          гель алое    99730300080\n",
       "1  бьюти бокс flacon    19760303130\n",
       "1  бьюти бокс flacon    19760304573"
      ]
     },
     "execution_count": 198,
     "metadata": {},
     "output_type": "execute_result"
    }
   ],
   "source": [
    "df_1.head()"
   ]
  },
  {
   "cell_type": "code",
   "execution_count": 351,
   "metadata": {},
   "outputs": [],
   "source": [
    "count_of_query = df_1.groupby('search_results').count().reset_index() \\\n",
    "    .rename(columns={'search_results': 'external_id', 'query': 'count_of_query'})"
   ]
  },
  {
   "cell_type": "code",
   "execution_count": 352,
   "metadata": {},
   "outputs": [
    {
     "data": {
      "text/html": [
       "<div>\n",
       "<style scoped>\n",
       "    .dataframe tbody tr th:only-of-type {\n",
       "        vertical-align: middle;\n",
       "    }\n",
       "\n",
       "    .dataframe tbody tr th {\n",
       "        vertical-align: top;\n",
       "    }\n",
       "\n",
       "    .dataframe thead th {\n",
       "        text-align: right;\n",
       "    }\n",
       "</style>\n",
       "<table border=\"1\" class=\"dataframe\">\n",
       "  <thead>\n",
       "    <tr style=\"text-align: right;\">\n",
       "      <th></th>\n",
       "      <th>external_id</th>\n",
       "      <th>count_of_query</th>\n",
       "    </tr>\n",
       "  </thead>\n",
       "  <tbody>\n",
       "    <tr>\n",
       "      <th>0</th>\n",
       "      <td>142541</td>\n",
       "      <td>252</td>\n",
       "    </tr>\n",
       "    <tr>\n",
       "      <th>1</th>\n",
       "      <td>187501</td>\n",
       "      <td>99</td>\n",
       "    </tr>\n",
       "    <tr>\n",
       "      <th>2</th>\n",
       "      <td>835606</td>\n",
       "      <td>16</td>\n",
       "    </tr>\n",
       "    <tr>\n",
       "      <th>3</th>\n",
       "      <td>141400001</td>\n",
       "      <td>79</td>\n",
       "    </tr>\n",
       "    <tr>\n",
       "      <th>4</th>\n",
       "      <td>1010100030</td>\n",
       "      <td>10</td>\n",
       "    </tr>\n",
       "  </tbody>\n",
       "</table>\n",
       "</div>"
      ],
      "text/plain": [
       "   external_id  count_of_query\n",
       "0       142541             252\n",
       "1       187501              99\n",
       "2       835606              16\n",
       "3    141400001              79\n",
       "4   1010100030              10"
      ]
     },
     "execution_count": 352,
     "metadata": {},
     "output_type": "execute_result"
    }
   ],
   "source": [
    "count_of_query.head()"
   ]
  },
  {
   "cell_type": "code",
   "execution_count": 203,
   "metadata": {},
   "outputs": [
    {
     "name": "stdout",
     "output_type": "stream",
     "text": [
      "1772 1\n"
     ]
    }
   ],
   "source": [
    "print(count_of_query.count_of_query.max(), count_of_query.count_of_query.min())"
   ]
  },
  {
   "cell_type": "code",
   "execution_count": 353,
   "metadata": {},
   "outputs": [
    {
     "data": {
      "text/plain": [
       "external_id       47064\n",
       "count_of_query      805\n",
       "dtype: int64"
      ]
     },
     "execution_count": 353,
     "metadata": {},
     "output_type": "execute_result"
    }
   ],
   "source": [
    "count_of_query.nunique()"
   ]
  },
  {
   "cell_type": "code",
   "execution_count": 247,
   "metadata": {},
   "outputs": [
    {
     "data": {
      "text/plain": [
       "<AxesSubplot:>"
      ]
     },
     "execution_count": 247,
     "metadata": {},
     "output_type": "execute_result"
    },
    {
     "data": {
      "image/png": "[encoded data removed]",
      "text/plain": [
       "<Figure size 648x432 with 1 Axes>"
      ]
     },
     "metadata": {},
     "output_type": "display_data"
    }
   ],
   "source": [
    "count_of_query.count_of_query.hist()"
   ]
  },
  {
   "cell_type": "code",
   "execution_count": 212,
   "metadata": {},
   "outputs": [
    {
     "data": {
      "text/plain": [
       "count    47064.000000\n",
       "mean       173.639852\n",
       "std        149.698033\n",
       "min          1.000000\n",
       "25%         70.000000\n",
       "50%        132.000000\n",
       "75%        232.000000\n",
       "max       1772.000000\n",
       "Name: count_of_query, dtype: float64"
      ]
     },
     "execution_count": 212,
     "metadata": {},
     "output_type": "execute_result"
    }
   ],
   "source": [
    "count_of_query.count_of_query.describe()"
   ]
  },
  {
   "cell_type": "code",
   "execution_count": 220,
   "metadata": {},
   "outputs": [
    {
     "name": "stdout",
     "output_type": "stream",
     "text": [
      "0.85 quantile = 302.0; 0.90 quantile = 372.0; 0.95 quantile = 469.0\n"
     ]
    }
   ],
   "source": [
    "print('0.85 quantile = {}; 0.90 quantile = {}; 0.95 quantile = {}'.format(count_of_query.count_of_query.quantile(q=0.85), \\\n",
    "                                                                         count_of_query.count_of_query.quantile(q=0.90), \\\n",
    "                                                                         count_of_query.count_of_query.quantile(q=0.95)))"
   ]
  },
  {
   "cell_type": "code",
   "execution_count": 281,
   "metadata": {},
   "outputs": [
    {
     "data": {
      "image/png": "[encoded data removed]",
      "text/plain": [
       "<Figure size 648x432 with 1 Axes>"
      ]
     },
     "metadata": {},
     "output_type": "display_data"
    }
   ],
   "source": [
    "plt.hist(count_of_query.count_of_query, bins=100)\n",
    "\n",
    "plt.title('Частота встречаемости продуктов в сессиях')\n",
    "plt.xlabel('Число запросов')\n",
    "plt.ylabel('Число продуктов, нацденных по запросу')\n",
    "\n",
    "plt.xlim(0, count_of_query.count_of_query.quantile(q=0.95))\n",
    "\n",
    "plt.grid(True)\n",
    "\n",
    "plt.show()"
   ]
  },
  {
   "cell_type": "code",
   "execution_count": 254,
   "metadata": {},
   "outputs": [
    {
     "data": {
      "image/png": "[encoded data removed]",
      "text/plain": [
       "<Figure size 648x432 with 1 Axes>"
      ]
     },
     "metadata": {},
     "output_type": "display_data"
    }
   ],
   "source": [
    "plt.hist(count_of_query.count_of_query, bins=100)\n",
    "\n",
    "plt.title('Частота встречаемости продуктов в сессиях')\n",
    "\n",
    "plt.grid(True)\n",
    "plt.show()"
   ]
  },
  {
   "cell_type": "code",
   "execution_count": 294,
   "metadata": {},
   "outputs": [
    {
     "data": {
      "image/png": "[encoded data removed]",
      "text/plain": [
       "<Figure size 648x432 with 1 Axes>"
      ]
     },
     "metadata": {},
     "output_type": "display_data"
    }
   ],
   "source": [
    "plt.hist(count_of_query.count_of_query, bins=[0, count_of_query.count_of_query.quantile(q=0.25), \\\n",
    "                                              count_of_query.count_of_query.quantile(q=0.5), \\\n",
    "                                              count_of_query.count_of_query.quantile(q=0.75), \\\n",
    "                                             count_of_query.count_of_query.quantile(q=0.90), \\\n",
    "                                             count_of_query.count_of_query.quantile(q=1)])\n",
    "\n",
    "plt.title('Частота встречаемости продуктов в сессиях')\n",
    "\n",
    "plt.grid(True)\n",
    "plt.show()"
   ]
  },
  {
   "cell_type": "code",
   "execution_count": 288,
   "metadata": {},
   "outputs": [],
   "source": [
    "products_categories = products_categories.drop(columns=['site_id'])"
   ]
  },
  {
   "cell_type": "code",
   "execution_count": 289,
   "metadata": {},
   "outputs": [
    {
     "data": {
      "text/html": [
       "<div>\n",
       "<style scoped>\n",
       "    .dataframe tbody tr th:only-of-type {\n",
       "        vertical-align: middle;\n",
       "    }\n",
       "\n",
       "    .dataframe tbody tr th {\n",
       "        vertical-align: top;\n",
       "    }\n",
       "\n",
       "    .dataframe thead th {\n",
       "        text-align: right;\n",
       "    }\n",
       "</style>\n",
       "<table border=\"1\" class=\"dataframe\">\n",
       "  <thead>\n",
       "    <tr style=\"text-align: right;\">\n",
       "      <th></th>\n",
       "      <th>product_id</th>\n",
       "      <th>category_id</th>\n",
       "    </tr>\n",
       "  </thead>\n",
       "  <tbody>\n",
       "    <tr>\n",
       "      <th>0</th>\n",
       "      <td>2573916522</td>\n",
       "      <td>873202</td>\n",
       "    </tr>\n",
       "    <tr>\n",
       "      <th>1</th>\n",
       "      <td>2574226585</td>\n",
       "      <td>873224</td>\n",
       "    </tr>\n",
       "    <tr>\n",
       "      <th>2</th>\n",
       "      <td>2585316813</td>\n",
       "      <td>873244</td>\n",
       "    </tr>\n",
       "    <tr>\n",
       "      <th>3</th>\n",
       "      <td>2573916527</td>\n",
       "      <td>873202</td>\n",
       "    </tr>\n",
       "    <tr>\n",
       "      <th>4</th>\n",
       "      <td>2612144294</td>\n",
       "      <td>3115485</td>\n",
       "    </tr>\n",
       "  </tbody>\n",
       "</table>\n",
       "</div>"
      ],
      "text/plain": [
       "   product_id  category_id\n",
       "0  2573916522       873202\n",
       "1  2574226585       873224\n",
       "2  2585316813       873244\n",
       "3  2573916527       873202\n",
       "4  2612144294      3115485"
      ]
     },
     "execution_count": 289,
     "metadata": {},
     "output_type": "execute_result"
    }
   ],
   "source": [
    "products_categories.head()"
   ]
  },
  {
   "cell_type": "code",
   "execution_count": 280,
   "metadata": {},
   "outputs": [
    {
     "data": {
      "text/plain": [
       "product_id\n",
       "2573904128              [873881, 873485]\n",
       "2573904130             [873244, 3672618]\n",
       "2573904131    [873244, 3672618, 3658303]\n",
       "2573904132    [873248, 3672618, 3658303]\n",
       "2573904133    [873244, 3672618, 3658303]\n",
       "                         ...            \n",
       "2631072922                      [873966]\n",
       "2631072923             [3115486, 873909]\n",
       "2631072924              [873482, 873874]\n",
       "2631072925                      [873895]\n",
       "2631186608                      [873219]\n",
       "Name: category_id, Length: 57925, dtype: object"
      ]
     },
     "execution_count": 280,
     "metadata": {},
     "output_type": "execute_result"
    }
   ],
   "source": [
    "products_categories.groupby('product_id')['category_id'].apply(list)"
   ]
  },
  {
   "cell_type": "markdown",
   "metadata": {},
   "source": [
    "# 01.02 \n",
    "### Задача: \n",
    "EDA: количество разных категорий среди просмотренных товаров в сессии\n",
    "### Описание:\n",
    "Т.е. \"сколько категорий в сессии\" + гистограмма(json)"
   ]
  },
  {
   "cell_type": "code",
   "execution_count": 295,
   "metadata": {},
   "outputs": [],
   "source": [
    "with open ('420_searches.json') as f:\n",
    "    searches_420 = json.load(f)"
   ]
  },
  {
   "cell_type": "code",
   "execution_count": 296,
   "metadata": {},
   "outputs": [
    {
     "data": {
      "text/plain": [
       "[{'query': '0 70',\n",
       "  'amount': 1,\n",
       "  'products': {'89072600018': '1',\n",
       "   '89072600022': '1',\n",
       "   '89072600015': '1',\n",
       "   '89072600014': '1',\n",
       "   '89072600024': '1',\n",
       "   '89072600013': '1',\n",
       "   '89072600021': '1',\n",
       "   '89072600020': '1',\n",
       "   '89072600012': '1',\n",
       "   '89072600023': '1',\n",
       "   '89072600019': '1'}},\n",
       " {'query': '2 molecules', 'amount': 1, 'products': {'26500100001': '1'}}]"
      ]
     },
     "execution_count": 296,
     "metadata": {},
     "output_type": "execute_result"
    }
   ],
   "source": [
    "searches_420[:2]"
   ]
  },
  {
   "cell_type": "code",
   "execution_count": 303,
   "metadata": {},
   "outputs": [
    {
     "data": {
      "text/html": [
       "<div>\n",
       "<style scoped>\n",
       "    .dataframe tbody tr th:only-of-type {\n",
       "        vertical-align: middle;\n",
       "    }\n",
       "\n",
       "    .dataframe tbody tr th {\n",
       "        vertical-align: top;\n",
       "    }\n",
       "\n",
       "    .dataframe thead th {\n",
       "        text-align: right;\n",
       "    }\n",
       "</style>\n",
       "<table border=\"1\" class=\"dataframe\">\n",
       "  <thead>\n",
       "    <tr style=\"text-align: right;\">\n",
       "      <th></th>\n",
       "      <th>query</th>\n",
       "      <th>search_results</th>\n",
       "      <th>views</th>\n",
       "      <th>purchases</th>\n",
       "    </tr>\n",
       "  </thead>\n",
       "  <tbody>\n",
       "    <tr>\n",
       "      <th>0</th>\n",
       "      <td>гель алое</td>\n",
       "      <td>[99730300002, 99720100024, 99730300080]</td>\n",
       "      <td>[]</td>\n",
       "      <td>[]</td>\n",
       "    </tr>\n",
       "    <tr>\n",
       "      <th>1</th>\n",
       "      <td>бьюти бокс flacon</td>\n",
       "      <td>[19760303130, 19760304573, 18480300014, 197603...</td>\n",
       "      <td>[]</td>\n",
       "      <td>[]</td>\n",
       "    </tr>\n",
       "    <tr>\n",
       "      <th>2</th>\n",
       "      <td>колготки</td>\n",
       "      <td>[22082900011, 22082900010, 22082900009, 220829...</td>\n",
       "      <td>[]</td>\n",
       "      <td>[]</td>\n",
       "    </tr>\n",
       "    <tr>\n",
       "      <th>3</th>\n",
       "      <td>помада гигиеническая</td>\n",
       "      <td>[3885700001, 89230500006, 89230600011, 8941650...</td>\n",
       "      <td>[]</td>\n",
       "      <td>[]</td>\n",
       "    </tr>\n",
       "    <tr>\n",
       "      <th>4</th>\n",
       "      <td>ножницы</td>\n",
       "      <td>[70130100027, 8410400003, 8380100002, 70130100...</td>\n",
       "      <td>[]</td>\n",
       "      <td>[]</td>\n",
       "    </tr>\n",
       "  </tbody>\n",
       "</table>\n",
       "</div>"
      ],
      "text/plain": [
       "                  query                                     search_results  \\\n",
       "0             гель алое            [99730300002, 99720100024, 99730300080]   \n",
       "1     бьюти бокс flacon  [19760303130, 19760304573, 18480300014, 197603...   \n",
       "2              колготки  [22082900011, 22082900010, 22082900009, 220829...   \n",
       "3  помада гигиеническая  [3885700001, 89230500006, 89230600011, 8941650...   \n",
       "4               ножницы  [70130100027, 8410400003, 8380100002, 70130100...   \n",
       "\n",
       "  views purchases  \n",
       "0    []        []  \n",
       "1    []        []  \n",
       "2    []        []  \n",
       "3    []        []  \n",
       "4    []        []  "
      ]
     },
     "execution_count": 303,
     "metadata": {},
     "output_type": "execute_result"
    }
   ],
   "source": [
    "df.head()"
   ]
  },
  {
   "cell_type": "code",
   "execution_count": 313,
   "metadata": {},
   "outputs": [
    {
     "name": "stdout",
     "output_type": "stream",
     "text": [
      "235566 2416570\n"
     ]
    }
   ],
   "source": [
    "print(df['query'].nunique(), df.shape[0])"
   ]
  },
  {
   "cell_type": "code",
   "execution_count": 315,
   "metadata": {},
   "outputs": [
    {
     "data": {
      "text/plain": [
       "9.7479485386312"
      ]
     },
     "execution_count": 315,
     "metadata": {},
     "output_type": "execute_result"
    }
   ],
   "source": [
    "235566/2416570*100"
   ]
  },
  {
   "cell_type": "markdown",
   "metadata": {},
   "source": [
    "В 2416570 сессий 235566 уникальных запросов (9,75%)"
   ]
  },
  {
   "cell_type": "code",
   "execution_count": 316,
   "metadata": {},
   "outputs": [
    {
     "data": {
      "text/html": [
       "<div>\n",
       "<style scoped>\n",
       "    .dataframe tbody tr th:only-of-type {\n",
       "        vertical-align: middle;\n",
       "    }\n",
       "\n",
       "    .dataframe tbody tr th {\n",
       "        vertical-align: top;\n",
       "    }\n",
       "\n",
       "    .dataframe thead th {\n",
       "        text-align: right;\n",
       "    }\n",
       "</style>\n",
       "<table border=\"1\" class=\"dataframe\">\n",
       "  <thead>\n",
       "    <tr style=\"text-align: right;\">\n",
       "      <th></th>\n",
       "      <th>query</th>\n",
       "      <th>search_results</th>\n",
       "    </tr>\n",
       "  </thead>\n",
       "  <tbody>\n",
       "    <tr>\n",
       "      <th>0</th>\n",
       "      <td>гель алое</td>\n",
       "      <td>99730300002</td>\n",
       "    </tr>\n",
       "    <tr>\n",
       "      <th>0</th>\n",
       "      <td>гель алое</td>\n",
       "      <td>99720100024</td>\n",
       "    </tr>\n",
       "    <tr>\n",
       "      <th>0</th>\n",
       "      <td>гель алое</td>\n",
       "      <td>99730300080</td>\n",
       "    </tr>\n",
       "    <tr>\n",
       "      <th>1</th>\n",
       "      <td>бьюти бокс flacon</td>\n",
       "      <td>19760303130</td>\n",
       "    </tr>\n",
       "    <tr>\n",
       "      <th>1</th>\n",
       "      <td>бьюти бокс flacon</td>\n",
       "      <td>19760304573</td>\n",
       "    </tr>\n",
       "  </tbody>\n",
       "</table>\n",
       "</div>"
      ],
      "text/plain": [
       "               query search_results\n",
       "0          гель алое    99730300002\n",
       "0          гель алое    99720100024\n",
       "0          гель алое    99730300080\n",
       "1  бьюти бокс flacon    19760303130\n",
       "1  бьюти бокс flacon    19760304573"
      ]
     },
     "execution_count": 316,
     "metadata": {},
     "output_type": "execute_result"
    }
   ],
   "source": [
    "df_1.head()"
   ]
  },
  {
   "cell_type": "code",
   "execution_count": 318,
   "metadata": {},
   "outputs": [
    {
     "data": {
      "text/html": [
       "<div>\n",
       "<style scoped>\n",
       "    .dataframe tbody tr th:only-of-type {\n",
       "        vertical-align: middle;\n",
       "    }\n",
       "\n",
       "    .dataframe tbody tr th {\n",
       "        vertical-align: top;\n",
       "    }\n",
       "\n",
       "    .dataframe thead th {\n",
       "        text-align: right;\n",
       "    }\n",
       "</style>\n",
       "<table border=\"1\" class=\"dataframe\">\n",
       "  <thead>\n",
       "    <tr style=\"text-align: right;\">\n",
       "      <th></th>\n",
       "      <th>query</th>\n",
       "      <th>search_results</th>\n",
       "    </tr>\n",
       "  </thead>\n",
       "  <tbody>\n",
       "    <tr>\n",
       "      <th>0</th>\n",
       "      <td>гель алое</td>\n",
       "      <td>99730300002</td>\n",
       "    </tr>\n",
       "    <tr>\n",
       "      <th>0</th>\n",
       "      <td>гель алое</td>\n",
       "      <td>99720100024</td>\n",
       "    </tr>\n",
       "    <tr>\n",
       "      <th>0</th>\n",
       "      <td>гель алое</td>\n",
       "      <td>99730300080</td>\n",
       "    </tr>\n",
       "  </tbody>\n",
       "</table>\n",
       "</div>"
      ],
      "text/plain": [
       "       query search_results\n",
       "0  гель алое    99730300002\n",
       "0  гель алое    99720100024\n",
       "0  гель алое    99730300080"
      ]
     },
     "execution_count": 318,
     "metadata": {},
     "output_type": "execute_result"
    }
   ],
   "source": [
    "df_1.loc[0, :]"
   ]
  },
  {
   "cell_type": "code",
   "execution_count": 326,
   "metadata": {},
   "outputs": [
    {
     "data": {
      "text/html": [
       "<div>\n",
       "<style scoped>\n",
       "    .dataframe tbody tr th:only-of-type {\n",
       "        vertical-align: middle;\n",
       "    }\n",
       "\n",
       "    .dataframe tbody tr th {\n",
       "        vertical-align: top;\n",
       "    }\n",
       "\n",
       "    .dataframe thead th {\n",
       "        text-align: right;\n",
       "    }\n",
       "</style>\n",
       "<table border=\"1\" class=\"dataframe\">\n",
       "  <thead>\n",
       "    <tr style=\"text-align: right;\">\n",
       "      <th></th>\n",
       "      <th>query</th>\n",
       "      <th>search_results</th>\n",
       "    </tr>\n",
       "  </thead>\n",
       "  <tbody>\n",
       "    <tr>\n",
       "      <th>0</th>\n",
       "      <td>гель алое</td>\n",
       "      <td>99730300002</td>\n",
       "    </tr>\n",
       "    <tr>\n",
       "      <th>0</th>\n",
       "      <td>гель алое</td>\n",
       "      <td>99720100024</td>\n",
       "    </tr>\n",
       "    <tr>\n",
       "      <th>0</th>\n",
       "      <td>гель алое</td>\n",
       "      <td>99730300080</td>\n",
       "    </tr>\n",
       "    <tr>\n",
       "      <th>3985</th>\n",
       "      <td>гель алое</td>\n",
       "      <td>30013100013</td>\n",
       "    </tr>\n",
       "    <tr>\n",
       "      <th>3985</th>\n",
       "      <td>гель алое</td>\n",
       "      <td>1260100030</td>\n",
       "    </tr>\n",
       "    <tr>\n",
       "      <th>...</th>\n",
       "      <td>...</td>\n",
       "      <td>...</td>\n",
       "    </tr>\n",
       "    <tr>\n",
       "      <th>967705</th>\n",
       "      <td>гель алое</td>\n",
       "      <td>30013600001</td>\n",
       "    </tr>\n",
       "    <tr>\n",
       "      <th>967705</th>\n",
       "      <td>гель алое</td>\n",
       "      <td>39540200004</td>\n",
       "    </tr>\n",
       "    <tr>\n",
       "      <th>1295680</th>\n",
       "      <td>гель алое</td>\n",
       "      <td>9410800001</td>\n",
       "    </tr>\n",
       "    <tr>\n",
       "      <th>1295680</th>\n",
       "      <td>гель алое</td>\n",
       "      <td>9411100002</td>\n",
       "    </tr>\n",
       "    <tr>\n",
       "      <th>1295680</th>\n",
       "      <td>гель алое</td>\n",
       "      <td>30280100004</td>\n",
       "    </tr>\n",
       "  </tbody>\n",
       "</table>\n",
       "<p>67 rows × 2 columns</p>\n",
       "</div>"
      ],
      "text/plain": [
       "             query search_results\n",
       "0        гель алое    99730300002\n",
       "0        гель алое    99720100024\n",
       "0        гель алое    99730300080\n",
       "3985     гель алое    30013100013\n",
       "3985     гель алое     1260100030\n",
       "...            ...            ...\n",
       "967705   гель алое    30013600001\n",
       "967705   гель алое    39540200004\n",
       "1295680  гель алое     9410800001\n",
       "1295680  гель алое     9411100002\n",
       "1295680  гель алое    30280100004\n",
       "\n",
       "[67 rows x 2 columns]"
      ]
     },
     "execution_count": 326,
     "metadata": {},
     "output_type": "execute_result"
    }
   ],
   "source": [
    "df_1[df_1['query']=='гель алое']"
   ]
  },
  {
   "cell_type": "code",
   "execution_count": 329,
   "metadata": {},
   "outputs": [
    {
     "data": {
      "text/plain": [
       "11"
      ]
     },
     "execution_count": 329,
     "metadata": {},
     "output_type": "execute_result"
    }
   ],
   "source": [
    "df_1[df_1['query']=='гель алое'].index.nunique() # число различных сессий с заданным запросом 'гель алое'"
   ]
  },
  {
   "cell_type": "code",
   "execution_count": 332,
   "metadata": {},
   "outputs": [
    {
     "data": {
      "text/html": [
       "<div>\n",
       "<style scoped>\n",
       "    .dataframe tbody tr th:only-of-type {\n",
       "        vertical-align: middle;\n",
       "    }\n",
       "\n",
       "    .dataframe tbody tr th {\n",
       "        vertical-align: top;\n",
       "    }\n",
       "\n",
       "    .dataframe thead th {\n",
       "        text-align: right;\n",
       "    }\n",
       "</style>\n",
       "<table border=\"1\" class=\"dataframe\">\n",
       "  <thead>\n",
       "    <tr style=\"text-align: right;\">\n",
       "      <th></th>\n",
       "      <th>external_id</th>\n",
       "      <th>id</th>\n",
       "    </tr>\n",
       "  </thead>\n",
       "  <tbody>\n",
       "    <tr>\n",
       "      <th>0</th>\n",
       "      <td>24944900083</td>\n",
       "      <td>2573904266</td>\n",
       "    </tr>\n",
       "    <tr>\n",
       "      <th>1</th>\n",
       "      <td>24944900078</td>\n",
       "      <td>2573904322</td>\n",
       "    </tr>\n",
       "    <tr>\n",
       "      <th>2</th>\n",
       "      <td>7005200014</td>\n",
       "      <td>2573904375</td>\n",
       "    </tr>\n",
       "    <tr>\n",
       "      <th>3</th>\n",
       "      <td>24944900057</td>\n",
       "      <td>2573904490</td>\n",
       "    </tr>\n",
       "    <tr>\n",
       "      <th>4</th>\n",
       "      <td>17059600013</td>\n",
       "      <td>2573905005</td>\n",
       "    </tr>\n",
       "  </tbody>\n",
       "</table>\n",
       "</div>"
      ],
      "text/plain": [
       "   external_id          id\n",
       "0  24944900083  2573904266\n",
       "1  24944900078  2573904322\n",
       "2   7005200014  2573904375\n",
       "3  24944900057  2573904490\n",
       "4  17059600013  2573905005"
      ]
     },
     "execution_count": 332,
     "metadata": {},
     "output_type": "execute_result"
    }
   ],
   "source": [
    "products[['external_id', 'id']].head()"
   ]
  },
  {
   "cell_type": "code",
   "execution_count": 334,
   "metadata": {},
   "outputs": [
    {
     "name": "stdout",
     "output_type": "stream",
     "text": [
      "(60291, 8) (112858, 2)\n"
     ]
    }
   ],
   "source": [
    "print(products.shape, products_categories.shape)"
   ]
  },
  {
   "cell_type": "code",
   "execution_count": 331,
   "metadata": {},
   "outputs": [
    {
     "data": {
      "text/html": [
       "<div>\n",
       "<style scoped>\n",
       "    .dataframe tbody tr th:only-of-type {\n",
       "        vertical-align: middle;\n",
       "    }\n",
       "\n",
       "    .dataframe tbody tr th {\n",
       "        vertical-align: top;\n",
       "    }\n",
       "\n",
       "    .dataframe thead th {\n",
       "        text-align: right;\n",
       "    }\n",
       "</style>\n",
       "<table border=\"1\" class=\"dataframe\">\n",
       "  <thead>\n",
       "    <tr style=\"text-align: right;\">\n",
       "      <th></th>\n",
       "      <th>product_id</th>\n",
       "      <th>category_id</th>\n",
       "    </tr>\n",
       "  </thead>\n",
       "  <tbody>\n",
       "    <tr>\n",
       "      <th>0</th>\n",
       "      <td>2573916522</td>\n",
       "      <td>873202</td>\n",
       "    </tr>\n",
       "    <tr>\n",
       "      <th>1</th>\n",
       "      <td>2574226585</td>\n",
       "      <td>873224</td>\n",
       "    </tr>\n",
       "    <tr>\n",
       "      <th>2</th>\n",
       "      <td>2585316813</td>\n",
       "      <td>873244</td>\n",
       "    </tr>\n",
       "    <tr>\n",
       "      <th>3</th>\n",
       "      <td>2573916527</td>\n",
       "      <td>873202</td>\n",
       "    </tr>\n",
       "    <tr>\n",
       "      <th>4</th>\n",
       "      <td>2612144294</td>\n",
       "      <td>3115485</td>\n",
       "    </tr>\n",
       "  </tbody>\n",
       "</table>\n",
       "</div>"
      ],
      "text/plain": [
       "   product_id  category_id\n",
       "0  2573916522       873202\n",
       "1  2574226585       873224\n",
       "2  2585316813       873244\n",
       "3  2573916527       873202\n",
       "4  2612144294      3115485"
      ]
     },
     "execution_count": 331,
     "metadata": {},
     "output_type": "execute_result"
    }
   ],
   "source": [
    "products_categories.head()"
   ]
  },
  {
   "cell_type": "code",
   "execution_count": 337,
   "metadata": {},
   "outputs": [],
   "source": [
    "external_products_categories = pd.merge(\n",
    "    products[['external_id', 'id']],\n",
    "    products_categories,\n",
    "    left_on='id',\n",
    "    right_on='product_id')"
   ]
  },
  {
   "cell_type": "code",
   "execution_count": 338,
   "metadata": {},
   "outputs": [
    {
     "data": {
      "text/html": [
       "<div>\n",
       "<style scoped>\n",
       "    .dataframe tbody tr th:only-of-type {\n",
       "        vertical-align: middle;\n",
       "    }\n",
       "\n",
       "    .dataframe tbody tr th {\n",
       "        vertical-align: top;\n",
       "    }\n",
       "\n",
       "    .dataframe thead th {\n",
       "        text-align: right;\n",
       "    }\n",
       "</style>\n",
       "<table border=\"1\" class=\"dataframe\">\n",
       "  <thead>\n",
       "    <tr style=\"text-align: right;\">\n",
       "      <th></th>\n",
       "      <th>external_id</th>\n",
       "      <th>id</th>\n",
       "      <th>product_id</th>\n",
       "      <th>category_id</th>\n",
       "    </tr>\n",
       "  </thead>\n",
       "  <tbody>\n",
       "    <tr>\n",
       "      <th>0</th>\n",
       "      <td>24944900083</td>\n",
       "      <td>2573904266</td>\n",
       "      <td>2573904266</td>\n",
       "      <td>873827</td>\n",
       "    </tr>\n",
       "    <tr>\n",
       "      <th>1</th>\n",
       "      <td>24944900078</td>\n",
       "      <td>2573904322</td>\n",
       "      <td>2573904322</td>\n",
       "      <td>873827</td>\n",
       "    </tr>\n",
       "    <tr>\n",
       "      <th>2</th>\n",
       "      <td>7005200014</td>\n",
       "      <td>2573904375</td>\n",
       "      <td>2573904375</td>\n",
       "      <td>873827</td>\n",
       "    </tr>\n",
       "    <tr>\n",
       "      <th>3</th>\n",
       "      <td>24944900057</td>\n",
       "      <td>2573904490</td>\n",
       "      <td>2573904490</td>\n",
       "      <td>873827</td>\n",
       "    </tr>\n",
       "    <tr>\n",
       "      <th>4</th>\n",
       "      <td>17059600013</td>\n",
       "      <td>2573905005</td>\n",
       "      <td>2573905005</td>\n",
       "      <td>873828</td>\n",
       "    </tr>\n",
       "  </tbody>\n",
       "</table>\n",
       "</div>"
      ],
      "text/plain": [
       "   external_id          id  product_id  category_id\n",
       "0  24944900083  2573904266  2573904266       873827\n",
       "1  24944900078  2573904322  2573904322       873827\n",
       "2   7005200014  2573904375  2573904375       873827\n",
       "3  24944900057  2573904490  2573904490       873827\n",
       "4  17059600013  2573905005  2573905005       873828"
      ]
     },
     "execution_count": 338,
     "metadata": {},
     "output_type": "execute_result"
    }
   ],
   "source": [
    "external_products_categories.head()"
   ]
  },
  {
   "cell_type": "code",
   "execution_count": 339,
   "metadata": {},
   "outputs": [
    {
     "data": {
      "text/plain": [
       "(112858, 4)"
      ]
     },
     "execution_count": 339,
     "metadata": {},
     "output_type": "execute_result"
    }
   ],
   "source": [
    "external_products_categories.shape"
   ]
  },
  {
   "cell_type": "code",
   "execution_count": 340,
   "metadata": {},
   "outputs": [
    {
     "name": "stdout",
     "output_type": "stream",
     "text": [
      "112858 112858\n"
     ]
    }
   ],
   "source": [
    "print(len(external_products_categories), len(external_products_categories.drop_duplicates()))"
   ]
  },
  {
   "cell_type": "code",
   "execution_count": 341,
   "metadata": {},
   "outputs": [
    {
     "data": {
      "text/plain": [
       "external_id    0\n",
       "id             0\n",
       "product_id     0\n",
       "category_id    0\n",
       "dtype: int64"
      ]
     },
     "execution_count": 341,
     "metadata": {},
     "output_type": "execute_result"
    }
   ],
   "source": [
    "external_products_categories.isna().sum()"
   ]
  },
  {
   "cell_type": "code",
   "execution_count": 345,
   "metadata": {},
   "outputs": [
    {
     "data": {
      "text/plain": [
       "external_id    int64\n",
       "id             int64\n",
       "product_id     int64\n",
       "category_id    int64\n",
       "dtype: object"
      ]
     },
     "execution_count": 345,
     "metadata": {},
     "output_type": "execute_result"
    }
   ],
   "source": [
    "external_products_categories.dtypes"
   ]
  },
  {
   "cell_type": "code",
   "execution_count": 342,
   "metadata": {},
   "outputs": [
    {
     "data": {
      "text/html": [
       "<div>\n",
       "<style scoped>\n",
       "    .dataframe tbody tr th:only-of-type {\n",
       "        vertical-align: middle;\n",
       "    }\n",
       "\n",
       "    .dataframe tbody tr th {\n",
       "        vertical-align: top;\n",
       "    }\n",
       "\n",
       "    .dataframe thead th {\n",
       "        text-align: right;\n",
       "    }\n",
       "</style>\n",
       "<table border=\"1\" class=\"dataframe\">\n",
       "  <thead>\n",
       "    <tr style=\"text-align: right;\">\n",
       "      <th></th>\n",
       "      <th>query</th>\n",
       "      <th>search_results</th>\n",
       "    </tr>\n",
       "  </thead>\n",
       "  <tbody>\n",
       "    <tr>\n",
       "      <th>0</th>\n",
       "      <td>гель алое</td>\n",
       "      <td>99730300002</td>\n",
       "    </tr>\n",
       "    <tr>\n",
       "      <th>0</th>\n",
       "      <td>гель алое</td>\n",
       "      <td>99720100024</td>\n",
       "    </tr>\n",
       "    <tr>\n",
       "      <th>0</th>\n",
       "      <td>гель алое</td>\n",
       "      <td>99730300080</td>\n",
       "    </tr>\n",
       "    <tr>\n",
       "      <th>1</th>\n",
       "      <td>бьюти бокс flacon</td>\n",
       "      <td>19760303130</td>\n",
       "    </tr>\n",
       "    <tr>\n",
       "      <th>1</th>\n",
       "      <td>бьюти бокс flacon</td>\n",
       "      <td>19760304573</td>\n",
       "    </tr>\n",
       "  </tbody>\n",
       "</table>\n",
       "</div>"
      ],
      "text/plain": [
       "               query search_results\n",
       "0          гель алое    99730300002\n",
       "0          гель алое    99720100024\n",
       "0          гель алое    99730300080\n",
       "1  бьюти бокс flacon    19760303130\n",
       "1  бьюти бокс flacon    19760304573"
      ]
     },
     "execution_count": 342,
     "metadata": {},
     "output_type": "execute_result"
    }
   ],
   "source": [
    "df_1.head()"
   ]
  },
  {
   "cell_type": "code",
   "execution_count": 344,
   "metadata": {},
   "outputs": [
    {
     "data": {
      "text/plain": [
       "query             object\n",
       "search_results    object\n",
       "dtype: object"
      ]
     },
     "execution_count": 344,
     "metadata": {},
     "output_type": "execute_result"
    }
   ],
   "source": [
    "df_1.dtypes"
   ]
  },
  {
   "cell_type": "code",
   "execution_count": 346,
   "metadata": {},
   "outputs": [],
   "source": [
    "df_1.search_results = df_1.search_results.astype('int64')"
   ]
  },
  {
   "cell_type": "code",
   "execution_count": 347,
   "metadata": {},
   "outputs": [
    {
     "data": {
      "text/plain": [
       "query             object\n",
       "search_results     int64\n",
       "dtype: object"
      ]
     },
     "execution_count": 347,
     "metadata": {},
     "output_type": "execute_result"
    }
   ],
   "source": [
    "df_1.dtypes"
   ]
  },
  {
   "cell_type": "code",
   "execution_count": 357,
   "metadata": {},
   "outputs": [],
   "source": [
    "df_2 = df_1.reset_index().rename(columns={'index': 'session_number'})"
   ]
  },
  {
   "cell_type": "code",
   "execution_count": 358,
   "metadata": {},
   "outputs": [
    {
     "data": {
      "text/html": [
       "<div>\n",
       "<style scoped>\n",
       "    .dataframe tbody tr th:only-of-type {\n",
       "        vertical-align: middle;\n",
       "    }\n",
       "\n",
       "    .dataframe tbody tr th {\n",
       "        vertical-align: top;\n",
       "    }\n",
       "\n",
       "    .dataframe thead th {\n",
       "        text-align: right;\n",
       "    }\n",
       "</style>\n",
       "<table border=\"1\" class=\"dataframe\">\n",
       "  <thead>\n",
       "    <tr style=\"text-align: right;\">\n",
       "      <th></th>\n",
       "      <th>session_number</th>\n",
       "      <th>query</th>\n",
       "      <th>search_results</th>\n",
       "    </tr>\n",
       "  </thead>\n",
       "  <tbody>\n",
       "    <tr>\n",
       "      <th>0</th>\n",
       "      <td>0</td>\n",
       "      <td>гель алое</td>\n",
       "      <td>99730300002</td>\n",
       "    </tr>\n",
       "    <tr>\n",
       "      <th>1</th>\n",
       "      <td>0</td>\n",
       "      <td>гель алое</td>\n",
       "      <td>99720100024</td>\n",
       "    </tr>\n",
       "    <tr>\n",
       "      <th>2</th>\n",
       "      <td>0</td>\n",
       "      <td>гель алое</td>\n",
       "      <td>99730300080</td>\n",
       "    </tr>\n",
       "    <tr>\n",
       "      <th>3</th>\n",
       "      <td>1</td>\n",
       "      <td>бьюти бокс flacon</td>\n",
       "      <td>19760303130</td>\n",
       "    </tr>\n",
       "    <tr>\n",
       "      <th>4</th>\n",
       "      <td>1</td>\n",
       "      <td>бьюти бокс flacon</td>\n",
       "      <td>19760304573</td>\n",
       "    </tr>\n",
       "  </tbody>\n",
       "</table>\n",
       "</div>"
      ],
      "text/plain": [
       "   session_number              query  search_results\n",
       "0               0          гель алое     99730300002\n",
       "1               0          гель алое     99720100024\n",
       "2               0          гель алое     99730300080\n",
       "3               1  бьюти бокс flacon     19760303130\n",
       "4               1  бьюти бокс flacon     19760304573"
      ]
     },
     "execution_count": 358,
     "metadata": {},
     "output_type": "execute_result"
    }
   ],
   "source": [
    "df_2.head()"
   ]
  },
  {
   "cell_type": "code",
   "execution_count": 359,
   "metadata": {},
   "outputs": [],
   "source": [
    "df_3 = pd.merge(\n",
    "    df_2,\n",
    "    external_products_categories,\n",
    "    left_on='search_results',\n",
    "    right_on='external_id')"
   ]
  },
  {
   "cell_type": "code",
   "execution_count": 360,
   "metadata": {},
   "outputs": [
    {
     "data": {
      "text/html": [
       "<div>\n",
       "<style scoped>\n",
       "    .dataframe tbody tr th:only-of-type {\n",
       "        vertical-align: middle;\n",
       "    }\n",
       "\n",
       "    .dataframe tbody tr th {\n",
       "        vertical-align: top;\n",
       "    }\n",
       "\n",
       "    .dataframe thead th {\n",
       "        text-align: right;\n",
       "    }\n",
       "</style>\n",
       "<table border=\"1\" class=\"dataframe\">\n",
       "  <thead>\n",
       "    <tr style=\"text-align: right;\">\n",
       "      <th></th>\n",
       "      <th>session_number</th>\n",
       "      <th>query</th>\n",
       "      <th>search_results</th>\n",
       "      <th>external_id</th>\n",
       "      <th>id</th>\n",
       "      <th>product_id</th>\n",
       "      <th>category_id</th>\n",
       "    </tr>\n",
       "  </thead>\n",
       "  <tbody>\n",
       "    <tr>\n",
       "      <th>0</th>\n",
       "      <td>0</td>\n",
       "      <td>гель алое</td>\n",
       "      <td>99730300002</td>\n",
       "      <td>99730300002</td>\n",
       "      <td>2573926890</td>\n",
       "      <td>2573926890</td>\n",
       "      <td>873922</td>\n",
       "    </tr>\n",
       "    <tr>\n",
       "      <th>1</th>\n",
       "      <td>0</td>\n",
       "      <td>гель алое</td>\n",
       "      <td>99730300002</td>\n",
       "      <td>99730300002</td>\n",
       "      <td>2573926890</td>\n",
       "      <td>2573926890</td>\n",
       "      <td>873234</td>\n",
       "    </tr>\n",
       "    <tr>\n",
       "      <th>2</th>\n",
       "      <td>162</td>\n",
       "      <td>евелен</td>\n",
       "      <td>99730300002</td>\n",
       "      <td>99730300002</td>\n",
       "      <td>2573926890</td>\n",
       "      <td>2573926890</td>\n",
       "      <td>873922</td>\n",
       "    </tr>\n",
       "    <tr>\n",
       "      <th>3</th>\n",
       "      <td>162</td>\n",
       "      <td>евелен</td>\n",
       "      <td>99730300002</td>\n",
       "      <td>99730300002</td>\n",
       "      <td>2573926890</td>\n",
       "      <td>2573926890</td>\n",
       "      <td>873234</td>\n",
       "    </tr>\n",
       "    <tr>\n",
       "      <th>4</th>\n",
       "      <td>12183</td>\n",
       "      <td>гель алоэ</td>\n",
       "      <td>99730300002</td>\n",
       "      <td>99730300002</td>\n",
       "      <td>2573926890</td>\n",
       "      <td>2573926890</td>\n",
       "      <td>873922</td>\n",
       "    </tr>\n",
       "  </tbody>\n",
       "</table>\n",
       "</div>"
      ],
      "text/plain": [
       "   session_number      query  search_results  external_id          id  \\\n",
       "0               0  гель алое     99730300002  99730300002  2573926890   \n",
       "1               0  гель алое     99730300002  99730300002  2573926890   \n",
       "2             162     евелен     99730300002  99730300002  2573926890   \n",
       "3             162     евелен     99730300002  99730300002  2573926890   \n",
       "4           12183  гель алоэ     99730300002  99730300002  2573926890   \n",
       "\n",
       "   product_id  category_id  \n",
       "0  2573926890       873922  \n",
       "1  2573926890       873234  \n",
       "2  2573926890       873922  \n",
       "3  2573926890       873234  \n",
       "4  2573926890       873922  "
      ]
     },
     "execution_count": 360,
     "metadata": {},
     "output_type": "execute_result"
    }
   ],
   "source": [
    "df_3.head()"
   ]
  },
  {
   "cell_type": "code",
   "execution_count": 361,
   "metadata": {},
   "outputs": [
    {
     "name": "stdout",
     "output_type": "stream",
     "text": [
      "18582781 18582781\n"
     ]
    }
   ],
   "source": [
    "print(len(df_3), len(df_3.drop_duplicates()))"
   ]
  },
  {
   "cell_type": "markdown",
   "metadata": {},
   "source": [
    "Вот тут кончился этап подготовки необходимых данных для того, чтобы ответить на вопрос \"сколько различных категорий в сессии\". Сессии идентифицируются по искусственно введенному session_number. Это необходимо, так как есть различные сессии с одинаковыми query (вначале текущей задачи было показано, что \"В 2416570 сессий 235566 уникальных запросов (9,75%)\")."
   ]
  },
  {
   "cell_type": "markdown",
   "metadata": {},
   "source": [
    "*Тестовое построение гистограммы для среза.*"
   ]
  },
  {
   "cell_type": "code",
   "execution_count": 378,
   "metadata": {},
   "outputs": [
    {
     "data": {
      "text/html": [
       "<div>\n",
       "<style scoped>\n",
       "    .dataframe tbody tr th:only-of-type {\n",
       "        vertical-align: middle;\n",
       "    }\n",
       "\n",
       "    .dataframe tbody tr th {\n",
       "        vertical-align: top;\n",
       "    }\n",
       "\n",
       "    .dataframe thead th {\n",
       "        text-align: right;\n",
       "    }\n",
       "</style>\n",
       "<table border=\"1\" class=\"dataframe\">\n",
       "  <thead>\n",
       "    <tr style=\"text-align: right;\">\n",
       "      <th></th>\n",
       "      <th>session_number</th>\n",
       "      <th>category_count</th>\n",
       "    </tr>\n",
       "  </thead>\n",
       "  <tbody>\n",
       "    <tr>\n",
       "      <th>0</th>\n",
       "      <td>0</td>\n",
       "      <td>2</td>\n",
       "    </tr>\n",
       "    <tr>\n",
       "      <th>1</th>\n",
       "      <td>1</td>\n",
       "      <td>1</td>\n",
       "    </tr>\n",
       "    <tr>\n",
       "      <th>2</th>\n",
       "      <td>2</td>\n",
       "      <td>1</td>\n",
       "    </tr>\n",
       "    <tr>\n",
       "      <th>3</th>\n",
       "      <td>3</td>\n",
       "      <td>4</td>\n",
       "    </tr>\n",
       "    <tr>\n",
       "      <th>4</th>\n",
       "      <td>7</td>\n",
       "      <td>1</td>\n",
       "    </tr>\n",
       "    <tr>\n",
       "      <th>...</th>\n",
       "      <td>...</td>\n",
       "      <td>...</td>\n",
       "    </tr>\n",
       "    <tr>\n",
       "      <th>2523</th>\n",
       "      <td>2406217</td>\n",
       "      <td>2</td>\n",
       "    </tr>\n",
       "    <tr>\n",
       "      <th>2524</th>\n",
       "      <td>2410213</td>\n",
       "      <td>2</td>\n",
       "    </tr>\n",
       "    <tr>\n",
       "      <th>2525</th>\n",
       "      <td>2411746</td>\n",
       "      <td>2</td>\n",
       "    </tr>\n",
       "    <tr>\n",
       "      <th>2526</th>\n",
       "      <td>2416336</td>\n",
       "      <td>1</td>\n",
       "    </tr>\n",
       "    <tr>\n",
       "      <th>2527</th>\n",
       "      <td>2416438</td>\n",
       "      <td>1</td>\n",
       "    </tr>\n",
       "  </tbody>\n",
       "</table>\n",
       "<p>2528 rows × 2 columns</p>\n",
       "</div>"
      ],
      "text/plain": [
       "      session_number  category_count\n",
       "0                  0               2\n",
       "1                  1               1\n",
       "2                  2               1\n",
       "3                  3               4\n",
       "4                  7               1\n",
       "...              ...             ...\n",
       "2523         2406217               2\n",
       "2524         2410213               2\n",
       "2525         2411746               2\n",
       "2526         2416336               1\n",
       "2527         2416438               1\n",
       "\n",
       "[2528 rows x 2 columns]"
      ]
     },
     "execution_count": 378,
     "metadata": {},
     "output_type": "execute_result"
    }
   ],
   "source": [
    "df_3[['session_number', 'category_id']][:10000].drop_duplicates().groupby('session_number').count().reset_index() \\\n",
    ".rename(columns={'category_id': 'category_count'})"
   ]
  },
  {
   "cell_type": "code",
   "execution_count": 380,
   "metadata": {},
   "outputs": [
    {
     "data": {
      "image/png": "[encoded data removed]",
      "text/plain": [
       "<Figure size 648x432 with 1 Axes>"
      ]
     },
     "metadata": {},
     "output_type": "display_data"
    }
   ],
   "source": [
    "plt.hist(df_3[['session_number', 'category_id']][:10000].drop_duplicates().groupby('session_number').count().reset_index() \\\n",
    ".rename(columns={'category_id': 'category_count'}).category_count, bins=10)\n",
    "\n",
    "plt.grid(True)\n",
    "\n",
    "plt.show()"
   ]
  },
  {
   "cell_type": "markdown",
   "metadata": {},
   "source": [
    "# Вычисление числа категорий в сессиях, построение гистограммы"
   ]
  },
  {
   "cell_type": "code",
   "execution_count": 382,
   "metadata": {},
   "outputs": [],
   "source": [
    "category_count_in_sessions = df_3[['session_number', 'category_id']].drop_duplicates() \\\n",
    ".groupby('session_number').count().reset_index() \\\n",
    ".rename(columns={'category_id': 'category_count'})"
   ]
  },
  {
   "cell_type": "code",
   "execution_count": 383,
   "metadata": {},
   "outputs": [
    {
     "data": {
      "text/html": [
       "<div>\n",
       "<style scoped>\n",
       "    .dataframe tbody tr th:only-of-type {\n",
       "        vertical-align: middle;\n",
       "    }\n",
       "\n",
       "    .dataframe tbody tr th {\n",
       "        vertical-align: top;\n",
       "    }\n",
       "\n",
       "    .dataframe thead th {\n",
       "        text-align: right;\n",
       "    }\n",
       "</style>\n",
       "<table border=\"1\" class=\"dataframe\">\n",
       "  <thead>\n",
       "    <tr style=\"text-align: right;\">\n",
       "      <th></th>\n",
       "      <th>session_number</th>\n",
       "      <th>category_count</th>\n",
       "    </tr>\n",
       "  </thead>\n",
       "  <tbody>\n",
       "    <tr>\n",
       "      <th>0</th>\n",
       "      <td>0</td>\n",
       "      <td>2</td>\n",
       "    </tr>\n",
       "    <tr>\n",
       "      <th>1</th>\n",
       "      <td>1</td>\n",
       "      <td>1</td>\n",
       "    </tr>\n",
       "    <tr>\n",
       "      <th>2</th>\n",
       "      <td>2</td>\n",
       "      <td>1</td>\n",
       "    </tr>\n",
       "    <tr>\n",
       "      <th>3</th>\n",
       "      <td>3</td>\n",
       "      <td>5</td>\n",
       "    </tr>\n",
       "    <tr>\n",
       "      <th>4</th>\n",
       "      <td>4</td>\n",
       "      <td>3</td>\n",
       "    </tr>\n",
       "  </tbody>\n",
       "</table>\n",
       "</div>"
      ],
      "text/plain": [
       "   session_number  category_count\n",
       "0               0               2\n",
       "1               1               1\n",
       "2               2               1\n",
       "3               3               5\n",
       "4               4               3"
      ]
     },
     "execution_count": 383,
     "metadata": {},
     "output_type": "execute_result"
    }
   ],
   "source": [
    "category_count_in_sessions.head()"
   ]
  },
  {
   "cell_type": "code",
   "execution_count": 387,
   "metadata": {},
   "outputs": [
    {
     "data": {
      "text/plain": [
       "(418033, 2)"
      ]
     },
     "execution_count": 387,
     "metadata": {},
     "output_type": "execute_result"
    }
   ],
   "source": [
    "category_count_in_sessions.shape"
   ]
  },
  {
   "cell_type": "code",
   "execution_count": 386,
   "metadata": {},
   "outputs": [
    {
     "data": {
      "text/plain": [
       "count    418033.000000\n",
       "mean          5.421106\n",
       "std           3.829604\n",
       "min           1.000000\n",
       "25%           3.000000\n",
       "50%           4.000000\n",
       "75%           7.000000\n",
       "max          37.000000\n",
       "Name: category_count, dtype: float64"
      ]
     },
     "execution_count": 386,
     "metadata": {},
     "output_type": "execute_result"
    }
   ],
   "source": [
    "category_count_in_sessions.category_count.describe()"
   ]
  },
  {
   "cell_type": "code",
   "execution_count": 384,
   "metadata": {},
   "outputs": [
    {
     "data": {
      "image/png": "[encoded data removed]",
      "text/plain": [
       "<Figure size 648x432 with 1 Axes>"
      ]
     },
     "metadata": {},
     "output_type": "display_data"
    }
   ],
   "source": [
    "plt.hist(category_count_in_sessions.category_count, bins=100)\n",
    "\n",
    "plt.title('Количество категорий в сессии')\n",
    "\n",
    "plt.grid(True)\n",
    "\n",
    "plt.show()"
   ]
  },
  {
   "cell_type": "code",
   "execution_count": 388,
   "metadata": {},
   "outputs": [
    {
     "data": {
      "image/png": "[encoded data removed]",
      "text/plain": [
       "<Figure size 648x432 with 1 Axes>"
      ]
     },
     "metadata": {},
     "output_type": "display_data"
    }
   ],
   "source": [
    "plt.hist(category_count_in_sessions.category_count, bins=10)\n",
    "\n",
    "plt.title('Количество категорий в сессии')\n",
    "\n",
    "plt.grid(True)\n",
    "\n",
    "plt.show()"
   ]
  },
  {
   "cell_type": "code",
   "execution_count": 391,
   "metadata": {},
   "outputs": [
    {
     "data": {
      "text/html": [
       "<div>\n",
       "<style scoped>\n",
       "    .dataframe tbody tr th:only-of-type {\n",
       "        vertical-align: middle;\n",
       "    }\n",
       "\n",
       "    .dataframe tbody tr th {\n",
       "        vertical-align: top;\n",
       "    }\n",
       "\n",
       "    .dataframe thead th {\n",
       "        text-align: right;\n",
       "    }\n",
       "</style>\n",
       "<table border=\"1\" class=\"dataframe\">\n",
       "  <thead>\n",
       "    <tr style=\"text-align: right;\">\n",
       "      <th></th>\n",
       "      <th>session_number</th>\n",
       "      <th>category_count</th>\n",
       "    </tr>\n",
       "  </thead>\n",
       "  <tbody>\n",
       "    <tr>\n",
       "      <th>64853</th>\n",
       "      <td>161118</td>\n",
       "      <td>37</td>\n",
       "    </tr>\n",
       "    <tr>\n",
       "      <th>186325</th>\n",
       "      <td>705948</td>\n",
       "      <td>37</td>\n",
       "    </tr>\n",
       "    <tr>\n",
       "      <th>260480</th>\n",
       "      <td>1155866</td>\n",
       "      <td>37</td>\n",
       "    </tr>\n",
       "    <tr>\n",
       "      <th>413670</th>\n",
       "      <td>2375533</td>\n",
       "      <td>37</td>\n",
       "    </tr>\n",
       "  </tbody>\n",
       "</table>\n",
       "</div>"
      ],
      "text/plain": [
       "        session_number  category_count\n",
       "64853           161118              37\n",
       "186325          705948              37\n",
       "260480         1155866              37\n",
       "413670         2375533              37"
      ]
     },
     "execution_count": 391,
     "metadata": {},
     "output_type": "execute_result"
    }
   ],
   "source": [
    "# посмотрим на крайний случай\n",
    "category_count_in_sessions[category_count_in_sessions.category_count == 37]"
   ]
  },
  {
   "cell_type": "code",
   "execution_count": null,
   "metadata": {},
   "outputs": [],
   "source": []
  }
 ],
 "metadata": {
  "kernelspec": {
   "display_name": "Python 3",
   "language": "python",
   "name": "python3"
  },
  "language_info": {
   "codemirror_mode": {
    "name": "ipython",
    "version": 3
   },
   "file_extension": ".py",
   "mimetype": "text/x-python",
   "name": "python",
   "nbconvert_exporter": "python",
   "pygments_lexer": "ipython3",
   "version": "3.8.5"
  }
 },
 "nbformat": 4,
 "nbformat_minor": 4
}
