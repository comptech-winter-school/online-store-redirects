{
 "cells": [
  {
   "cell_type": "code",
   "execution_count": 1,
   "id": "official-jacob",
   "metadata": {},
   "outputs": [],
   "source": [
    "import json\n",
    "import numpy as np\n",
    "import pandas as pd\n",
    "import matplotlib.pyplot as plt\n",
    "from collections import Counter\n",
    "%config Completer.use_jedi = False\n",
    "%matplotlib inline"
   ]
  },
  {
   "cell_type": "code",
   "execution_count": 2,
   "id": "exact-substitute",
   "metadata": {},
   "outputs": [],
   "source": [
    "# ! ls data/redir"
   ]
  },
  {
   "cell_type": "code",
   "execution_count": 3,
   "id": "following-buddy",
   "metadata": {},
   "outputs": [],
   "source": [
    "# products = pd.read_csv('./data/redir/products.csv', index_col=0)\n",
    "categories = pd.read_csv('./data/redir/categories.csv', index_col=0)\n",
    "# products_categories = pd.read_csv(\"./data/redir/products_categories.csv\", index_col=0)\n",
    "redirs = pd.read_csv(\"./data/redir/420_redirects.csv\", index_col=0)\n",
    "# with open(\"./data/redir/sessions_420.json\", \"r\") as f:\n",
    "#     sessions = json.loads(f.read())"
   ]
  },
  {
   "cell_type": "code",
   "execution_count": 4,
   "id": "silent-marshall",
   "metadata": {},
   "outputs": [
    {
     "data": {
      "text/plain": [
       "((2483, 5), (1412, 7))"
      ]
     },
     "execution_count": 4,
     "metadata": {},
     "output_type": "execute_result"
    }
   ],
   "source": [
    "categories.shape, redirs.shape"
   ]
  },
  {
   "cell_type": "code",
   "execution_count": 5,
   "id": "behavioral-pantyhose",
   "metadata": {},
   "outputs": [],
   "source": [
    "def category_with_id(idx):\n",
    "    return categories[categories['id'] == idx]"
   ]
  },
  {
   "cell_type": "code",
   "execution_count": 6,
   "id": "fuzzy-christianity",
   "metadata": {},
   "outputs": [
    {
     "data": {
      "text/html": [
       "<div>\n",
       "<style scoped>\n",
       "    .dataframe tbody tr th:only-of-type {\n",
       "        vertical-align: middle;\n",
       "    }\n",
       "\n",
       "    .dataframe tbody tr th {\n",
       "        vertical-align: top;\n",
       "    }\n",
       "\n",
       "    .dataframe thead th {\n",
       "        text-align: right;\n",
       "    }\n",
       "</style>\n",
       "<table border=\"1\" class=\"dataframe\">\n",
       "  <thead>\n",
       "    <tr style=\"text-align: right;\">\n",
       "      <th></th>\n",
       "      <th>id</th>\n",
       "      <th>parent_id</th>\n",
       "      <th>site_id</th>\n",
       "      <th>external_id</th>\n",
       "      <th>name</th>\n",
       "    </tr>\n",
       "  </thead>\n",
       "  <tbody>\n",
       "    <tr>\n",
       "      <th>0</th>\n",
       "      <td>3327511</td>\n",
       "      <td>3328184.0</td>\n",
       "      <td>420</td>\n",
       "      <td>1471</td>\n",
       "      <td>Cow</td>\n",
       "    </tr>\n",
       "    <tr>\n",
       "      <th>1</th>\n",
       "      <td>3327512</td>\n",
       "      <td>3328184.0</td>\n",
       "      <td>420</td>\n",
       "      <td>1470</td>\n",
       "      <td>Trolls</td>\n",
       "    </tr>\n",
       "  </tbody>\n",
       "</table>\n",
       "</div>"
      ],
      "text/plain": [
       "        id  parent_id  site_id  external_id    name\n",
       "0  3327511  3328184.0      420         1471     Cow\n",
       "1  3327512  3328184.0      420         1470  Trolls"
      ]
     },
     "execution_count": 6,
     "metadata": {},
     "output_type": "execute_result"
    }
   ],
   "source": [
    "categories.head(2)"
   ]
  },
  {
   "cell_type": "code",
   "execution_count": 7,
   "id": "disciplinary-listening",
   "metadata": {},
   "outputs": [],
   "source": [
    "# ! pip install anytree tqdm\n",
    "from anytree import Node, RenderTree"
   ]
  },
  {
   "cell_type": "code",
   "execution_count": 8,
   "id": "boolean-yugoslavia",
   "metadata": {},
   "outputs": [],
   "source": [
    "cat_dict = dict(categories[['id', 'name']].values.tolist())\n",
    "cat_dict[-1] = \"MAIN_OF_THE_MAIN\""
   ]
  },
  {
   "cell_type": "code",
   "execution_count": 9,
   "id": "uniform-waste",
   "metadata": {},
   "outputs": [
    {
     "data": {
      "text/plain": [
       "(2483, 2483)"
      ]
     },
     "execution_count": 9,
     "metadata": {},
     "output_type": "execute_result"
    }
   ],
   "source": [
    "len(categories.drop_duplicates()), len(categories[['id', 'parent_id']].drop_duplicates())"
   ]
  },
  {
   "cell_type": "code",
   "execution_count": 10,
   "id": "virgin-sullivan",
   "metadata": {},
   "outputs": [
    {
     "data": {
      "text/html": [
       "<div>\n",
       "<style scoped>\n",
       "    .dataframe tbody tr th:only-of-type {\n",
       "        vertical-align: middle;\n",
       "    }\n",
       "\n",
       "    .dataframe tbody tr th {\n",
       "        vertical-align: top;\n",
       "    }\n",
       "\n",
       "    .dataframe thead th {\n",
       "        text-align: right;\n",
       "    }\n",
       "</style>\n",
       "<table border=\"1\" class=\"dataframe\">\n",
       "  <thead>\n",
       "    <tr style=\"text-align: right;\">\n",
       "      <th></th>\n",
       "      <th>id</th>\n",
       "      <th>parent_id</th>\n",
       "      <th>name</th>\n",
       "      <th>parent_name</th>\n",
       "    </tr>\n",
       "  </thead>\n",
       "  <tbody>\n",
       "    <tr>\n",
       "      <th>0</th>\n",
       "      <td>3327511</td>\n",
       "      <td>3328184</td>\n",
       "      <td>Cow</td>\n",
       "      <td>бренды</td>\n",
       "    </tr>\n",
       "    <tr>\n",
       "      <th>1</th>\n",
       "      <td>3327512</td>\n",
       "      <td>3328184</td>\n",
       "      <td>Trolls</td>\n",
       "      <td>бренды</td>\n",
       "    </tr>\n",
       "    <tr>\n",
       "      <th>2</th>\n",
       "      <td>3327516</td>\n",
       "      <td>3328184</td>\n",
       "      <td>Фельдшер</td>\n",
       "      <td>бренды</td>\n",
       "    </tr>\n",
       "    <tr>\n",
       "      <th>3</th>\n",
       "      <td>3658304</td>\n",
       "      <td>3327503</td>\n",
       "      <td>Наборы одеколонов</td>\n",
       "      <td>Ароматы и коллекции</td>\n",
       "    </tr>\n",
       "    <tr>\n",
       "      <th>4</th>\n",
       "      <td>3658305</td>\n",
       "      <td>3328459</td>\n",
       "      <td>Искусство дарить подарки</td>\n",
       "      <td>Jo Malone London</td>\n",
       "    </tr>\n",
       "    <tr>\n",
       "      <th>...</th>\n",
       "      <td>...</td>\n",
       "      <td>...</td>\n",
       "      <td>...</td>\n",
       "      <td>...</td>\n",
       "    </tr>\n",
       "    <tr>\n",
       "      <th>2478</th>\n",
       "      <td>873482</td>\n",
       "      <td>873205</td>\n",
       "      <td>для глаз</td>\n",
       "      <td>кисти и спонжи</td>\n",
       "    </tr>\n",
       "    <tr>\n",
       "      <th>2479</th>\n",
       "      <td>873483</td>\n",
       "      <td>873205</td>\n",
       "      <td>для губ</td>\n",
       "      <td>кисти и спонжи</td>\n",
       "    </tr>\n",
       "    <tr>\n",
       "      <th>2480</th>\n",
       "      <td>873484</td>\n",
       "      <td>873205</td>\n",
       "      <td>средства для очистки кистей</td>\n",
       "      <td>кисти и спонжи</td>\n",
       "    </tr>\n",
       "    <tr>\n",
       "      <th>2481</th>\n",
       "      <td>873485</td>\n",
       "      <td>873205</td>\n",
       "      <td>наборы кистей</td>\n",
       "      <td>кисти и спонжи</td>\n",
       "    </tr>\n",
       "    <tr>\n",
       "      <th>2482</th>\n",
       "      <td>3069297</td>\n",
       "      <td>2976554</td>\n",
       "      <td>аптечная косметика</td>\n",
       "      <td>каталог</td>\n",
       "    </tr>\n",
       "  </tbody>\n",
       "</table>\n",
       "<p>2483 rows × 4 columns</p>\n",
       "</div>"
      ],
      "text/plain": [
       "           id  parent_id                         name          parent_name\n",
       "0     3327511    3328184                          Cow               бренды\n",
       "1     3327512    3328184                       Trolls               бренды\n",
       "2     3327516    3328184                    Фельдшер                бренды\n",
       "3     3658304    3327503            Наборы одеколонов  Ароматы и коллекции\n",
       "4     3658305    3328459     Искусство дарить подарки     Jo Malone London\n",
       "...       ...        ...                          ...                  ...\n",
       "2478   873482     873205                     для глаз       кисти и спонжи\n",
       "2479   873483     873205                      для губ       кисти и спонжи\n",
       "2480   873484     873205  средства для очистки кистей       кисти и спонжи\n",
       "2481   873485     873205                наборы кистей       кисти и спонжи\n",
       "2482  3069297    2976554           аптечная косметика              каталог\n",
       "\n",
       "[2483 rows x 4 columns]"
      ]
     },
     "execution_count": 10,
     "metadata": {},
     "output_type": "execute_result"
    }
   ],
   "source": [
    "tt = categories[['id', 'parent_id']].drop_duplicates()\n",
    "tt.fillna(-1, inplace=True)\n",
    "tt['parent_id'] = tt['parent_id'].apply(int)\n",
    "tt['name'] = tt['id'].map(cat_dict)\n",
    "tt['parent_name'] = tt['parent_id'].map(cat_dict)\n",
    "tt"
   ]
  },
  {
   "cell_type": "code",
   "execution_count": 11,
   "id": "occupational-motivation",
   "metadata": {},
   "outputs": [],
   "source": [
    "tree_dict = {}\n",
    "for x in tt.values:\n",
    "    if x[0] not in tree_dict:\n",
    "        tree_dict[x[0]] = Node((x[0], x[2]))\n",
    "    if x[1] not in tree_dict:\n",
    "        tree_dict[x[1]] = Node((x[1], x[3]))\n",
    "\n",
    "for x in tt.values:\n",
    "    tree_dict[x[0]].parent = tree_dict[x[1]]"
   ]
  },
  {
   "cell_type": "code",
   "execution_count": 12,
   "id": "legitimate-colorado",
   "metadata": {
    "scrolled": false
   },
   "outputs": [
    {
     "name": "stdout",
     "output_type": "stream",
     "text": [
      "(3328697, 'Giorgio Armani')\n",
      "├── (3329168, 'Классические ароматы ')\n",
      "│   ├── (3327639, 'Ароматы для женщин')\n",
      "│   └── (3327641, 'Ароматы для мужчин')\n",
      "├── (3329171, 'Уход')\n",
      "├── (3329173, ' Armani Privé')\n",
      "│   └── (3328698, 'Коллекция 1001 NUITS')\n",
      "├── (3328747, 'Новинки')\n",
      "├── (3328656, 'Бестселлеры ')\n",
      "└── (3329165, 'Макияж')\n",
      "    ├── (3327630, 'Губы')\n",
      "    ├── (3327644, 'Аксессуары')\n",
      "    ├── (3328709, 'Лицо')\n",
      "    └── (3327629, 'Глаза')\n",
      "(3327983, 'NYX Professional Makeup')\n",
      "├── (3420490, 'Подарочные наборы')\n",
      "├── (3328885, 'Sale')\n",
      "├── (3327500, 'Палетки')\n",
      "├── (3327501, 'Лицо')\n",
      "├── (3327502, 'Глаза')\n",
      "├── (3327504, 'Губы')\n",
      "├── (3329205, 'Новинки')\n",
      "├── (3329206, 'Аксессуары')\n",
      "└── (3329374, 'Бестселлеры')\n"
     ]
    }
   ],
   "source": [
    "for pre, fill, node in RenderTree(tree_dict[3328697]):\n",
    "    print(\"%s%s\" % (pre, node.name))\n",
    "for pre, fill, node in RenderTree(tree_dict[3327983]):\n",
    "    print(\"%s%s\" % (pre, node.name))"
   ]
  },
  {
   "cell_type": "code",
   "execution_count": 13,
   "id": "protected-traffic",
   "metadata": {
    "scrolled": true
   },
   "outputs": [],
   "source": [
    "# see it if needed\n",
    "# for pre, fill, node in RenderTree(tree_dict[-1]):\n",
    "#     print(\"%s%s\" % (pre, node.name))"
   ]
  },
  {
   "cell_type": "code",
   "execution_count": 14,
   "id": "corresponding-haven",
   "metadata": {},
   "outputs": [
    {
     "data": {
      "text/html": [
       "<div>\n",
       "<style scoped>\n",
       "    .dataframe tbody tr th:only-of-type {\n",
       "        vertical-align: middle;\n",
       "    }\n",
       "\n",
       "    .dataframe tbody tr th {\n",
       "        vertical-align: top;\n",
       "    }\n",
       "\n",
       "    .dataframe thead th {\n",
       "        text-align: right;\n",
       "    }\n",
       "</style>\n",
       "<table border=\"1\" class=\"dataframe\">\n",
       "  <thead>\n",
       "    <tr style=\"text-align: right;\">\n",
       "      <th></th>\n",
       "      <th>category_id</th>\n",
       "      <th>id</th>\n",
       "      <th>parent_id</th>\n",
       "      <th>name</th>\n",
       "    </tr>\n",
       "  </thead>\n",
       "  <tbody>\n",
       "    <tr>\n",
       "      <th>0</th>\n",
       "      <td>3327621</td>\n",
       "      <td>3327621</td>\n",
       "      <td>3327595</td>\n",
       "      <td>Хайлайтеры</td>\n",
       "    </tr>\n",
       "    <tr>\n",
       "      <th>1</th>\n",
       "      <td>3327621</td>\n",
       "      <td>3327621</td>\n",
       "      <td>3327595</td>\n",
       "      <td>Хайлайтеры</td>\n",
       "    </tr>\n",
       "  </tbody>\n",
       "</table>\n",
       "</div>"
      ],
      "text/plain": [
       "   category_id       id  parent_id        name\n",
       "0      3327621  3327621    3327595  Хайлайтеры\n",
       "1      3327621  3327621    3327595  Хайлайтеры"
      ]
     },
     "execution_count": 14,
     "metadata": {},
     "output_type": "execute_result"
    }
   ],
   "source": [
    "redir_cats = pd.merge(redirs[['category_id']], categories[['id', 'parent_id', 'name']], left_on='category_id', right_on='id')#.drop_duplicates()\n",
    "redir_cats['parent_id'] = redir_cats['parent_id'].apply(int)\n",
    "redir_cats.head(2)"
   ]
  },
  {
   "cell_type": "code",
   "execution_count": 15,
   "id": "british-vertex",
   "metadata": {},
   "outputs": [
    {
     "data": {
      "text/plain": [
       "{3, 4, 5, 6}"
      ]
     },
     "execution_count": 15,
     "metadata": {},
     "output_type": "execute_result"
    }
   ],
   "source": [
    "red_cats = set(redir_cats['category_id'].unique())\n",
    "red_nodes = {tree_dict[i] for i in red_cats}\n",
    "{x.depth for x in red_nodes}"
   ]
  },
  {
   "cell_type": "code",
   "execution_count": 16,
   "id": "vanilla-basket",
   "metadata": {},
   "outputs": [
    {
     "name": "stderr",
     "output_type": "stream",
     "text": [
      "100%|██████████| 47/47 [00:00<00:00, 63611.58it/s]\n",
      "100%|██████████| 776/776 [00:00<00:00, 965523.56it/s]\n"
     ]
    }
   ],
   "source": [
    "from tqdm import tqdm\n",
    "\n",
    "new_main = {x for x in red_nodes if x.depth == 3}\n",
    "small = {x for x in red_nodes if x.depth > 3}\n",
    "to_3_depth = {}\n",
    "t3d = set()\n",
    "\n",
    "for x in tqdm(small):\n",
    "    temp = x\n",
    "    while temp.depth > 3:\n",
    "        temp = temp.parent\n",
    "    t3d.add(temp)\n",
    "    to_3_depth[x.name[0]] = temp.name[0]\n",
    "    #.add(temp)\n",
    "for x in tqdm(new_main):\n",
    "    to_3_depth[x.name[0]] = x.name[0]"
   ]
  },
  {
   "cell_type": "code",
   "execution_count": 17,
   "id": "complicated-vacation",
   "metadata": {},
   "outputs": [
    {
     "data": {
      "text/plain": [
       "[(3327548, 41), (3328328, 5), (3327913, 2), (3329394, 2), (3327532, 1)]"
      ]
     },
     "execution_count": 17,
     "metadata": {},
     "output_type": "execute_result"
    }
   ],
   "source": [
    "list(sorted(Counter(to_3_depth.values()).items(), key=lambda x: -x[1]))[:5]"
   ]
  },
  {
   "cell_type": "code",
   "execution_count": 18,
   "id": "rocky-newsletter",
   "metadata": {
    "scrolled": true
   },
   "outputs": [
    {
     "data": {
      "text/html": [
       "<div>\n",
       "<style scoped>\n",
       "    .dataframe tbody tr th:only-of-type {\n",
       "        vertical-align: middle;\n",
       "    }\n",
       "\n",
       "    .dataframe tbody tr th {\n",
       "        vertical-align: top;\n",
       "    }\n",
       "\n",
       "    .dataframe thead th {\n",
       "        text-align: right;\n",
       "    }\n",
       "</style>\n",
       "<table border=\"1\" class=\"dataframe\">\n",
       "  <thead>\n",
       "    <tr style=\"text-align: right;\">\n",
       "      <th></th>\n",
       "      <th>redir_id</th>\n",
       "      <th>rule_id</th>\n",
       "      <th>start_date</th>\n",
       "      <th>query</th>\n",
       "      <th>category_id</th>\n",
       "      <th>parent_id</th>\n",
       "      <th>category</th>\n",
       "      <th>new_category_id</th>\n",
       "    </tr>\n",
       "  </thead>\n",
       "  <tbody>\n",
       "    <tr>\n",
       "      <th>0</th>\n",
       "      <td>10303</td>\n",
       "      <td>23358</td>\n",
       "      <td>2020-08-19</td>\n",
       "      <td>dior хайлайтер</td>\n",
       "      <td>3327621</td>\n",
       "      <td>3327595.0</td>\n",
       "      <td>Хайлайтеры</td>\n",
       "      <td>3327548</td>\n",
       "    </tr>\n",
       "    <tr>\n",
       "      <th>1</th>\n",
       "      <td>10304</td>\n",
       "      <td>23359</td>\n",
       "      <td>2020-08-19</td>\n",
       "      <td>dior хайлатер</td>\n",
       "      <td>3327621</td>\n",
       "      <td>3327595.0</td>\n",
       "      <td>Хайлайтеры</td>\n",
       "      <td>3327548</td>\n",
       "    </tr>\n",
       "    <tr>\n",
       "      <th>2</th>\n",
       "      <td>10319</td>\n",
       "      <td>23374</td>\n",
       "      <td>2020-08-19</td>\n",
       "      <td>diorskin mineral nude luminizer</td>\n",
       "      <td>3327621</td>\n",
       "      <td>3327595.0</td>\n",
       "      <td>Хайлайтеры</td>\n",
       "      <td>3327548</td>\n",
       "    </tr>\n",
       "    <tr>\n",
       "      <th>3</th>\n",
       "      <td>10476</td>\n",
       "      <td>23531</td>\n",
       "      <td>2020-08-19</td>\n",
       "      <td>хайдайтер dior</td>\n",
       "      <td>3327621</td>\n",
       "      <td>3327595.0</td>\n",
       "      <td>Хайлайтеры</td>\n",
       "      <td>3327548</td>\n",
       "    </tr>\n",
       "    <tr>\n",
       "      <th>4</th>\n",
       "      <td>10477</td>\n",
       "      <td>23532</td>\n",
       "      <td>2020-08-19</td>\n",
       "      <td>хайлайтер dior</td>\n",
       "      <td>3327621</td>\n",
       "      <td>3327595.0</td>\n",
       "      <td>Хайлайтеры</td>\n",
       "      <td>3327548</td>\n",
       "    </tr>\n",
       "  </tbody>\n",
       "</table>\n",
       "</div>"
      ],
      "text/plain": [
       "   redir_id  rule_id  start_date                            query  \\\n",
       "0     10303    23358  2020-08-19                   dior хайлайтер   \n",
       "1     10304    23359  2020-08-19                    dior хайлатер   \n",
       "2     10319    23374  2020-08-19  diorskin mineral nude luminizer   \n",
       "3     10476    23531  2020-08-19                   хайдайтер dior   \n",
       "4     10477    23532  2020-08-19                   хайлайтер dior   \n",
       "\n",
       "   category_id  parent_id    category  new_category_id  \n",
       "0      3327621  3327595.0  Хайлайтеры          3327548  \n",
       "1      3327621  3327595.0  Хайлайтеры          3327548  \n",
       "2      3327621  3327595.0  Хайлайтеры          3327548  \n",
       "3      3327621  3327595.0  Хайлайтеры          3327548  \n",
       "4      3327621  3327595.0  Хайлайтеры          3327548  "
      ]
     },
     "execution_count": 18,
     "metadata": {},
     "output_type": "execute_result"
    }
   ],
   "source": [
    "redirs['new_category_id'] = redirs['category_id'].map(to_3_depth)\n",
    "redirs.head()"
   ]
  },
  {
   "cell_type": "code",
   "execution_count": 19,
   "id": "patient-soundtrack",
   "metadata": {},
   "outputs": [],
   "source": [
    "redirs.to_csv(\"./data/redirects_with_new_category_id.csv\", index=False)"
   ]
  },
  {
   "cell_type": "code",
   "execution_count": 20,
   "id": "choice-science",
   "metadata": {},
   "outputs": [
    {
     "data": {
      "text/plain": [
       "[(3327548, 491),\n",
       " (3328328, 71),\n",
       " (3505256, 17),\n",
       " (3416256, 8),\n",
       " (3327781, 8),\n",
       " (3328015, 6),\n",
       " (3427054, 5),\n",
       " (3328868, 5),\n",
       " (3327572, 5),\n",
       " (3328745, 5),\n",
       " (3417938, 4),\n",
       " (3329342, 4),\n",
       " (3329394, 4),\n",
       " (3328425, 4),\n",
       " (3328459, 3),\n",
       " (3329238, 3),\n",
       " (3328775, 2),\n",
       " (3328057, 2),\n",
       " (3328183, 2),\n",
       " (873818, 2),\n",
       " (3328799, 2),\n",
       " (3328517, 2),\n",
       " (3327913, 2),\n",
       " (3329009, 2),\n",
       " (3327959, 1),\n",
       " (3329045, 1),\n",
       " (3329119, 1),\n",
       " (3329292, 1),\n",
       " (3328132, 1),\n",
       " (3327840, 1)]"
      ]
     },
     "execution_count": 20,
     "metadata": {},
     "output_type": "execute_result"
    }
   ],
   "source": [
    "t = list(sorted(Counter(redirs['new_category_id']).items(), key=lambda x: -x[1]))\n",
    "t[:30]"
   ]
  },
  {
   "cell_type": "code",
   "execution_count": 21,
   "id": "approved-homework",
   "metadata": {},
   "outputs": [
    {
     "data": {
      "text/plain": [
       "777"
      ]
     },
     "execution_count": 21,
     "metadata": {},
     "output_type": "execute_result"
    }
   ],
   "source": [
    "len(t)"
   ]
  },
  {
   "cell_type": "code",
   "execution_count": 22,
   "id": "olive-furniture",
   "metadata": {},
   "outputs": [
    {
     "data": {
      "text/plain": [
       "(621, 1412, 0.4398016997167139)"
      ]
     },
     "execution_count": 22,
     "metadata": {},
     "output_type": "execute_result"
    }
   ],
   "source": [
    "a = sum([x[1] for x in t if x[1] > 4])\n",
    "b = sum([x[1] for x in t])\n",
    "a, b, a / b"
   ]
  },
  {
   "cell_type": "code",
   "execution_count": 23,
   "id": "saving-training",
   "metadata": {},
   "outputs": [
    {
     "data": {
      "text/plain": [
       "1412"
      ]
     },
     "execution_count": 23,
     "metadata": {},
     "output_type": "execute_result"
    }
   ],
   "source": [
    "len(redirs)"
   ]
  },
  {
   "cell_type": "markdown",
   "id": "medieval-delicious",
   "metadata": {},
   "source": [
    "**Промежуточный вывод:** если брать \"макро-категории\", для которых есть больше 4 примеров, то останется ~ 43% данных.\n",
    "Вероятно имеет смысл оставшиеся малые классы определить в \"other\" или найти способ для аугментации малых классов"
   ]
  },
  {
   "cell_type": "code",
   "execution_count": 24,
   "id": "surrounded-income",
   "metadata": {
    "scrolled": true
   },
   "outputs": [
    {
     "data": {
      "text/html": [
       "<div>\n",
       "<style scoped>\n",
       "    .dataframe tbody tr th:only-of-type {\n",
       "        vertical-align: middle;\n",
       "    }\n",
       "\n",
       "    .dataframe tbody tr th {\n",
       "        vertical-align: top;\n",
       "    }\n",
       "\n",
       "    .dataframe thead th {\n",
       "        text-align: right;\n",
       "    }\n",
       "</style>\n",
       "<table border=\"1\" class=\"dataframe\">\n",
       "  <thead>\n",
       "    <tr style=\"text-align: right;\">\n",
       "      <th></th>\n",
       "      <th>id</th>\n",
       "      <th>parent_id</th>\n",
       "      <th>site_id</th>\n",
       "      <th>external_id</th>\n",
       "      <th>name</th>\n",
       "    </tr>\n",
       "  </thead>\n",
       "  <tbody>\n",
       "    <tr>\n",
       "      <th>363</th>\n",
       "      <td>3327548</td>\n",
       "      <td>3328184.0</td>\n",
       "      <td>420</td>\n",
       "      <td>3657</td>\n",
       "      <td>Dior</td>\n",
       "    </tr>\n",
       "  </tbody>\n",
       "</table>\n",
       "</div>"
      ],
      "text/plain": [
       "          id  parent_id  site_id  external_id  name\n",
       "363  3327548  3328184.0      420         3657  Dior"
      ]
     },
     "execution_count": 24,
     "metadata": {},
     "output_type": "execute_result"
    }
   ],
   "source": [
    "category_with_id(3327548)"
   ]
  },
  {
   "cell_type": "code",
   "execution_count": 25,
   "id": "unsigned-modeling",
   "metadata": {},
   "outputs": [
    {
     "data": {
      "text/html": [
       "<div>\n",
       "<style scoped>\n",
       "    .dataframe tbody tr th:only-of-type {\n",
       "        vertical-align: middle;\n",
       "    }\n",
       "\n",
       "    .dataframe tbody tr th {\n",
       "        vertical-align: top;\n",
       "    }\n",
       "\n",
       "    .dataframe thead th {\n",
       "        text-align: right;\n",
       "    }\n",
       "</style>\n",
       "<table border=\"1\" class=\"dataframe\">\n",
       "  <thead>\n",
       "    <tr style=\"text-align: right;\">\n",
       "      <th></th>\n",
       "      <th>id</th>\n",
       "      <th>parent_id</th>\n",
       "      <th>site_id</th>\n",
       "      <th>external_id</th>\n",
       "      <th>name</th>\n",
       "    </tr>\n",
       "  </thead>\n",
       "  <tbody>\n",
       "    <tr>\n",
       "      <th>1609</th>\n",
       "      <td>3328328</td>\n",
       "      <td>3328184.0</td>\n",
       "      <td>420</td>\n",
       "      <td>4297</td>\n",
       "      <td>Dior Backstage</td>\n",
       "    </tr>\n",
       "  </tbody>\n",
       "</table>\n",
       "</div>"
      ],
      "text/plain": [
       "           id  parent_id  site_id  external_id            name\n",
       "1609  3328328  3328184.0      420         4297  Dior Backstage"
      ]
     },
     "execution_count": 25,
     "metadata": {},
     "output_type": "execute_result"
    }
   ],
   "source": [
    "category_with_id(3328328)"
   ]
  },
  {
   "cell_type": "code",
   "execution_count": 26,
   "id": "medieval-shark",
   "metadata": {},
   "outputs": [
    {
     "data": {
      "text/html": [
       "<div>\n",
       "<style scoped>\n",
       "    .dataframe tbody tr th:only-of-type {\n",
       "        vertical-align: middle;\n",
       "    }\n",
       "\n",
       "    .dataframe tbody tr th {\n",
       "        vertical-align: top;\n",
       "    }\n",
       "\n",
       "    .dataframe thead th {\n",
       "        text-align: right;\n",
       "    }\n",
       "</style>\n",
       "<table border=\"1\" class=\"dataframe\">\n",
       "  <thead>\n",
       "    <tr style=\"text-align: right;\">\n",
       "      <th></th>\n",
       "      <th>id</th>\n",
       "      <th>parent_id</th>\n",
       "      <th>site_id</th>\n",
       "      <th>external_id</th>\n",
       "      <th>name</th>\n",
       "    </tr>\n",
       "  </thead>\n",
       "  <tbody>\n",
       "    <tr>\n",
       "      <th>1069</th>\n",
       "      <td>3505256</td>\n",
       "      <td>3328184.0</td>\n",
       "      <td>420</td>\n",
       "      <td>5726</td>\n",
       "      <td>Moroccanoil</td>\n",
       "    </tr>\n",
       "  </tbody>\n",
       "</table>\n",
       "</div>"
      ],
      "text/plain": [
       "           id  parent_id  site_id  external_id         name\n",
       "1069  3505256  3328184.0      420         5726  Moroccanoil"
      ]
     },
     "execution_count": 26,
     "metadata": {},
     "output_type": "execute_result"
    }
   ],
   "source": [
    "category_with_id(3505256)"
   ]
  },
  {
   "cell_type": "code",
   "execution_count": 27,
   "id": "cognitive-montgomery",
   "metadata": {},
   "outputs": [
    {
     "data": {
      "text/html": [
       "<div>\n",
       "<style scoped>\n",
       "    .dataframe tbody tr th:only-of-type {\n",
       "        vertical-align: middle;\n",
       "    }\n",
       "\n",
       "    .dataframe tbody tr th {\n",
       "        vertical-align: top;\n",
       "    }\n",
       "\n",
       "    .dataframe thead th {\n",
       "        text-align: right;\n",
       "    }\n",
       "</style>\n",
       "<table border=\"1\" class=\"dataframe\">\n",
       "  <thead>\n",
       "    <tr style=\"text-align: right;\">\n",
       "      <th></th>\n",
       "      <th>id</th>\n",
       "      <th>parent_id</th>\n",
       "      <th>site_id</th>\n",
       "      <th>external_id</th>\n",
       "      <th>name</th>\n",
       "    </tr>\n",
       "  </thead>\n",
       "  <tbody>\n",
       "    <tr>\n",
       "      <th>473</th>\n",
       "      <td>3329236</td>\n",
       "      <td>3328184.0</td>\n",
       "      <td>420</td>\n",
       "      <td>5320</td>\n",
       "      <td>Dr. Vranjes Firenze</td>\n",
       "    </tr>\n",
       "  </tbody>\n",
       "</table>\n",
       "</div>"
      ],
      "text/plain": [
       "          id  parent_id  site_id  external_id                 name\n",
       "473  3329236  3328184.0      420         5320  Dr. Vranjes Firenze"
      ]
     },
     "execution_count": 27,
     "metadata": {},
     "output_type": "execute_result"
    }
   ],
   "source": [
    "category_with_id(3329236)"
   ]
  },
  {
   "cell_type": "code",
   "execution_count": null,
   "id": "pleased-secretary",
   "metadata": {},
   "outputs": [],
   "source": []
  }
 ],
 "metadata": {
  "kernelspec": {
   "display_name": "comptech",
   "language": "python",
   "name": "comptech"
  },
  "language_info": {
   "codemirror_mode": {
    "name": "ipython",
    "version": 3
   },
   "file_extension": ".py",
   "mimetype": "text/x-python",
   "name": "python",
   "nbconvert_exporter": "python",
   "pygments_lexer": "ipython3",
   "version": "3.8.7"
  },
  "toc": {
   "nav_menu": {},
   "number_sections": true,
   "sideBar": true,
   "skip_h1_title": false,
   "title_cell": "Table of Contents",
   "title_sidebar": "Contents",
   "toc_cell": false,
   "toc_position": {},
   "toc_section_display": true,
   "toc_window_display": false
  }
 },
 "nbformat": 4,
 "nbformat_minor": 5
}
