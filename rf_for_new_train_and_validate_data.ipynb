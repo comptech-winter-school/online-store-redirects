{
 "cells": [
  {
   "cell_type": "markdown",
   "metadata": {},
   "source": [
    "### 5 февраля, случайный лес, обучение и валидация на новых файлах"
   ]
  },
  {
   "cell_type": "markdown",
   "metadata": {},
   "source": [
    "## Обучение"
   ]
  },
  {
   "cell_type": "code",
   "execution_count": 12,
   "metadata": {},
   "outputs": [],
   "source": [
    "import pandas as pd\n",
    "from utils.feature_generation import get_data_with_feature"
   ]
  },
  {
   "cell_type": "code",
   "execution_count": 13,
   "metadata": {},
   "outputs": [],
   "source": [
    "path_to_data = \"./data/redir\""
   ]
  },
  {
   "cell_type": "code",
   "execution_count": 14,
   "metadata": {},
   "outputs": [],
   "source": [
    "train_data = pd.read_csv(path_to_data + '/better_train_new.csv')"
   ]
  },
  {
   "cell_type": "code",
   "execution_count": 15,
   "metadata": {},
   "outputs": [],
   "source": [
    "train_data = train_data.drop(columns=[\"Unnamed: 4\", \"lev\"])\n",
    "train_data = train_data.query(\"is_redirect in ['0', '1']\")\n",
    "# костыль с именем категории\n",
    "train_data['category_id'] = 0\n",
    "train_data['is_redirect'] = train_data['is_redirect'].map({'1': 1, '0': 0})"
   ]
  },
  {
   "cell_type": "code",
   "execution_count": 16,
   "metadata": {},
   "outputs": [
    {
     "data": {
      "text/html": [
       "<div>\n",
       "<style scoped>\n",
       "    .dataframe tbody tr th:only-of-type {\n",
       "        vertical-align: middle;\n",
       "    }\n",
       "\n",
       "    .dataframe tbody tr th {\n",
       "        vertical-align: top;\n",
       "    }\n",
       "\n",
       "    .dataframe thead th {\n",
       "        text-align: right;\n",
       "    }\n",
       "</style>\n",
       "<table border=\"1\" class=\"dataframe\">\n",
       "  <thead>\n",
       "    <tr style=\"text-align: right;\">\n",
       "      <th></th>\n",
       "      <th>query</th>\n",
       "      <th>category_name</th>\n",
       "      <th>is_redirect</th>\n",
       "      <th>category_id</th>\n",
       "    </tr>\n",
       "  </thead>\n",
       "  <tbody>\n",
       "    <tr>\n",
       "      <th>0</th>\n",
       "      <td>консилер clarins instant</td>\n",
       "      <td>MJ Care</td>\n",
       "      <td>0</td>\n",
       "      <td>0</td>\n",
       "    </tr>\n",
       "    <tr>\n",
       "      <th>1</th>\n",
       "      <td>палетка теней dior</td>\n",
       "      <td>Тени для век</td>\n",
       "      <td>1</td>\n",
       "      <td>0</td>\n",
       "    </tr>\n",
       "    <tr>\n",
       "      <th>2</th>\n",
       "      <td>Armand Basi</td>\n",
       "      <td>Armand Basi</td>\n",
       "      <td>1</td>\n",
       "      <td>0</td>\n",
       "    </tr>\n",
       "  </tbody>\n",
       "</table>\n",
       "</div>"
      ],
      "text/plain": [
       "                      query category_name  is_redirect  category_id\n",
       "0  консилер clarins instant       MJ Care            0            0\n",
       "1        палетка теней dior  Тени для век            1            0\n",
       "2               Armand Basi   Armand Basi            1            0"
      ]
     },
     "execution_count": 16,
     "metadata": {},
     "output_type": "execute_result"
    }
   ],
   "source": [
    "train_data.head(3)"
   ]
  },
  {
   "cell_type": "code",
   "execution_count": 17,
   "metadata": {},
   "outputs": [
    {
     "ename": "TypeError",
     "evalue": "get_relative_depth() missing 1 required positional argument: 'tree'",
     "output_type": "error",
     "traceback": [
      "\u001b[0;31m---------------------------------------------------------------------------\u001b[0m",
      "\u001b[0;31mTypeError\u001b[0m                                 Traceback (most recent call last)",
      "\u001b[0;32m<ipython-input-17-1d9a8ef1fe3a>\u001b[0m in \u001b[0;36m<module>\u001b[0;34m\u001b[0m\n\u001b[0;32m----> 1\u001b[0;31m \u001b[0mtrain_data\u001b[0m \u001b[0;34m=\u001b[0m \u001b[0mget_data_with_feature\u001b[0m\u001b[0;34m(\u001b[0m\u001b[0mtrain_data\u001b[0m\u001b[0;34m,\u001b[0m \u001b[0mpath_to_data\u001b[0m\u001b[0;34m)\u001b[0m\u001b[0;34m\u001b[0m\u001b[0;34m\u001b[0m\u001b[0m\n\u001b[0m",
      "\u001b[0;32m~/projects/comp_tech_repo/utils/feature_generation.py\u001b[0m in \u001b[0;36mget_data_with_feature\u001b[0;34m(data, path_to_data)\u001b[0m\n\u001b[1;32m    179\u001b[0m                                                                  vectorizer)\n\u001b[1;32m    180\u001b[0m \u001b[0;34m\u001b[0m\u001b[0m\n\u001b[0;32m--> 181\u001b[0;31m     \u001b[0;31m# data['number_of_children_category'] = get_relative_depth(data['category_id'])\u001b[0m\u001b[0;34m\u001b[0m\u001b[0;34m\u001b[0m\u001b[0;34m\u001b[0m\u001b[0m\n\u001b[0m\u001b[1;32m    182\u001b[0m     \u001b[0;31m# data['number_of_descendants_category'] = count_descendants(data['category_id'])\u001b[0m\u001b[0;34m\u001b[0m\u001b[0;34m\u001b[0m\u001b[0;34m\u001b[0m\u001b[0m\n\u001b[1;32m    183\u001b[0m     \u001b[0;31m# data['category_depth'] = get_relative_depth(data['category_id'])\u001b[0m\u001b[0;34m\u001b[0m\u001b[0;34m\u001b[0m\u001b[0;34m\u001b[0m\u001b[0m\n",
      "\u001b[0;31mTypeError\u001b[0m: get_relative_depth() missing 1 required positional argument: 'tree'"
     ]
    }
   ],
   "source": [
    "train_data = get_data_with_feature(train_data, path_to_data)"
   ]
  },
  {
   "cell_type": "code",
   "execution_count": null,
   "metadata": {},
   "outputs": [],
   "source": [
    "train_data.head(3)"
   ]
  },
  {
   "cell_type": "code",
   "execution_count": null,
   "metadata": {},
   "outputs": [],
   "source": [
    "train_data.columns"
   ]
  },
  {
   "cell_type": "code",
   "execution_count": 8,
   "metadata": {},
   "outputs": [],
   "source": [
    "X = train_data.drop(columns='is_redirect')\n",
    "y = train_data['is_redirect']\n",
    "\n",
    "from sklearn.model_selection import train_test_split\n",
    "X_train, X_test, y_train, y_test = train_test_split(\n",
    "    X,\n",
    "    y,\n",
    "    stratify=y,\n",
    "    random_state=0,\n",
    "    shuffle=True,\n",
    "    test_size=0.2\n",
    ")"
   ]
  },
  {
   "cell_type": "code",
   "execution_count": 9,
   "metadata": {},
   "outputs": [],
   "source": [
    "from sklearn.ensemble import RandomForestClassifier\n",
    "from sklearn.pipeline import Pipeline\n",
    "\n",
    "\n",
    "def make_features_pipeline(n_jobs):\n",
    "    pipeline = Pipeline([\n",
    "        ('clf', RandomForestClassifier(n_jobs=n_jobs, random_state=1))\n",
    "    ])\n",
    "    return pipeline"
   ]
  },
  {
   "cell_type": "code",
   "execution_count": 10,
   "metadata": {},
   "outputs": [
    {
     "name": "stderr",
     "output_type": "stream",
     "text": [
      "[Parallel(n_jobs=4)]: Using backend LokyBackend with 4 concurrent workers.\n",
      "[Parallel(n_jobs=4)]: Done  42 tasks      | elapsed:    6.3s\n",
      "[Parallel(n_jobs=4)]: Done  50 out of  50 | elapsed:    7.1s finished\n"
     ]
    }
   ],
   "source": [
    "from pipeline.training import SCORING, STRONG_CV\n",
    "from pipeline.training import fit_pipeline, cross_validate_pipeline\n",
    "\n",
    "\n",
    "N_JOBS = 1\n",
    "N_JOBS_CV = 4\n",
    "\n",
    "pipeline = make_features_pipeline(N_JOBS)\n",
    "\n",
    "result = cross_validate_pipeline(\n",
    "    pipeline,\n",
    "    X_train,\n",
    "    y_train,\n",
    "    cv=STRONG_CV,\n",
    "    scoring=SCORING,\n",
    "    n_jobs=N_JOBS_CV,\n",
    "    verbose=1,\n",
    ")"
   ]
  },
  {
   "cell_type": "code",
   "execution_count": 11,
   "metadata": {},
   "outputs": [
    {
     "data": {
      "text/plain": [
       "Pipeline(steps=[('clf', RandomForestClassifier(n_jobs=1, random_state=1))])"
      ]
     },
     "execution_count": 11,
     "metadata": {},
     "output_type": "execute_result"
    }
   ],
   "source": [
    "pipeline.fit(X_train, y_train)"
   ]
  },
  {
   "cell_type": "code",
   "execution_count": 21,
   "metadata": {
    "scrolled": true
   },
   "outputs": [
    {
     "name": "stdout",
     "output_type": "stream",
     "text": [
      "RF from pipeline:\n",
      "\n",
      "Metrics for train:\n",
      "roc_auc_score 0.9917\n",
      "f1_score 0.9902\n",
      "accuracy_score 0.9919\n",
      "\n",
      "Metrics for test:\n",
      "roc_auc_score 0.9054\n",
      "f1_score 0.8901\n",
      "accuracy_score 0.9104\n"
     ]
    }
   ],
   "source": [
    "from sklearn.metrics import roc_auc_score, f1_score, accuracy_score, confusion_matrix\n",
    "\n",
    "\n",
    "print(\"RF from pipeline:\")\n",
    "\n",
    "print(\"\\nMetrics for train:\")\n",
    "for metric in [roc_auc_score, f1_score, accuracy_score]:\n",
    "    print(metric.__name__, round(metric(y_train, pipeline.predict(X_train)), 4))\n",
    "\n",
    "print(\"\\nMetrics for test:\")\n",
    "for metric in [roc_auc_score, f1_score, accuracy_score]:\n",
    "    print(metric.__name__, round(metric(y_test, pipeline.predict(X_test)), 4))"
   ]
  },
  {
   "cell_type": "code",
   "execution_count": 26,
   "metadata": {},
   "outputs": [
    {
     "name": "stdout",
     "output_type": "stream",
     "text": [
      "Confusion matrix for train:\n",
      "[[1582   11]\n",
      " [  11 1117]]\n"
     ]
    }
   ],
   "source": [
    "print('Confusion matrix for train:')\n",
    "print(confusion_matrix(y_train, pipeline.predict(X_train)))"
   ]
  },
  {
   "cell_type": "code",
   "execution_count": 27,
   "metadata": {},
   "outputs": [
    {
     "name": "stdout",
     "output_type": "stream",
     "text": [
      "Confusion matrix for test:\n",
      "[[373  26]\n",
      " [ 35 247]]\n"
     ]
    }
   ],
   "source": [
    "print('Confusion matrix for test:')\n",
    "print(confusion_matrix(y_test, pipeline.predict(X_test)))"
   ]
  },
  {
   "cell_type": "markdown",
   "metadata": {},
   "source": [
    "## Валидация"
   ]
  },
  {
   "cell_type": "code",
   "execution_count": 13,
   "metadata": {},
   "outputs": [],
   "source": [
    "validate_data = pd.read_csv(path_to_data + '/better_validation.csv')"
   ]
  },
  {
   "cell_type": "code",
   "execution_count": 14,
   "metadata": {},
   "outputs": [
    {
     "data": {
      "text/html": [
       "<div>\n",
       "<style scoped>\n",
       "    .dataframe tbody tr th:only-of-type {\n",
       "        vertical-align: middle;\n",
       "    }\n",
       "\n",
       "    .dataframe tbody tr th {\n",
       "        vertical-align: top;\n",
       "    }\n",
       "\n",
       "    .dataframe thead th {\n",
       "        text-align: right;\n",
       "    }\n",
       "</style>\n",
       "<table border=\"1\" class=\"dataframe\">\n",
       "  <thead>\n",
       "    <tr style=\"text-align: right;\">\n",
       "      <th></th>\n",
       "      <th>query</th>\n",
       "      <th>category_name</th>\n",
       "      <th>category_id</th>\n",
       "      <th>is_redirect</th>\n",
       "    </tr>\n",
       "  </thead>\n",
       "  <tbody>\n",
       "    <tr>\n",
       "      <th>0</th>\n",
       "      <td>колготки</td>\n",
       "      <td>колготки и носки</td>\n",
       "      <td>3245756</td>\n",
       "      <td>1</td>\n",
       "    </tr>\n",
       "    <tr>\n",
       "      <th>1</th>\n",
       "      <td>бады</td>\n",
       "      <td>БАДы</td>\n",
       "      <td>3390215</td>\n",
       "      <td>1</td>\n",
       "    </tr>\n",
       "    <tr>\n",
       "      <th>2</th>\n",
       "      <td>бад</td>\n",
       "      <td>БАДы</td>\n",
       "      <td>3390215</td>\n",
       "      <td>1</td>\n",
       "    </tr>\n",
       "    <tr>\n",
       "      <th>3</th>\n",
       "      <td>для машины</td>\n",
       "      <td>для посудомоечной машины</td>\n",
       "      <td>3245766</td>\n",
       "      <td>1</td>\n",
       "    </tr>\n",
       "    <tr>\n",
       "      <th>4</th>\n",
       "      <td>нишевая</td>\n",
       "      <td>нишевая парфюмерия</td>\n",
       "      <td>3115485</td>\n",
       "      <td>1</td>\n",
       "    </tr>\n",
       "    <tr>\n",
       "      <th>...</th>\n",
       "      <td>...</td>\n",
       "      <td>...</td>\n",
       "      <td>...</td>\n",
       "      <td>...</td>\n",
       "    </tr>\n",
       "    <tr>\n",
       "      <th>231</th>\n",
       "      <td>колготки 20 den</td>\n",
       "      <td>колготки и носки</td>\n",
       "      <td>3245756</td>\n",
       "      <td>0</td>\n",
       "    </tr>\n",
       "    <tr>\n",
       "      <th>232</th>\n",
       "      <td>маска для лица mixit</td>\n",
       "      <td>маски</td>\n",
       "      <td>873249</td>\n",
       "      <td>0</td>\n",
       "    </tr>\n",
       "    <tr>\n",
       "      <th>233</th>\n",
       "      <td>маска для лица aha</td>\n",
       "      <td>маски</td>\n",
       "      <td>873249</td>\n",
       "      <td>0</td>\n",
       "    </tr>\n",
       "    <tr>\n",
       "      <th>234</th>\n",
       "      <td>тушь для ресниц кабаре</td>\n",
       "      <td>тушь для ресниц</td>\n",
       "      <td>873823</td>\n",
       "      <td>0</td>\n",
       "    </tr>\n",
       "    <tr>\n",
       "      <th>235</th>\n",
       "      <td>essence для бровей</td>\n",
       "      <td>тени для бровей</td>\n",
       "      <td>873843</td>\n",
       "      <td>0</td>\n",
       "    </tr>\n",
       "  </tbody>\n",
       "</table>\n",
       "<p>236 rows × 4 columns</p>\n",
       "</div>"
      ],
      "text/plain": [
       "                      query             category_name  category_id  \\\n",
       "0                  колготки          колготки и носки      3245756   \n",
       "1                      бады                      БАДы      3390215   \n",
       "2                       бад                      БАДы      3390215   \n",
       "3                для машины  для посудомоечной машины      3245766   \n",
       "4                   нишевая        нишевая парфюмерия      3115485   \n",
       "..                      ...                       ...          ...   \n",
       "231         колготки 20 den          колготки и носки      3245756   \n",
       "232    маска для лица mixit                     маски       873249   \n",
       "233      маска для лица aha                     маски       873249   \n",
       "234  тушь для ресниц кабаре           тушь для ресниц       873823   \n",
       "235      essence для бровей           тени для бровей       873843   \n",
       "\n",
       "     is_redirect  \n",
       "0              1  \n",
       "1              1  \n",
       "2              1  \n",
       "3              1  \n",
       "4              1  \n",
       "..           ...  \n",
       "231            0  \n",
       "232            0  \n",
       "233            0  \n",
       "234            0  \n",
       "235            0  \n",
       "\n",
       "[236 rows x 4 columns]"
      ]
     },
     "execution_count": 14,
     "metadata": {},
     "output_type": "execute_result"
    }
   ],
   "source": [
    "validate_data"
   ]
  },
  {
   "cell_type": "code",
   "execution_count": 15,
   "metadata": {},
   "outputs": [],
   "source": [
    "def preprocess_validate_data(data):\n",
    "    data = data.query(\"is_redirect in ['0', '1']\")\n",
    "    data = data[~data['category_id'].isna()]\n",
    "    data['category_id'] = data['category_id'].apply(int)\n",
    "    data['query'] = data['query'].apply(str)\n",
    "    data['category_name'] = data['category_name'].apply(str)\n",
    "\n",
    "    return data"
   ]
  },
  {
   "cell_type": "code",
   "execution_count": 16,
   "metadata": {},
   "outputs": [],
   "source": [
    "validate_data = preprocess_validate_data(validate_data)"
   ]
  },
  {
   "cell_type": "code",
   "execution_count": 17,
   "metadata": {},
   "outputs": [],
   "source": [
    "validate_data = get_data_with_feature(validate_data, path_to_data)"
   ]
  },
  {
   "cell_type": "code",
   "execution_count": 18,
   "metadata": {},
   "outputs": [],
   "source": [
    "X_validate = validate_data.drop(columns=['is_redirect'])\n",
    "y_validate = validate_data['is_redirect']"
   ]
  },
  {
   "cell_type": "code",
   "execution_count": 19,
   "metadata": {},
   "outputs": [
    {
     "name": "stdout",
     "output_type": "stream",
     "text": [
      "\n",
      "Metrics for validate:\n",
      "roc_auc_score 0.4449\n",
      "f1_score 0.1471\n",
      "accuracy_score 0.5085\n"
     ]
    }
   ],
   "source": [
    "print(\"\\nMetrics for validate:\")\n",
    "for metric in [roc_auc_score, f1_score, accuracy_score]:\n",
    "    print(metric.__name__, round(metric(y_validate, pipeline.predict(X_validate)), 4))"
   ]
  },
  {
   "cell_type": "code",
   "execution_count": 28,
   "metadata": {},
   "outputs": [
    {
     "name": "stdout",
     "output_type": "stream",
     "text": [
      "Confusion matrix for validate:\n",
      "[[110  30]\n",
      " [ 86  10]]\n"
     ]
    }
   ],
   "source": [
    "print('Confusion matrix for validate:')\n",
    "print(confusion_matrix(y_validate, pipeline.predict(X_validate)))"
   ]
  }
 ],
 "metadata": {
  "kernelspec": {
   "display_name": "Python 3",
   "language": "python",
   "name": "python3"
  },
  "language_info": {
   "codemirror_mode": {
    "name": "ipython",
    "version": 3
   },
   "file_extension": ".py",
   "mimetype": "text/x-python",
   "name": "python",
   "nbconvert_exporter": "python",
   "pygments_lexer": "ipython3",
   "version": "3.7.6"
  }
 },
 "nbformat": 4,
 "nbformat_minor": 4
}
