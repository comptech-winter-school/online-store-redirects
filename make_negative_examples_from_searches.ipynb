{
 "cells": [
  {
   "cell_type": "code",
   "execution_count": 1,
   "metadata": {},
   "outputs": [],
   "source": [
    "import pandas as pd\n",
    "import pickle\n",
    "from anytree import Node, RenderTree\n",
    "import json\n",
    "from pprint import pprint"
   ]
  },
  {
   "cell_type": "code",
   "execution_count": 2,
   "metadata": {},
   "outputs": [],
   "source": [
    "with open(\"category_tree.pkl\", 'rb') as f:\n",
    "    data = pickle.load(f)"
   ]
  },
  {
   "cell_type": "code",
   "execution_count": 3,
   "metadata": {},
   "outputs": [],
   "source": [
    "#for pre, fill, node in RenderTree(data[-1]):\n",
    "#     print(\"%s%s\" % (pre, node.name))"
   ]
  },
  {
   "cell_type": "code",
   "execution_count": 4,
   "metadata": {},
   "outputs": [],
   "source": [
    "products = pd.read_csv(\"products.csv\", index_col=0)\n",
    "products_categories = pd.read_csv(\"products_categories.csv\", index_col=0)"
   ]
  },
  {
   "cell_type": "markdown",
   "metadata": {},
   "source": [
    "### Создаем из 420_searches.json таблицу searches\n",
    "\n",
    "\n",
    "- **query** запрос<br>\n",
    "- **external_id** id первого продукта, на кoторый кликнул покупатель"
   ]
  },
  {
   "cell_type": "code",
   "execution_count": 5,
   "metadata": {},
   "outputs": [
    {
     "name": "stdout",
     "output_type": "stream",
     "text": [
      "[{'amount': 1,\n",
      "  'products': {'89072600012': '1',\n",
      "               '89072600013': '1',\n",
      "               '89072600014': '1',\n",
      "               '89072600015': '1',\n",
      "               '89072600018': '1',\n",
      "               '89072600019': '1',\n",
      "               '89072600020': '1',\n",
      "               '89072600021': '1',\n",
      "               '89072600022': '1',\n",
      "               '89072600023': '1',\n",
      "               '89072600024': '1'},\n",
      "  'query': '0 70'}]\n"
     ]
    }
   ],
   "source": [
    "with open(\"420_searches.json\") as ff:\n",
    "    data = json.load(ff)\n",
    "    pprint(data[:1])"
   ]
  },
  {
   "cell_type": "code",
   "execution_count": 6,
   "metadata": {},
   "outputs": [],
   "source": [
    "query = []\n",
    "product_external_id = []\n",
    "for i in range(len(data[:1500])):\n",
    "    query.append(list(data[i]['products'].keys())[0])\n",
    "    product_external_id.append(data[i]['query'])\n",
    "    i+=1\n",
    "    #print(data[i]['query'], list(data[i]['products'].keys())[0])"
   ]
  },
  {
   "cell_type": "code",
   "execution_count": 7,
   "metadata": {},
   "outputs": [
    {
     "data": {
      "text/html": [
       "<div>\n",
       "<style scoped>\n",
       "    .dataframe tbody tr th:only-of-type {\n",
       "        vertical-align: middle;\n",
       "    }\n",
       "\n",
       "    .dataframe tbody tr th {\n",
       "        vertical-align: top;\n",
       "    }\n",
       "\n",
       "    .dataframe thead th {\n",
       "        text-align: right;\n",
       "    }\n",
       "</style>\n",
       "<table border=\"1\" class=\"dataframe\">\n",
       "  <thead>\n",
       "    <tr style=\"text-align: right;\">\n",
       "      <th></th>\n",
       "      <th>query</th>\n",
       "      <th>external_id</th>\n",
       "    </tr>\n",
       "  </thead>\n",
       "  <tbody>\n",
       "    <tr>\n",
       "      <th>0</th>\n",
       "      <td>0 70</td>\n",
       "      <td>89072600018</td>\n",
       "    </tr>\n",
       "    <tr>\n",
       "      <th>1</th>\n",
       "      <td>2 molecules</td>\n",
       "      <td>26500100001</td>\n",
       "    </tr>\n",
       "    <tr>\n",
       "      <th>2</th>\n",
       "      <td>acqua di gio profumo</td>\n",
       "      <td>84141400001</td>\n",
       "    </tr>\n",
       "    <tr>\n",
       "      <th>3</th>\n",
       "      <td>acqua di parma blu mediterraneo bergamotto di ...</td>\n",
       "      <td>26422400004</td>\n",
       "    </tr>\n",
       "    <tr>\n",
       "      <th>4</th>\n",
       "      <td>acqua di parma capri</td>\n",
       "      <td>26421100011</td>\n",
       "    </tr>\n",
       "    <tr>\n",
       "      <th>5</th>\n",
       "      <td>anne semonin express radiance ice cube</td>\n",
       "      <td>88860200004</td>\n",
       "    </tr>\n",
       "    <tr>\n",
       "      <th>6</th>\n",
       "      <td>antipodes</td>\n",
       "      <td>30150400008</td>\n",
       "    </tr>\n",
       "    <tr>\n",
       "      <th>7</th>\n",
       "      <td>apple box filorga</td>\n",
       "      <td>19760308921</td>\n",
       "    </tr>\n",
       "    <tr>\n",
       "      <th>8</th>\n",
       "      <td>armani basi</td>\n",
       "      <td>80130600013</td>\n",
       "    </tr>\n",
       "    <tr>\n",
       "      <th>9</th>\n",
       "      <td>armani easy</td>\n",
       "      <td>24877600005</td>\n",
       "    </tr>\n",
       "  </tbody>\n",
       "</table>\n",
       "</div>"
      ],
      "text/plain": [
       "                                               query  external_id\n",
       "0                                               0 70  89072600018\n",
       "1                                        2 molecules  26500100001\n",
       "2                               acqua di gio profumo  84141400001\n",
       "3  acqua di parma blu mediterraneo bergamotto di ...  26422400004\n",
       "4                               acqua di parma capri  26421100011\n",
       "5             anne semonin express radiance ice cube  88860200004\n",
       "6                                          antipodes  30150400008\n",
       "7                                  apple box filorga  19760308921\n",
       "8                                        armani basi  80130600013\n",
       "9                                        armani easy  24877600005"
      ]
     },
     "execution_count": 7,
     "metadata": {},
     "output_type": "execute_result"
    }
   ],
   "source": [
    "searches = pd.DataFrame({'query': product_external_id, 'external_id': query})\n",
    "searches.head(10)"
   ]
  },
  {
   "cell_type": "code",
   "execution_count": 8,
   "metadata": {},
   "outputs": [],
   "source": [
    "searches['external_id'] = pd.to_numeric(searches['external_id'])"
   ]
  },
  {
   "cell_type": "markdown",
   "metadata": {},
   "source": [
    "### Создаем функцию, которая соединяет products и products_categories\n",
    "\n"
   ]
  },
  {
   "cell_type": "code",
   "execution_count": 9,
   "metadata": {},
   "outputs": [],
   "source": [
    "def merge_product_external_id_to_categories(products, products_categories):\n",
    "    df = pd.merge(products[['id', 'external_id']], products_categories, left_on='id', right_on='product_id')\n",
    "    return df"
   ]
  },
  {
   "cell_type": "code",
   "execution_count": 10,
   "metadata": {},
   "outputs": [
    {
     "data": {
      "text/html": [
       "<div>\n",
       "<style scoped>\n",
       "    .dataframe tbody tr th:only-of-type {\n",
       "        vertical-align: middle;\n",
       "    }\n",
       "\n",
       "    .dataframe tbody tr th {\n",
       "        vertical-align: top;\n",
       "    }\n",
       "\n",
       "    .dataframe thead th {\n",
       "        text-align: right;\n",
       "    }\n",
       "</style>\n",
       "<table border=\"1\" class=\"dataframe\">\n",
       "  <thead>\n",
       "    <tr style=\"text-align: right;\">\n",
       "      <th></th>\n",
       "      <th>id</th>\n",
       "      <th>external_id</th>\n",
       "      <th>site_id</th>\n",
       "      <th>product_id</th>\n",
       "      <th>category_id</th>\n",
       "    </tr>\n",
       "  </thead>\n",
       "  <tbody>\n",
       "    <tr>\n",
       "      <th>0</th>\n",
       "      <td>2573904266</td>\n",
       "      <td>24944900083</td>\n",
       "      <td>420</td>\n",
       "      <td>2573904266</td>\n",
       "      <td>873827</td>\n",
       "    </tr>\n",
       "    <tr>\n",
       "      <th>1</th>\n",
       "      <td>2573904322</td>\n",
       "      <td>24944900078</td>\n",
       "      <td>420</td>\n",
       "      <td>2573904322</td>\n",
       "      <td>873827</td>\n",
       "    </tr>\n",
       "    <tr>\n",
       "      <th>2</th>\n",
       "      <td>2573904375</td>\n",
       "      <td>7005200014</td>\n",
       "      <td>420</td>\n",
       "      <td>2573904375</td>\n",
       "      <td>873827</td>\n",
       "    </tr>\n",
       "    <tr>\n",
       "      <th>3</th>\n",
       "      <td>2573904490</td>\n",
       "      <td>24944900057</td>\n",
       "      <td>420</td>\n",
       "      <td>2573904490</td>\n",
       "      <td>873827</td>\n",
       "    </tr>\n",
       "    <tr>\n",
       "      <th>4</th>\n",
       "      <td>2573905005</td>\n",
       "      <td>17059600013</td>\n",
       "      <td>420</td>\n",
       "      <td>2573905005</td>\n",
       "      <td>873828</td>\n",
       "    </tr>\n",
       "  </tbody>\n",
       "</table>\n",
       "</div>"
      ],
      "text/plain": [
       "           id  external_id  site_id  product_id  category_id\n",
       "0  2573904266  24944900083      420  2573904266       873827\n",
       "1  2573904322  24944900078      420  2573904322       873827\n",
       "2  2573904375   7005200014      420  2573904375       873827\n",
       "3  2573904490  24944900057      420  2573904490       873827\n",
       "4  2573905005  17059600013      420  2573905005       873828"
      ]
     },
     "execution_count": 10,
     "metadata": {},
     "output_type": "execute_result"
    }
   ],
   "source": [
    "products_categories_id = merge_product_external_id_to_categories(products, products_categories)\n",
    "products_categories_id.head()"
   ]
  },
  {
   "cell_type": "markdown",
   "metadata": {},
   "source": [
    "### Добавляем каждому товару в таблицу searches его категорию"
   ]
  },
  {
   "cell_type": "code",
   "execution_count": 11,
   "metadata": {},
   "outputs": [
    {
     "data": {
      "text/html": [
       "<div>\n",
       "<style scoped>\n",
       "    .dataframe tbody tr th:only-of-type {\n",
       "        vertical-align: middle;\n",
       "    }\n",
       "\n",
       "    .dataframe tbody tr th {\n",
       "        vertical-align: top;\n",
       "    }\n",
       "\n",
       "    .dataframe thead th {\n",
       "        text-align: right;\n",
       "    }\n",
       "</style>\n",
       "<table border=\"1\" class=\"dataframe\">\n",
       "  <thead>\n",
       "    <tr style=\"text-align: right;\">\n",
       "      <th></th>\n",
       "      <th>query</th>\n",
       "      <th>external_id</th>\n",
       "      <th>id</th>\n",
       "      <th>site_id</th>\n",
       "      <th>product_id</th>\n",
       "      <th>category_id</th>\n",
       "    </tr>\n",
       "  </thead>\n",
       "  <tbody>\n",
       "    <tr>\n",
       "      <th>0</th>\n",
       "      <td>0 70</td>\n",
       "      <td>89072600018</td>\n",
       "      <td>2579840720</td>\n",
       "      <td>420</td>\n",
       "      <td>2579840720</td>\n",
       "      <td>873895</td>\n",
       "    </tr>\n",
       "    <tr>\n",
       "      <th>1</th>\n",
       "      <td>0 70</td>\n",
       "      <td>89072600018</td>\n",
       "      <td>2579840720</td>\n",
       "      <td>420</td>\n",
       "      <td>2579840720</td>\n",
       "      <td>3672618</td>\n",
       "    </tr>\n",
       "    <tr>\n",
       "      <th>2</th>\n",
       "      <td>cle de p</td>\n",
       "      <td>89072600018</td>\n",
       "      <td>2579840720</td>\n",
       "      <td>420</td>\n",
       "      <td>2579840720</td>\n",
       "      <td>873895</td>\n",
       "    </tr>\n",
       "    <tr>\n",
       "      <th>3</th>\n",
       "      <td>cle de p</td>\n",
       "      <td>89072600018</td>\n",
       "      <td>2579840720</td>\n",
       "      <td>420</td>\n",
       "      <td>2579840720</td>\n",
       "      <td>3672618</td>\n",
       "    </tr>\n",
       "    <tr>\n",
       "      <th>4</th>\n",
       "      <td>2 molecules</td>\n",
       "      <td>26500100001</td>\n",
       "      <td>2573929893</td>\n",
       "      <td>420</td>\n",
       "      <td>2573929893</td>\n",
       "      <td>2987634</td>\n",
       "    </tr>\n",
       "    <tr>\n",
       "      <th>5</th>\n",
       "      <td>2 molecules</td>\n",
       "      <td>26500100001</td>\n",
       "      <td>2573929893</td>\n",
       "      <td>420</td>\n",
       "      <td>2573929893</td>\n",
       "      <td>3115485</td>\n",
       "    </tr>\n",
       "    <tr>\n",
       "      <th>6</th>\n",
       "      <td>2 molecules</td>\n",
       "      <td>26500100001</td>\n",
       "      <td>2573929893</td>\n",
       "      <td>420</td>\n",
       "      <td>2573929893</td>\n",
       "      <td>2987633</td>\n",
       "    </tr>\n",
       "    <tr>\n",
       "      <th>7</th>\n",
       "      <td>2 molecules</td>\n",
       "      <td>26500100001</td>\n",
       "      <td>2573929893</td>\n",
       "      <td>420</td>\n",
       "      <td>2573929893</td>\n",
       "      <td>3672618</td>\n",
       "    </tr>\n",
       "    <tr>\n",
       "      <th>8</th>\n",
       "      <td>acqua di gio profumo</td>\n",
       "      <td>84141400001</td>\n",
       "      <td>2573926076</td>\n",
       "      <td>420</td>\n",
       "      <td>2573926076</td>\n",
       "      <td>3115490</td>\n",
       "    </tr>\n",
       "    <tr>\n",
       "      <th>9</th>\n",
       "      <td>acqua di gio profumo</td>\n",
       "      <td>84141400001</td>\n",
       "      <td>2573926076</td>\n",
       "      <td>420</td>\n",
       "      <td>2573926076</td>\n",
       "      <td>3672618</td>\n",
       "    </tr>\n",
       "  </tbody>\n",
       "</table>\n",
       "</div>"
      ],
      "text/plain": [
       "                  query  external_id          id  site_id  product_id  \\\n",
       "0                  0 70  89072600018  2579840720      420  2579840720   \n",
       "1                  0 70  89072600018  2579840720      420  2579840720   \n",
       "2              cle de p  89072600018  2579840720      420  2579840720   \n",
       "3              cle de p  89072600018  2579840720      420  2579840720   \n",
       "4           2 molecules  26500100001  2573929893      420  2573929893   \n",
       "5           2 molecules  26500100001  2573929893      420  2573929893   \n",
       "6           2 molecules  26500100001  2573929893      420  2573929893   \n",
       "7           2 molecules  26500100001  2573929893      420  2573929893   \n",
       "8  acqua di gio profumo  84141400001  2573926076      420  2573926076   \n",
       "9  acqua di gio profumo  84141400001  2573926076      420  2573926076   \n",
       "\n",
       "   category_id  \n",
       "0       873895  \n",
       "1      3672618  \n",
       "2       873895  \n",
       "3      3672618  \n",
       "4      2987634  \n",
       "5      3115485  \n",
       "6      2987633  \n",
       "7      3672618  \n",
       "8      3115490  \n",
       "9      3672618  "
      ]
     },
     "execution_count": 11,
     "metadata": {},
     "output_type": "execute_result"
    }
   ],
   "source": [
    "searches = pd.merge(searches, products_categories_id, on='external_id')\n",
    "searches.head(10)"
   ]
  },
  {
   "cell_type": "markdown",
   "metadata": {},
   "source": [
    "В итоге у нас получилась таблица, где есть категория товара по каждому запросу. Далее необходимо добавить чужую категорию из дерева решений для каждой строки."
   ]
  },
  {
   "cell_type": "code",
   "execution_count": null,
   "metadata": {},
   "outputs": [],
   "source": []
  }
 ],
 "metadata": {
  "kernelspec": {
   "display_name": "Python 3",
   "language": "python",
   "name": "python3"
  },
  "language_info": {
   "codemirror_mode": {
    "name": "ipython",
    "version": 3
   },
   "file_extension": ".py",
   "mimetype": "text/x-python",
   "name": "python",
   "nbconvert_exporter": "python",
   "pygments_lexer": "ipython3",
   "version": "3.8.5"
  }
 },
 "nbformat": 4,
 "nbformat_minor": 4
}
