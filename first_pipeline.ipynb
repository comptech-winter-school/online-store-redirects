{
 "cells": [
  {
   "cell_type": "code",
   "execution_count": 1,
   "metadata": {},
   "outputs": [],
   "source": [
    "import pandas as pd\n",
    "from utils.feature_generation import create_data_with_features"
   ]
  },
  {
   "cell_type": "code",
   "execution_count": 2,
   "metadata": {},
   "outputs": [],
   "source": [
    "path_to_files = \"./data/redir\"\n",
    "data = create_data_with_features(path_to_files)"
   ]
  },
  {
   "cell_type": "code",
   "execution_count": 3,
   "metadata": {},
   "outputs": [
    {
     "output_type": "execute_result",
     "data": {
      "text/plain": [
       "   is_redirect  len_of_query  num_of_word_in_query  len_of_category  \\\n",
       "0            1            14                     2               10   \n",
       "1            1            13                     2               10   \n",
       "2            1            31                     4               10   \n",
       "\n",
       "   num_of_word_in_category  how_match_brands_name_in_query  \\\n",
       "0                        1                               1   \n",
       "1                        1                               1   \n",
       "2                        1                               1   \n",
       "\n",
       "   how_match_products_name_in_query  mean_word_len_in_category  \\\n",
       "0                                 1                       10.0   \n",
       "1                                 1                       10.0   \n",
       "2                                 3                       10.0   \n",
       "\n",
       "   mean_word_len_in_query  max_word_len_in_category  max_word_len_in_query  \\\n",
       "0                     6.5                        10                      9   \n",
       "1                     6.0                        10                      8   \n",
       "2                     7.0                        10                      9   \n",
       "\n",
       "   min_word_len_in_category  min_word_len_in_query  is_query_long  \n",
       "0                        10                      4              0  \n",
       "1                        10                      4              0  \n",
       "2                        10                      4              0  "
      ],
      "text/html": "<div>\n<style scoped>\n    .dataframe tbody tr th:only-of-type {\n        vertical-align: middle;\n    }\n\n    .dataframe tbody tr th {\n        vertical-align: top;\n    }\n\n    .dataframe thead th {\n        text-align: right;\n    }\n</style>\n<table border=\"1\" class=\"dataframe\">\n  <thead>\n    <tr style=\"text-align: right;\">\n      <th></th>\n      <th>is_redirect</th>\n      <th>len_of_query</th>\n      <th>num_of_word_in_query</th>\n      <th>len_of_category</th>\n      <th>num_of_word_in_category</th>\n      <th>how_match_brands_name_in_query</th>\n      <th>how_match_products_name_in_query</th>\n      <th>mean_word_len_in_category</th>\n      <th>mean_word_len_in_query</th>\n      <th>max_word_len_in_category</th>\n      <th>max_word_len_in_query</th>\n      <th>min_word_len_in_category</th>\n      <th>min_word_len_in_query</th>\n      <th>is_query_long</th>\n    </tr>\n  </thead>\n  <tbody>\n    <tr>\n      <th>0</th>\n      <td>1</td>\n      <td>14</td>\n      <td>2</td>\n      <td>10</td>\n      <td>1</td>\n      <td>1</td>\n      <td>1</td>\n      <td>10.0</td>\n      <td>6.5</td>\n      <td>10</td>\n      <td>9</td>\n      <td>10</td>\n      <td>4</td>\n      <td>0</td>\n    </tr>\n    <tr>\n      <th>1</th>\n      <td>1</td>\n      <td>13</td>\n      <td>2</td>\n      <td>10</td>\n      <td>1</td>\n      <td>1</td>\n      <td>1</td>\n      <td>10.0</td>\n      <td>6.0</td>\n      <td>10</td>\n      <td>8</td>\n      <td>10</td>\n      <td>4</td>\n      <td>0</td>\n    </tr>\n    <tr>\n      <th>2</th>\n      <td>1</td>\n      <td>31</td>\n      <td>4</td>\n      <td>10</td>\n      <td>1</td>\n      <td>1</td>\n      <td>3</td>\n      <td>10.0</td>\n      <td>7.0</td>\n      <td>10</td>\n      <td>9</td>\n      <td>10</td>\n      <td>4</td>\n      <td>0</td>\n    </tr>\n  </tbody>\n</table>\n</div>"
     },
     "metadata": {},
     "execution_count": 3
    }
   ],
   "source": [
    "data.head(3)"
   ]
  },
  {
   "cell_type": "code",
   "execution_count": 4,
   "metadata": {},
   "outputs": [
    {
     "output_type": "execute_result",
     "data": {
      "text/plain": [
       "(3003, 14)"
      ]
     },
     "metadata": {},
     "execution_count": 4
    }
   ],
   "source": [
    "data.shape"
   ]
  },
  {
   "cell_type": "code",
   "execution_count": 5,
   "metadata": {},
   "outputs": [],
   "source": [
    "X = data.drop(columns='is_redirect')\n",
    "y = data['is_redirect']"
   ]
  },
  {
   "cell_type": "code",
   "execution_count": 6,
   "metadata": {},
   "outputs": [],
   "source": [
    "from sklearn.model_selection import train_test_split\n",
    "X_train, X_test, y_train, y_test = train_test_split(\n",
    "    X,\n",
    "    y,\n",
    "    stratify=y,\n",
    "    random_state=0,\n",
    "    shuffle=True,\n",
    "    test_size=0.2\n",
    ")"
   ]
  },
  {
   "cell_type": "code",
   "execution_count": 8,
   "metadata": {},
   "outputs": [
    {
     "output_type": "stream",
     "name": "stderr",
     "text": [
      " 93%|█████████▎| 28/30 [00:03<00:00,  9.91it/s][17:37:36] WARNING: ../src/learner.cc:1061: Starting in XGBoost 1.3.0, the default evaluation metric used with the objective 'binary:logistic' was changed from 'error' to 'logloss'. Explicitly set eval_metric if you'd like to restore the old behavior.\n",
      "100%|██████████| 30/30 [00:03<00:00,  8.28it/s]\n"
     ]
    }
   ],
   "source": [
    "from lazypredict.Supervised import LazyClassifier\n",
    "lazy_pred_clf = LazyClassifier(verbose=0, ignore_warnings=True, custom_metric=None)\n",
    "train, test = lazy_pred_clf.fit(X_train, X_test, y_train, y_test)"
   ]
  },
  {
   "cell_type": "code",
   "execution_count": 9,
   "metadata": {},
   "outputs": [
    {
     "output_type": "execute_result",
     "data": {
      "text/plain": [
       "                               Accuracy  Balanced Accuracy  ROC AUC  F1 Score  \\\n",
       "Model                                                                           \n",
       "LGBMClassifier                     0.91               0.91     0.91      0.91   \n",
       "XGBClassifier                      0.91               0.91     0.91      0.91   \n",
       "RandomForestClassifier             0.90               0.90     0.90      0.90   \n",
       "ExtraTreesClassifier               0.90               0.90     0.90      0.90   \n",
       "LabelSpreading                     0.87               0.87     0.87      0.87   \n",
       "LabelPropagation                   0.87               0.87     0.87      0.87   \n",
       "BaggingClassifier                  0.87               0.87     0.87      0.87   \n",
       "DecisionTreeClassifier             0.86               0.86     0.86      0.86   \n",
       "KNeighborsClassifier               0.86               0.86     0.86      0.86   \n",
       "SVC                                0.84               0.84     0.84      0.84   \n",
       "AdaBoostClassifier                 0.84               0.84     0.84      0.84   \n",
       "ExtraTreeClassifier                0.82               0.83     0.83      0.82   \n",
       "NuSVC                              0.82               0.82     0.82      0.82   \n",
       "LinearSVC                          0.81               0.81     0.81      0.81   \n",
       "LogisticRegression                 0.81               0.81     0.81      0.81   \n",
       "CalibratedClassifierCV             0.81               0.81     0.81      0.81   \n",
       "RidgeClassifier                    0.80               0.80     0.80      0.80   \n",
       "LinearDiscriminantAnalysis         0.80               0.80     0.80      0.80   \n",
       "RidgeClassifierCV                  0.80               0.80     0.80      0.80   \n",
       "SGDClassifier                      0.79               0.78     0.78      0.79   \n",
       "Perceptron                         0.77               0.78     0.78      0.76   \n",
       "QuadraticDiscriminantAnalysis      0.77               0.78     0.78      0.77   \n",
       "BernoulliNB                        0.74               0.74     0.74      0.74   \n",
       "NearestCentroid                    0.71               0.71     0.71      0.71   \n",
       "PassiveAggressiveClassifier        0.70               0.70     0.70      0.70   \n",
       "GaussianNB                         0.67               0.68     0.68      0.66   \n",
       "DummyClassifier                    0.51               0.51     0.51      0.51   \n",
       "CheckingClassifier                 0.53               0.50     0.50      0.37   \n",
       "\n",
       "                               Time Taken  \n",
       "Model                                      \n",
       "LGBMClassifier                       0.15  \n",
       "XGBClassifier                        0.20  \n",
       "RandomForestClassifier               0.33  \n",
       "ExtraTreesClassifier                 0.26  \n",
       "LabelSpreading                       0.40  \n",
       "LabelPropagation                     0.30  \n",
       "BaggingClassifier                    0.09  \n",
       "DecisionTreeClassifier               0.03  \n",
       "KNeighborsClassifier                 0.05  \n",
       "SVC                                  0.14  \n",
       "AdaBoostClassifier                   0.18  \n",
       "ExtraTreeClassifier                  0.02  \n",
       "NuSVC                                0.20  \n",
       "LinearSVC                            0.19  \n",
       "LogisticRegression                   0.06  \n",
       "CalibratedClassifierCV               0.69  \n",
       "RidgeClassifier                      0.03  \n",
       "LinearDiscriminantAnalysis           0.04  \n",
       "RidgeClassifierCV                    0.04  \n",
       "SGDClassifier                        0.04  \n",
       "Perceptron                           0.02  \n",
       "QuadraticDiscriminantAnalysis        0.02  \n",
       "BernoulliNB                          0.02  \n",
       "NearestCentroid                      0.02  \n",
       "PassiveAggressiveClassifier          0.02  \n",
       "GaussianNB                           0.01  \n",
       "DummyClassifier                      0.02  \n",
       "CheckingClassifier                   0.03  "
      ],
      "text/html": "<div>\n<style scoped>\n    .dataframe tbody tr th:only-of-type {\n        vertical-align: middle;\n    }\n\n    .dataframe tbody tr th {\n        vertical-align: top;\n    }\n\n    .dataframe thead th {\n        text-align: right;\n    }\n</style>\n<table border=\"1\" class=\"dataframe\">\n  <thead>\n    <tr style=\"text-align: right;\">\n      <th></th>\n      <th>Accuracy</th>\n      <th>Balanced Accuracy</th>\n      <th>ROC AUC</th>\n      <th>F1 Score</th>\n      <th>Time Taken</th>\n    </tr>\n    <tr>\n      <th>Model</th>\n      <th></th>\n      <th></th>\n      <th></th>\n      <th></th>\n      <th></th>\n    </tr>\n  </thead>\n  <tbody>\n    <tr>\n      <th>LGBMClassifier</th>\n      <td>0.91</td>\n      <td>0.91</td>\n      <td>0.91</td>\n      <td>0.91</td>\n      <td>0.15</td>\n    </tr>\n    <tr>\n      <th>XGBClassifier</th>\n      <td>0.91</td>\n      <td>0.91</td>\n      <td>0.91</td>\n      <td>0.91</td>\n      <td>0.20</td>\n    </tr>\n    <tr>\n      <th>RandomForestClassifier</th>\n      <td>0.90</td>\n      <td>0.90</td>\n      <td>0.90</td>\n      <td>0.90</td>\n      <td>0.33</td>\n    </tr>\n    <tr>\n      <th>ExtraTreesClassifier</th>\n      <td>0.90</td>\n      <td>0.90</td>\n      <td>0.90</td>\n      <td>0.90</td>\n      <td>0.26</td>\n    </tr>\n    <tr>\n      <th>LabelSpreading</th>\n      <td>0.87</td>\n      <td>0.87</td>\n      <td>0.87</td>\n      <td>0.87</td>\n      <td>0.40</td>\n    </tr>\n    <tr>\n      <th>LabelPropagation</th>\n      <td>0.87</td>\n      <td>0.87</td>\n      <td>0.87</td>\n      <td>0.87</td>\n      <td>0.30</td>\n    </tr>\n    <tr>\n      <th>BaggingClassifier</th>\n      <td>0.87</td>\n      <td>0.87</td>\n      <td>0.87</td>\n      <td>0.87</td>\n      <td>0.09</td>\n    </tr>\n    <tr>\n      <th>DecisionTreeClassifier</th>\n      <td>0.86</td>\n      <td>0.86</td>\n      <td>0.86</td>\n      <td>0.86</td>\n      <td>0.03</td>\n    </tr>\n    <tr>\n      <th>KNeighborsClassifier</th>\n      <td>0.86</td>\n      <td>0.86</td>\n      <td>0.86</td>\n      <td>0.86</td>\n      <td>0.05</td>\n    </tr>\n    <tr>\n      <th>SVC</th>\n      <td>0.84</td>\n      <td>0.84</td>\n      <td>0.84</td>\n      <td>0.84</td>\n      <td>0.14</td>\n    </tr>\n    <tr>\n      <th>AdaBoostClassifier</th>\n      <td>0.84</td>\n      <td>0.84</td>\n      <td>0.84</td>\n      <td>0.84</td>\n      <td>0.18</td>\n    </tr>\n    <tr>\n      <th>ExtraTreeClassifier</th>\n      <td>0.82</td>\n      <td>0.83</td>\n      <td>0.83</td>\n      <td>0.82</td>\n      <td>0.02</td>\n    </tr>\n    <tr>\n      <th>NuSVC</th>\n      <td>0.82</td>\n      <td>0.82</td>\n      <td>0.82</td>\n      <td>0.82</td>\n      <td>0.20</td>\n    </tr>\n    <tr>\n      <th>LinearSVC</th>\n      <td>0.81</td>\n      <td>0.81</td>\n      <td>0.81</td>\n      <td>0.81</td>\n      <td>0.19</td>\n    </tr>\n    <tr>\n      <th>LogisticRegression</th>\n      <td>0.81</td>\n      <td>0.81</td>\n      <td>0.81</td>\n      <td>0.81</td>\n      <td>0.06</td>\n    </tr>\n    <tr>\n      <th>CalibratedClassifierCV</th>\n      <td>0.81</td>\n      <td>0.81</td>\n      <td>0.81</td>\n      <td>0.81</td>\n      <td>0.69</td>\n    </tr>\n    <tr>\n      <th>RidgeClassifier</th>\n      <td>0.80</td>\n      <td>0.80</td>\n      <td>0.80</td>\n      <td>0.80</td>\n      <td>0.03</td>\n    </tr>\n    <tr>\n      <th>LinearDiscriminantAnalysis</th>\n      <td>0.80</td>\n      <td>0.80</td>\n      <td>0.80</td>\n      <td>0.80</td>\n      <td>0.04</td>\n    </tr>\n    <tr>\n      <th>RidgeClassifierCV</th>\n      <td>0.80</td>\n      <td>0.80</td>\n      <td>0.80</td>\n      <td>0.80</td>\n      <td>0.04</td>\n    </tr>\n    <tr>\n      <th>SGDClassifier</th>\n      <td>0.79</td>\n      <td>0.78</td>\n      <td>0.78</td>\n      <td>0.79</td>\n      <td>0.04</td>\n    </tr>\n    <tr>\n      <th>Perceptron</th>\n      <td>0.77</td>\n      <td>0.78</td>\n      <td>0.78</td>\n      <td>0.76</td>\n      <td>0.02</td>\n    </tr>\n    <tr>\n      <th>QuadraticDiscriminantAnalysis</th>\n      <td>0.77</td>\n      <td>0.78</td>\n      <td>0.78</td>\n      <td>0.77</td>\n      <td>0.02</td>\n    </tr>\n    <tr>\n      <th>BernoulliNB</th>\n      <td>0.74</td>\n      <td>0.74</td>\n      <td>0.74</td>\n      <td>0.74</td>\n      <td>0.02</td>\n    </tr>\n    <tr>\n      <th>NearestCentroid</th>\n      <td>0.71</td>\n      <td>0.71</td>\n      <td>0.71</td>\n      <td>0.71</td>\n      <td>0.02</td>\n    </tr>\n    <tr>\n      <th>PassiveAggressiveClassifier</th>\n      <td>0.70</td>\n      <td>0.70</td>\n      <td>0.70</td>\n      <td>0.70</td>\n      <td>0.02</td>\n    </tr>\n    <tr>\n      <th>GaussianNB</th>\n      <td>0.67</td>\n      <td>0.68</td>\n      <td>0.68</td>\n      <td>0.66</td>\n      <td>0.01</td>\n    </tr>\n    <tr>\n      <th>DummyClassifier</th>\n      <td>0.51</td>\n      <td>0.51</td>\n      <td>0.51</td>\n      <td>0.51</td>\n      <td>0.02</td>\n    </tr>\n    <tr>\n      <th>CheckingClassifier</th>\n      <td>0.53</td>\n      <td>0.50</td>\n      <td>0.50</td>\n      <td>0.37</td>\n      <td>0.03</td>\n    </tr>\n  </tbody>\n</table>\n</div>"
     },
     "metadata": {},
     "execution_count": 9
    }
   ],
   "source": [
    "train"
   ]
  },
  {
   "cell_type": "code",
   "execution_count": 10,
   "metadata": {},
   "outputs": [
    {
     "output_type": "execute_result",
     "data": {
      "text/plain": [
       "                               Accuracy  Balanced Accuracy  ROC AUC  F1 Score  \\\n",
       "Model                                                                           \n",
       "LGBMClassifier                     0.91               0.91     0.91      0.91   \n",
       "XGBClassifier                      0.91               0.91     0.91      0.91   \n",
       "RandomForestClassifier             0.90               0.90     0.90      0.90   \n",
       "ExtraTreesClassifier               0.90               0.90     0.90      0.90   \n",
       "LabelSpreading                     0.87               0.87     0.87      0.87   \n",
       "LabelPropagation                   0.87               0.87     0.87      0.87   \n",
       "BaggingClassifier                  0.87               0.87     0.87      0.87   \n",
       "DecisionTreeClassifier             0.86               0.86     0.86      0.86   \n",
       "KNeighborsClassifier               0.86               0.86     0.86      0.86   \n",
       "SVC                                0.84               0.84     0.84      0.84   \n",
       "AdaBoostClassifier                 0.84               0.84     0.84      0.84   \n",
       "ExtraTreeClassifier                0.82               0.83     0.83      0.82   \n",
       "NuSVC                              0.82               0.82     0.82      0.82   \n",
       "LinearSVC                          0.81               0.81     0.81      0.81   \n",
       "LogisticRegression                 0.81               0.81     0.81      0.81   \n",
       "CalibratedClassifierCV             0.81               0.81     0.81      0.81   \n",
       "RidgeClassifier                    0.80               0.80     0.80      0.80   \n",
       "LinearDiscriminantAnalysis         0.80               0.80     0.80      0.80   \n",
       "RidgeClassifierCV                  0.80               0.80     0.80      0.80   \n",
       "SGDClassifier                      0.79               0.78     0.78      0.79   \n",
       "Perceptron                         0.77               0.78     0.78      0.76   \n",
       "QuadraticDiscriminantAnalysis      0.77               0.78     0.78      0.77   \n",
       "BernoulliNB                        0.74               0.74     0.74      0.74   \n",
       "NearestCentroid                    0.71               0.71     0.71      0.71   \n",
       "PassiveAggressiveClassifier        0.70               0.70     0.70      0.70   \n",
       "GaussianNB                         0.67               0.68     0.68      0.66   \n",
       "DummyClassifier                    0.51               0.51     0.51      0.51   \n",
       "CheckingClassifier                 0.53               0.50     0.50      0.37   \n",
       "\n",
       "                               Time Taken  \n",
       "Model                                      \n",
       "LGBMClassifier                       0.15  \n",
       "XGBClassifier                        0.20  \n",
       "RandomForestClassifier               0.33  \n",
       "ExtraTreesClassifier                 0.26  \n",
       "LabelSpreading                       0.40  \n",
       "LabelPropagation                     0.30  \n",
       "BaggingClassifier                    0.09  \n",
       "DecisionTreeClassifier               0.03  \n",
       "KNeighborsClassifier                 0.05  \n",
       "SVC                                  0.14  \n",
       "AdaBoostClassifier                   0.18  \n",
       "ExtraTreeClassifier                  0.02  \n",
       "NuSVC                                0.20  \n",
       "LinearSVC                            0.19  \n",
       "LogisticRegression                   0.06  \n",
       "CalibratedClassifierCV               0.69  \n",
       "RidgeClassifier                      0.03  \n",
       "LinearDiscriminantAnalysis           0.04  \n",
       "RidgeClassifierCV                    0.04  \n",
       "SGDClassifier                        0.04  \n",
       "Perceptron                           0.02  \n",
       "QuadraticDiscriminantAnalysis        0.02  \n",
       "BernoulliNB                          0.02  \n",
       "NearestCentroid                      0.02  \n",
       "PassiveAggressiveClassifier          0.02  \n",
       "GaussianNB                           0.01  \n",
       "DummyClassifier                      0.02  \n",
       "CheckingClassifier                   0.03  "
      ],
      "text/html": "<div>\n<style scoped>\n    .dataframe tbody tr th:only-of-type {\n        vertical-align: middle;\n    }\n\n    .dataframe tbody tr th {\n        vertical-align: top;\n    }\n\n    .dataframe thead th {\n        text-align: right;\n    }\n</style>\n<table border=\"1\" class=\"dataframe\">\n  <thead>\n    <tr style=\"text-align: right;\">\n      <th></th>\n      <th>Accuracy</th>\n      <th>Balanced Accuracy</th>\n      <th>ROC AUC</th>\n      <th>F1 Score</th>\n      <th>Time Taken</th>\n    </tr>\n    <tr>\n      <th>Model</th>\n      <th></th>\n      <th></th>\n      <th></th>\n      <th></th>\n      <th></th>\n    </tr>\n  </thead>\n  <tbody>\n    <tr>\n      <th>LGBMClassifier</th>\n      <td>0.91</td>\n      <td>0.91</td>\n      <td>0.91</td>\n      <td>0.91</td>\n      <td>0.15</td>\n    </tr>\n    <tr>\n      <th>XGBClassifier</th>\n      <td>0.91</td>\n      <td>0.91</td>\n      <td>0.91</td>\n      <td>0.91</td>\n      <td>0.20</td>\n    </tr>\n    <tr>\n      <th>RandomForestClassifier</th>\n      <td>0.90</td>\n      <td>0.90</td>\n      <td>0.90</td>\n      <td>0.90</td>\n      <td>0.33</td>\n    </tr>\n    <tr>\n      <th>ExtraTreesClassifier</th>\n      <td>0.90</td>\n      <td>0.90</td>\n      <td>0.90</td>\n      <td>0.90</td>\n      <td>0.26</td>\n    </tr>\n    <tr>\n      <th>LabelSpreading</th>\n      <td>0.87</td>\n      <td>0.87</td>\n      <td>0.87</td>\n      <td>0.87</td>\n      <td>0.40</td>\n    </tr>\n    <tr>\n      <th>LabelPropagation</th>\n      <td>0.87</td>\n      <td>0.87</td>\n      <td>0.87</td>\n      <td>0.87</td>\n      <td>0.30</td>\n    </tr>\n    <tr>\n      <th>BaggingClassifier</th>\n      <td>0.87</td>\n      <td>0.87</td>\n      <td>0.87</td>\n      <td>0.87</td>\n      <td>0.09</td>\n    </tr>\n    <tr>\n      <th>DecisionTreeClassifier</th>\n      <td>0.86</td>\n      <td>0.86</td>\n      <td>0.86</td>\n      <td>0.86</td>\n      <td>0.03</td>\n    </tr>\n    <tr>\n      <th>KNeighborsClassifier</th>\n      <td>0.86</td>\n      <td>0.86</td>\n      <td>0.86</td>\n      <td>0.86</td>\n      <td>0.05</td>\n    </tr>\n    <tr>\n      <th>SVC</th>\n      <td>0.84</td>\n      <td>0.84</td>\n      <td>0.84</td>\n      <td>0.84</td>\n      <td>0.14</td>\n    </tr>\n    <tr>\n      <th>AdaBoostClassifier</th>\n      <td>0.84</td>\n      <td>0.84</td>\n      <td>0.84</td>\n      <td>0.84</td>\n      <td>0.18</td>\n    </tr>\n    <tr>\n      <th>ExtraTreeClassifier</th>\n      <td>0.82</td>\n      <td>0.83</td>\n      <td>0.83</td>\n      <td>0.82</td>\n      <td>0.02</td>\n    </tr>\n    <tr>\n      <th>NuSVC</th>\n      <td>0.82</td>\n      <td>0.82</td>\n      <td>0.82</td>\n      <td>0.82</td>\n      <td>0.20</td>\n    </tr>\n    <tr>\n      <th>LinearSVC</th>\n      <td>0.81</td>\n      <td>0.81</td>\n      <td>0.81</td>\n      <td>0.81</td>\n      <td>0.19</td>\n    </tr>\n    <tr>\n      <th>LogisticRegression</th>\n      <td>0.81</td>\n      <td>0.81</td>\n      <td>0.81</td>\n      <td>0.81</td>\n      <td>0.06</td>\n    </tr>\n    <tr>\n      <th>CalibratedClassifierCV</th>\n      <td>0.81</td>\n      <td>0.81</td>\n      <td>0.81</td>\n      <td>0.81</td>\n      <td>0.69</td>\n    </tr>\n    <tr>\n      <th>RidgeClassifier</th>\n      <td>0.80</td>\n      <td>0.80</td>\n      <td>0.80</td>\n      <td>0.80</td>\n      <td>0.03</td>\n    </tr>\n    <tr>\n      <th>LinearDiscriminantAnalysis</th>\n      <td>0.80</td>\n      <td>0.80</td>\n      <td>0.80</td>\n      <td>0.80</td>\n      <td>0.04</td>\n    </tr>\n    <tr>\n      <th>RidgeClassifierCV</th>\n      <td>0.80</td>\n      <td>0.80</td>\n      <td>0.80</td>\n      <td>0.80</td>\n      <td>0.04</td>\n    </tr>\n    <tr>\n      <th>SGDClassifier</th>\n      <td>0.79</td>\n      <td>0.78</td>\n      <td>0.78</td>\n      <td>0.79</td>\n      <td>0.04</td>\n    </tr>\n    <tr>\n      <th>Perceptron</th>\n      <td>0.77</td>\n      <td>0.78</td>\n      <td>0.78</td>\n      <td>0.76</td>\n      <td>0.02</td>\n    </tr>\n    <tr>\n      <th>QuadraticDiscriminantAnalysis</th>\n      <td>0.77</td>\n      <td>0.78</td>\n      <td>0.78</td>\n      <td>0.77</td>\n      <td>0.02</td>\n    </tr>\n    <tr>\n      <th>BernoulliNB</th>\n      <td>0.74</td>\n      <td>0.74</td>\n      <td>0.74</td>\n      <td>0.74</td>\n      <td>0.02</td>\n    </tr>\n    <tr>\n      <th>NearestCentroid</th>\n      <td>0.71</td>\n      <td>0.71</td>\n      <td>0.71</td>\n      <td>0.71</td>\n      <td>0.02</td>\n    </tr>\n    <tr>\n      <th>PassiveAggressiveClassifier</th>\n      <td>0.70</td>\n      <td>0.70</td>\n      <td>0.70</td>\n      <td>0.70</td>\n      <td>0.02</td>\n    </tr>\n    <tr>\n      <th>GaussianNB</th>\n      <td>0.67</td>\n      <td>0.68</td>\n      <td>0.68</td>\n      <td>0.66</td>\n      <td>0.01</td>\n    </tr>\n    <tr>\n      <th>DummyClassifier</th>\n      <td>0.51</td>\n      <td>0.51</td>\n      <td>0.51</td>\n      <td>0.51</td>\n      <td>0.02</td>\n    </tr>\n    <tr>\n      <th>CheckingClassifier</th>\n      <td>0.53</td>\n      <td>0.50</td>\n      <td>0.50</td>\n      <td>0.37</td>\n      <td>0.03</td>\n    </tr>\n  </tbody>\n</table>\n</div>"
     },
     "metadata": {},
     "execution_count": 10
    }
   ],
   "source": [
    "test"
   ]
  },
  {
   "cell_type": "code",
   "execution_count": 7,
   "metadata": {},
   "outputs": [],
   "source": [
    "from sklearn.ensemble import RandomForestClassifier\n",
    "from sklearn.pipeline import Pipeline\n",
    "\n",
    "\n",
    "def make_features_pipeline(n_jobs):\n",
    "    pipeline = Pipeline([\n",
    "        ('clf', RandomForestClassifier(n_jobs=n_jobs, random_state=1))\n",
    "    ])\n",
    "    return pipeline"
   ]
  },
  {
   "cell_type": "code",
   "execution_count": 8,
   "metadata": {},
   "outputs": [
    {
     "output_type": "stream",
     "name": "stderr",
     "text": [
      "[Parallel(n_jobs=4)]: Using backend LokyBackend with 4 concurrent workers.\n",
      "[Parallel(n_jobs=4)]: Done  42 tasks      | elapsed:   21.9s\n",
      "[Parallel(n_jobs=4)]: Done  50 out of  50 | elapsed:   24.6s finished\n"
     ]
    }
   ],
   "source": [
    "from pipeline.training import SCORING, STRONG_CV\n",
    "from pipeline.training import fit_pipeline, cross_validate_pipeline\n",
    "\n",
    "\n",
    "N_JOBS = 1\n",
    "N_JOBS_CV = 4\n",
    "\n",
    "pipeline = make_features_pipeline(N_JOBS)\n",
    "\n",
    "result = cross_validate_pipeline(\n",
    "    pipeline,\n",
    "    X_train,\n",
    "    y_train,\n",
    "    cv=STRONG_CV,\n",
    "    scoring=SCORING,\n",
    "    n_jobs=N_JOBS_CV,\n",
    "    verbose=1,\n",
    ")"
   ]
  },
  {
   "cell_type": "code",
   "execution_count": 13,
   "metadata": {},
   "outputs": [
    {
     "output_type": "execute_result",
     "data": {
      "text/plain": [
       "{'fit_time': array([0.46843266, 0.41160226, 0.43942857, 0.43771935, 0.39764977,\n",
       "        0.47907543, 0.41467071, 0.49060035, 0.45106721, 0.42961979,\n",
       "        0.38684154, 0.41538835, 0.39184022, 0.43915033, 0.36109424,\n",
       "        0.41566062, 0.43677878, 0.56345391, 0.45416451, 0.43852639,\n",
       "        0.36994076, 0.40055537, 0.44143057, 0.35478139, 0.36469769,\n",
       "        0.40836167, 0.36525083, 0.35255814, 0.50183272, 0.46806788,\n",
       "        0.45787954, 0.38864112, 0.61061168, 0.35428238, 0.43100953,\n",
       "        0.38482714, 0.39169908, 0.55562305, 0.37521791, 0.38313842,\n",
       "        0.4589045 , 0.37024331, 0.403404  , 0.4267056 , 0.43066931,\n",
       "        0.37108684, 0.49328685, 0.49570751, 0.31514072, 0.31854081]),\n",
       " 'score_time': array([0.05781794, 0.06178832, 0.05764699, 0.05975723, 0.08331418,\n",
       "        0.07159257, 0.06206059, 0.05819273, 0.05758309, 0.05774879,\n",
       "        0.0640192 , 0.06765175, 0.05744886, 0.08417654, 0.05685019,\n",
       "        0.05142045, 0.05651641, 0.07727194, 0.07034683, 0.06260872,\n",
       "        0.05214477, 0.05656171, 0.0667963 , 0.05092883, 0.05040431,\n",
       "        0.0538547 , 0.06368494, 0.06598234, 0.07295012, 0.12580323,\n",
       "        0.05824494, 0.06368041, 0.07210565, 0.06398702, 0.0573411 ,\n",
       "        0.05688739, 0.0984211 , 0.09388089, 0.06096077, 0.0726428 ,\n",
       "        0.06191826, 0.0536921 , 0.05244994, 0.05950522, 0.0588522 ,\n",
       "        0.05727029, 0.05835724, 0.05045748, 0.03475475, 0.0338707 ]),\n",
       " 'test_accuracy': array([0.88149688, 0.93970894, 0.89791667, 0.91666667, 0.92291667,\n",
       "        0.92099792, 0.9022869 , 0.91458333, 0.90208333, 0.92291667,\n",
       "        0.91476091, 0.90852391, 0.9       , 0.90208333, 0.93125   ,\n",
       "        0.90644491, 0.9002079 , 0.91041667, 0.91875   , 0.93541667,\n",
       "        0.91268191, 0.91683992, 0.91875   , 0.9125    , 0.88541667,\n",
       "        0.91268191, 0.9002079 , 0.90416667, 0.91458333, 0.92916667,\n",
       "        0.91060291, 0.92307692, 0.89791667, 0.91458333, 0.90625   ,\n",
       "        0.89189189, 0.95010395, 0.91458333, 0.91666667, 0.90833333,\n",
       "        0.9002079 , 0.91476091, 0.90833333, 0.92291667, 0.93125   ,\n",
       "        0.91476091, 0.9043659 , 0.90416667, 0.93125   , 0.91875   ]),\n",
       " 'test_roc_auc': array([0.95627277, 0.97927295, 0.95701089, 0.96861717, 0.972319  ,\n",
       "        0.97258372, 0.97123894, 0.96331155, 0.97216222, 0.97309421,\n",
       "        0.9727746 , 0.97072705, 0.96524619, 0.95434987, 0.98025399,\n",
       "        0.9744404 , 0.96746486, 0.96602179, 0.96612605, 0.97657829,\n",
       "        0.97062294, 0.96474059, 0.97870153, 0.96684029, 0.96508083,\n",
       "        0.9652785 , 0.96764706, 0.96444444, 0.96805101, 0.97491464,\n",
       "        0.96521777, 0.97395454, 0.96234423, 0.97233642, 0.97145669,\n",
       "        0.95327087, 0.97839667, 0.9748671 , 0.97627343, 0.96447112,\n",
       "        0.97436231, 0.96911331, 0.95991285, 0.97602954, 0.97404362,\n",
       "        0.96788999, 0.96128752, 0.97247059, 0.97372134, 0.96912236]),\n",
       " 'test_f1': array([0.87191011, 0.93541203, 0.88735632, 0.91071429, 0.91868132,\n",
       "        0.91517857, 0.89342404, 0.90660592, 0.89485459, 0.91868132,\n",
       "        0.90744921, 0.90222222, 0.89427313, 0.8967033 , 0.92482916,\n",
       "        0.89841986, 0.89565217, 0.90423163, 0.91235955, 0.93064877,\n",
       "        0.90497738, 0.91266376, 0.91275168, 0.90625   , 0.87356322,\n",
       "        0.9058296 , 0.89041096, 0.9       , 0.90786517, 0.92237443,\n",
       "        0.90507726, 0.91759465, 0.8863109 , 0.90868597, 0.8988764 ,\n",
       "        0.88235294, 0.94570136, 0.90868597, 0.91071429, 0.90350877,\n",
       "        0.89333333, 0.91028446, 0.9       , 0.91571754, 0.9261745 ,\n",
       "        0.90909091, 0.8963964 , 0.8963964 , 0.9261745 , 0.91275168]),\n",
       " 'test_precision': array([0.88584475, 0.94170404, 0.91904762, 0.91891892, 0.91266376,\n",
       "        0.92342342, 0.91627907, 0.92990654, 0.90497738, 0.91266376,\n",
       "        0.92626728, 0.90625   , 0.88646288, 0.89082969, 0.95305164,\n",
       "        0.91705069, 0.88034188, 0.90625   , 0.92694064, 0.94117647,\n",
       "        0.92592593, 0.90086207, 0.91891892, 0.91441441, 0.90909091,\n",
       "        0.91818182, 0.91981132, 0.88085106, 0.92237443, 0.95283019,\n",
       "        0.9030837 , 0.92376682, 0.92718447, 0.91479821, 0.91324201,\n",
       "        0.90277778, 0.96759259, 0.91071429, 0.91891892, 0.89565217,\n",
       "        0.89732143, 0.9004329 , 0.92093023, 0.94366197, 0.93665158,\n",
       "        0.91111111, 0.91284404, 0.9086758 , 0.93665158, 0.92307692]),\n",
       " 'test_recall': array([0.85840708, 0.92920354, 0.85777778, 0.90265487, 0.92477876,\n",
       "        0.90707965, 0.87168142, 0.88444444, 0.88495575, 0.92477876,\n",
       "        0.88938053, 0.89823009, 0.90222222, 0.90265487, 0.89823009,\n",
       "        0.88053097, 0.91150442, 0.90222222, 0.89823009, 0.92035398,\n",
       "        0.88495575, 0.92477876, 0.90666667, 0.89823009, 0.84070796,\n",
       "        0.89380531, 0.86283186, 0.92      , 0.89380531, 0.89380531,\n",
       "        0.90707965, 0.91150442, 0.84888889, 0.90265487, 0.88495575,\n",
       "        0.86283186, 0.92477876, 0.90666667, 0.90265487, 0.91150442,\n",
       "        0.88938053, 0.92035398, 0.88      , 0.88938053, 0.9159292 ,\n",
       "        0.90707965, 0.88053097, 0.88444444, 0.9159292 , 0.90265487])}"
      ]
     },
     "metadata": {},
     "execution_count": 13
    }
   ],
   "source": [
    "result"
   ]
  },
  {
   "cell_type": "code",
   "execution_count": 9,
   "metadata": {},
   "outputs": [
    {
     "output_type": "execute_result",
     "data": {
      "text/plain": [
       "Pipeline(steps=[('clf', RandomForestClassifier(n_jobs=1, random_state=1))])"
      ]
     },
     "metadata": {},
     "execution_count": 9
    }
   ],
   "source": [
    "pipeline.fit(X_train, y_train)"
   ]
  },
  {
   "cell_type": "code",
   "execution_count": 10,
   "metadata": {},
   "outputs": [
    {
     "output_type": "stream",
     "name": "stdout",
     "text": [
      "RF from pipeline:\n",
      "\n",
      "Metrics for train:\n",
      "roc_auc_score 0.9976\n",
      "f1_score 0.9973\n",
      "accuracy_score 0.9975\n",
      "\n",
      "Metrics for test:\n",
      "roc_auc_score 0.9\n",
      "f1_score 0.8929\n",
      "accuracy_score 0.9018\n"
     ]
    }
   ],
   "source": [
    "from sklearn.metrics import roc_auc_score, f1_score, accuracy_score\n",
    "\n",
    "\n",
    "print(\"RF from pipeline:\")\n",
    "\n",
    "print(\"\\nMetrics for train:\")\n",
    "for metric in [roc_auc_score, f1_score, accuracy_score]:\n",
    "    print(metric.__name__, round(metric(y_train, pipeline.predict(X_train)), 4))\n",
    "\n",
    "print(\"\\nMetrics for test:\")\n",
    "for metric in [roc_auc_score, f1_score, accuracy_score]:\n",
    "    print(metric.__name__, round(metric(y_test, pipeline.predict(X_test)), 4))"
   ]
  }
 ],
 "metadata": {
  "kernelspec": {
   "display_name": "Python 3.7.6 64-bit ('anaconda3': virtualenv)",
   "language": "python",
   "name": "python37664bitanaconda3virtualenv60f99e7c43554557828048e37359e600"
  },
  "language_info": {
   "codemirror_mode": {
    "name": "ipython",
    "version": 3
   },
   "file_extension": ".py",
   "mimetype": "text/x-python",
   "name": "python",
   "nbconvert_exporter": "python",
   "pygments_lexer": "ipython3",
   "version": "3.7.6-final"
  }
 },
 "nbformat": 4,
 "nbformat_minor": 4
}