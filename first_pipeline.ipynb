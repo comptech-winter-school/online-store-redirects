{
 "cells": [
  {
   "cell_type": "code",
   "execution_count": 72,
   "metadata": {},
   "outputs": [],
   "source": [
    "from utils.make_sample import make_sample\n",
    "import Levenshtein\n",
    "import pandas as pd\n",
    "import numpy as np"
   ]
  },
  {
   "cell_type": "code",
   "execution_count": 62,
   "metadata": {},
   "outputs": [],
   "source": [
    "path_to_file = \"./data/redir\""
   ]
  },
  {
   "cell_type": "code",
   "execution_count": 106,
   "metadata": {},
   "outputs": [],
   "source": [
    "data = make_sample(path_to_file)"
   ]
  },
  {
   "cell_type": "code",
   "execution_count": 107,
   "metadata": {},
   "outputs": [
    {
     "data": {
      "text/plain": [
       "(3003, 4)"
      ]
     },
     "execution_count": 107,
     "metadata": {},
     "output_type": "execute_result"
    }
   ],
   "source": [
    "data.shape"
   ]
  },
  {
   "cell_type": "code",
   "execution_count": 112,
   "metadata": {},
   "outputs": [],
   "source": [
    "def preprocess_query_category(data):\n",
    "    data['query'] = data['query'].apply(preprocessing_text)\n",
    "    data['category_name'] = data['category_name'].apply(preprocessing_text)\n",
    "\n",
    "    return data"
   ]
  },
  {
   "cell_type": "code",
   "execution_count": 116,
   "metadata": {},
   "outputs": [],
   "source": [
    "X = preprocess_query_category(data.drop(columns=['is_redirect']))\n",
    "y = data['is_redirect']"
   ]
  },
  {
   "cell_type": "code",
   "execution_count": 120,
   "metadata": {},
   "outputs": [
    {
     "data": {
      "text/html": [
       "<div>\n",
       "<style scoped>\n",
       "    .dataframe tbody tr th:only-of-type {\n",
       "        vertical-align: middle;\n",
       "    }\n",
       "\n",
       "    .dataframe tbody tr th {\n",
       "        vertical-align: top;\n",
       "    }\n",
       "\n",
       "    .dataframe thead th {\n",
       "        text-align: right;\n",
       "    }\n",
       "</style>\n",
       "<table border=\"1\" class=\"dataframe\">\n",
       "  <thead>\n",
       "    <tr style=\"text-align: right;\">\n",
       "      <th></th>\n",
       "      <th>query</th>\n",
       "      <th>category_id</th>\n",
       "      <th>category_name</th>\n",
       "    </tr>\n",
       "  </thead>\n",
       "  <tbody>\n",
       "    <tr>\n",
       "      <th>0</th>\n",
       "      <td>dior хайлайтер</td>\n",
       "      <td>3327621</td>\n",
       "      <td>хайлайтеры</td>\n",
       "    </tr>\n",
       "    <tr>\n",
       "      <th>1</th>\n",
       "      <td>dior хайлатер</td>\n",
       "      <td>3327621</td>\n",
       "      <td>хайлайтеры</td>\n",
       "    </tr>\n",
       "    <tr>\n",
       "      <th>2</th>\n",
       "      <td>diorskin mineral nude luminizer</td>\n",
       "      <td>3327621</td>\n",
       "      <td>хайлайтеры</td>\n",
       "    </tr>\n",
       "    <tr>\n",
       "      <th>3</th>\n",
       "      <td>хайдайтер dior</td>\n",
       "      <td>3327621</td>\n",
       "      <td>хайлайтеры</td>\n",
       "    </tr>\n",
       "    <tr>\n",
       "      <th>4</th>\n",
       "      <td>хайлайтер dior</td>\n",
       "      <td>3327621</td>\n",
       "      <td>хайлайтеры</td>\n",
       "    </tr>\n",
       "    <tr>\n",
       "      <th>...</th>\n",
       "      <td>...</td>\n",
       "      <td>...</td>\n",
       "      <td>...</td>\n",
       "    </tr>\n",
       "    <tr>\n",
       "      <th>2998</th>\n",
       "      <td>парфюмерная вода yves saint laurent black opiu...</td>\n",
       "      <td>873904</td>\n",
       "      <td>нишевая парфюмерия</td>\n",
       "    </tr>\n",
       "    <tr>\n",
       "      <th>2999</th>\n",
       "      <td>крем гель для умывания dove увлажняющий</td>\n",
       "      <td>874090</td>\n",
       "      <td>патчи</td>\n",
       "    </tr>\n",
       "    <tr>\n",
       "      <th>3000</th>\n",
       "      <td>жидкие патчи для глаз levrana forever young</td>\n",
       "      <td>873248</td>\n",
       "      <td>сыворотки</td>\n",
       "    </tr>\n",
       "    <tr>\n",
       "      <th>3001</th>\n",
       "      <td>кисть для пудры sisley kabuki brush</td>\n",
       "      <td>873874</td>\n",
       "      <td>для глаз</td>\n",
       "    </tr>\n",
       "    <tr>\n",
       "      <th>3002</th>\n",
       "      <td>шампунь для волос kerasys blooming flowery</td>\n",
       "      <td>873178</td>\n",
       "      <td>кондиционеры</td>\n",
       "    </tr>\n",
       "  </tbody>\n",
       "</table>\n",
       "<p>3003 rows × 3 columns</p>\n",
       "</div>"
      ],
      "text/plain": [
       "                                                  query  category_id  \\\n",
       "0                                        dior хайлайтер      3327621   \n",
       "1                                         dior хайлатер      3327621   \n",
       "2                       diorskin mineral nude luminizer      3327621   \n",
       "3                                        хайдайтер dior      3327621   \n",
       "4                                        хайлайтер dior      3327621   \n",
       "...                                                 ...          ...   \n",
       "2998  парфюмерная вода yves saint laurent black opiu...       873904   \n",
       "2999            крем гель для умывания dove увлажняющий       874090   \n",
       "3000        жидкие патчи для глаз levrana forever young       873248   \n",
       "3001                кисть для пудры sisley kabuki brush       873874   \n",
       "3002         шампунь для волос kerasys blooming flowery       873178   \n",
       "\n",
       "           category_name  \n",
       "0             хайлайтеры  \n",
       "1             хайлайтеры  \n",
       "2             хайлайтеры  \n",
       "3             хайлайтеры  \n",
       "4             хайлайтеры  \n",
       "...                  ...  \n",
       "2998  нишевая парфюмерия  \n",
       "2999               патчи  \n",
       "3000           сыворотки  \n",
       "3001            для глаз  \n",
       "3002        кондиционеры  \n",
       "\n",
       "[3003 rows x 3 columns]"
      ]
     },
     "execution_count": 120,
     "metadata": {},
     "output_type": "execute_result"
    }
   ],
   "source": [
    "X"
   ]
  },
  {
   "cell_type": "code",
   "execution_count": 141,
   "metadata": {},
   "outputs": [],
   "source": [
    "from sklearn.feature_extraction.text import TfidfVectorizer"
   ]
  },
  {
   "cell_type": "code",
   "execution_count": 142,
   "metadata": {},
   "outputs": [],
   "source": [
    "vectorizer = TfidfVectorizer(analyzer=\"char_wb\",\n",
    "                             ngram_range=(2, 3),\n",
    "                             max_features=1000)"
   ]
  },
  {
   "cell_type": "code",
   "execution_count": null,
   "metadata": {},
   "outputs": [],
   "source": [
    "vectorizer.fit_transform(all_text)"
   ]
  },
  {
   "cell_type": "code",
   "execution_count": 102,
   "metadata": {},
   "outputs": [],
   "source": [
    "def make_features(data):\n",
    "    \"\"\"\n",
    "    Функция для создания фичей.\n",
    "    \"\"\"\n",
    "    \n",
    "    # TODO переписать это гомно в один цикл.\n",
    "    \n",
    "    data['len_of_query'] = data['query'].apply(lambda text: len(text))\n",
    "    data['num_of_word_in_query'] = data['query'].apply(lambda text: len(text.split()))\n",
    "    \n",
    "    data['category_name'] = data['category_name'].apply(preprocessing_text)\n",
    "    data['len_of_category_name'] = data['category_name'].apply(lambda text: len(text))\n",
    "    data['num_of_word_in_category_name'] = data['category_name'].apply(lambda text: len(text.split()))\n",
    "    \n",
    "    data['is_query_contains_brand'] = data['query'].apply(is_query_contains_brand)\n",
    "    \n",
    "# data.drop(columns=['category_id', 'query', 'category_name'], inplace=True)\n",
    "    \n",
    "    return data"
   ]
  },
  {
   "cell_type": "code",
   "execution_count": 104,
   "metadata": {},
   "outputs": [],
   "source": [
    "def preprocessing_text(s):\n",
    "    # Функция для предобработки текста запроса/названия категории\n",
    "    #:param s: str\n",
    "    # замена некорректного символа\n",
    "    s = s.replace(\"&#039;\", \"'\")\n",
    "    # удаление знаков препинания  \n",
    "    s = s.translate(str.maketrans('', '', '!\"#$%&\\'()*+,-./:;<=>?@[\\\\]^_`{|}~'))\n",
    "    # приведение к нижнему регистру\n",
    "    s = s.lower()\n",
    "    # удаление лишних пробелов\n",
    "    s = ' '.join(s.split())\n",
    "    return s\n",
    "\n",
    "\n",
    "def is_query_contains_brand(query):\n",
    "    brands = pd.read_csv(path_to_file + \"/unique_brands.csv\")\n",
    "    brands = [str(brand) for brand in brands.iloc[:, 0]]\n",
    "    for brand in brands:\n",
    "        res = query.find(brand)\n",
    "        if res != -1:\n",
    "            return 1\n",
    "    return 0\n",
    "\n",
    "\n",
    "def get_levenshtein_distance_between(query_text, category_name):\n",
    "    return Levenshtein.distance(query_text, category_name)"
   ]
  }
 ],
 "metadata": {
  "kernelspec": {
   "display_name": "Python 3",
   "language": "python",
   "name": "python3"
  },
  "language_info": {
   "codemirror_mode": {
    "name": "ipython",
    "version": 3
   },
   "file_extension": ".py",
   "mimetype": "text/x-python",
   "name": "python",
   "nbconvert_exporter": "python",
   "pygments_lexer": "ipython3",
   "version": "3.7.6"
  }
 },
 "nbformat": 4,
 "nbformat_minor": 4
}
